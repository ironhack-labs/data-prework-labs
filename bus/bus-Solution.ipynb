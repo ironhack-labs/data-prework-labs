{
 "cells": [
  {
   "cell_type": "markdown",
   "metadata": {},
   "source": [
    "# Bus\n",
    "\n",
    "This bus has a passenger entry and exit control system to monitor the number of occupants it carries and thus detect when there is too high a capacity.\n",
    "\n",
    "At each stop the entry and exit of passengers is represented by a tuple consisting of two integer numbers.\n",
    "```\n",
    "bus_stop = (in, out)\n",
    "```\n",
    "The succession of stops is represented by a list of these tuples.\n",
    "```\n",
    "stops = [(in1, out1), (in2, out2), (in3, out3), (in4, out4)]\n",
    "```\n",
    "\n",
    "## Goals:\n",
    "* lists, tuples\n",
    "* while/for loops\n",
    "* minimum, maximum, length\n",
    "* average, standard deviation\n",
    "\n",
    "## Tasks\n",
    "1. Calculate the number of stops.\n",
    "2. Assign to a variable a list whose elements are the number of passengers at each stop (in-out),\n",
    "3. Find the maximum occupation of the bus.\n",
    "4. Calculate the average occupation. And the standard deviation.\n"
   ]
  },
  {
   "cell_type": "code",
   "execution_count": 1,
   "metadata": {},
   "outputs": [],
   "source": [
    "# variables\n",
    "#I had to initialize them, so I put the values I wanted\n",
    "\n",
    "in1=20\n",
    "in2=10\n",
    "in3=30\n",
    "in4=10\n",
    "out1=0\n",
    "out2=20\n",
    "out3=10\n",
    "out4=10\n",
    "stops = [(in1, out1), (in2, out2), (in3, out3), (in4, out4)]"
   ]
  },
  {
   "cell_type": "code",
   "execution_count": 2,
   "metadata": {},
   "outputs": [
    {
     "name": "stdout",
     "output_type": "stream",
     "text": [
      "Number of stops:  4\n"
     ]
    }
   ],
   "source": [
    "# 1. Calculate the number of stops.\n",
    "number_stops=len(stops)\n",
    "print(\"Number of stops: \", number_stops)\n"
   ]
  },
  {
   "cell_type": "code",
   "execution_count": 3,
   "metadata": {},
   "outputs": [
    {
     "name": "stdout",
     "output_type": "stream",
     "text": [
      "[20, 10, 30, 30]\n"
     ]
    }
   ],
   "source": [
    "# 2. Assign a variable a list whose elements are the number of passengers in each stop: \n",
    "# Each item depends on the previous item in the list + in - out.\n",
    "#Assumption1: the bus starts empty\n",
    "#Assumption2: the number of passengers are being calculated after the bus leaves the stop. \n",
    "in_bus=[]\n",
    "\n",
    "for s in range(len(stops)):\n",
    "    if s>0:\n",
    "        diff=(stops[s][0]-stops[s][1])+in_bus[s-1]\n",
    "        in_bus.append(diff)\n",
    "    elif s==0:\n",
    "        diff=(stops[s][0]-stops[s][1])\n",
    "        in_bus.append(diff)\n",
    "\n",
    "print(in_bus)\n"
   ]
  },
  {
   "cell_type": "code",
   "execution_count": 4,
   "metadata": {},
   "outputs": [
    {
     "name": "stdout",
     "output_type": "stream",
     "text": [
      "The maximum occupation was 30 in the stop number 3\n"
     ]
    }
   ],
   "source": [
    "# 3. Find the maximum occupation of the bus\n",
    "max_occ=max(in_bus)\n",
    "\n",
    "position=in_bus.index(max_occ)+1\n",
    "\n",
    "print(\"The maximum occupation was %d in the stop number %d\" %(max_occ,position))"
   ]
  },
  {
   "cell_type": "code",
   "execution_count": 5,
   "metadata": {},
   "outputs": [
    {
     "name": "stdout",
     "output_type": "stream",
     "text": [
      "The average number of passengers are:  22.5\n",
      "standard deviation is: 8.29\n"
     ]
    }
   ],
   "source": [
    "# 4. Calculate the average occupation. And the standard deviation.\n",
    "\n",
    "avg_occ=(sum(in_bus)/len(in_bus))\n",
    "print(\"The average number of passengers are: \",avg_occ)\n",
    "\n",
    "summation=0\n",
    "for s in in_bus:\n",
    "    summation+=((s-avg_occ)**2)\n",
    "\n",
    "stdev=((summation/len(in_bus)))**0.5\n",
    "\n",
    "print(\"standard deviation is: %.2f\" %stdev)\n"
   ]
  },
  {
   "cell_type": "code",
   "execution_count": null,
   "metadata": {},
   "outputs": [],
   "source": []
  }
 ],
 "metadata": {
  "kernelspec": {
   "display_name": "Python 3",
   "language": "python",
   "name": "python3"
  },
  "language_info": {
   "codemirror_mode": {
    "name": "ipython",
    "version": 3
   },
   "file_extension": ".py",
   "mimetype": "text/x-python",
   "name": "python",
   "nbconvert_exporter": "python",
   "pygments_lexer": "ipython3",
   "version": "3.7.4"
  }
 },
 "nbformat": 4,
 "nbformat_minor": 2
}
