{
 "cells": [
  {
   "cell_type": "markdown",
   "metadata": {},
   "source": [
    "# Bus\n",
    "\n",
    "This bus has a passenger entry and exit control system to monitor the number of occupants it carries and thus detect when there is too high a capacity.\n",
    "\n",
    "At each stop the entry and exit of passengers is represented by a tuple consisting of two integer numbers.\n",
    "```\n",
    "bus_stop = (in, out)\n",
    "```\n",
    "The succession of stops is represented by a list of these tuples.\n",
    "```\n",
    "stops = [(in1, out1), (in2, out2), (in3, out3), (in4, out4)]\n",
    "```\n",
    "\n",
    "## Goals:\n",
    "* lists, tuples\n",
    "* while/for loops\n",
    "* minimum, maximum, length\n",
    "* average, standard deviation\n",
    "\n",
    "## Tasks\n",
    "1. Calculate the number of stops.\n",
    "2. Assign to a variable a list whose elements are the number of passengers at each stop (in-out),\n",
    "3. Find the maximum occupation of the bus.\n",
    "4. Calculate the average occupation. And the standard deviation.\n"
   ]
  },
  {
   "cell_type": "code",
   "execution_count": 6,
   "metadata": {},
   "outputs": [],
   "source": [
    "# variables\n",
    "\n",
    "entrada = 0\n",
    "saida = 0\n",
    "\n",
    "bus_stop = int()\n",
    "limite = 50\n",
    "paradas = []\n"
   ]
  },
  {
   "cell_type": "code",
   "execution_count": 7,
   "metadata": {},
   "outputs": [
    {
     "name": "stdout",
     "output_type": "stream",
     "text": [
      "*** '99' na variável 'entrada' para parar ***\n",
      "\n",
      "\n",
      "entrada = 2\n",
      "saida = 2\n",
      "\n",
      "entrada = 1\n",
      "saida = 1\n",
      "\n",
      "entrada = 99\n",
      "\n",
      "Quantidade de paradas =  2 \n",
      "Paradas [(2, 2), (1, 1)]\n"
     ]
    }
   ],
   "source": [
    "# Número de passageiros ENTRADA e SAÍDA\n",
    "\n",
    "print(\"*** '99' na variável 'entrada' para parar ***\\n\")\n",
    "\n",
    "while entrada !=  '99':\n",
    "    entrada = input(\"\\nentrada = \")\n",
    "    if entrada == '99':\n",
    "        break\n",
    "    else:\n",
    "        saida = input(\"saida = \")\n",
    "    bus_stop = (int(entrada), int(saida))\n",
    "    paradas.append (bus_stop)\n",
    "\n",
    "\n",
    "print(\"\\nQuantidade de paradas = \", len(paradas), \"\\nParadas\", (paradas))"
   ]
  },
  {
   "cell_type": "code",
   "execution_count": 8,
   "metadata": {},
   "outputs": [
    {
     "name": "stdout",
     "output_type": "stream",
     "text": [
      "Quantidade de paradas =  2\n"
     ]
    }
   ],
   "source": [
    "# 1. Calculate the number of stops.\n",
    "\n",
    "qtd_paradas = 0\n",
    "\n",
    "for t in paradas:\n",
    "\tqtd_paradas +=1\n",
    "\n",
    "print(\"Quantidade de paradas = \", qtd_paradas)\n",
    "\n"
   ]
  },
  {
   "cell_type": "code",
   "execution_count": 10,
   "metadata": {},
   "outputs": [
    {
     "name": "stdout",
     "output_type": "stream",
     "text": [
      "Histórico de ocupantes no ônibus =  [0, 0]\n",
      "Quantidade de passageiros no ônibus (final) =  0\n",
      "Máximo de ocupantes =  0\n",
      "Média de passageiros  =  0.0\n"
     ]
    }
   ],
   "source": [
    "# 2. Assign a variable a list whose elements are the number of passengers in each stop: \n",
    "\n",
    "\n",
    "# Each item depends on the previous item in the list + in - out.\n",
    "# Number passengers in the bus \n",
    "# 3. Find the maximum occupation of the bus.\n",
    "# 4. Calculate the average occupation. And the standard deviation.\n",
    "\n",
    "\n",
    "##Number passengers in the bus##\n",
    "##Max of passengers##\n",
    "\n",
    "number_pas = 0\n",
    "total_pas = 0\n",
    "hist_ocup = []\n",
    "\n",
    "for tupla in paradas:\n",
    "\tnumber_pas = tupla[0]-tupla[1]\n",
    "\ttotal_pas+=number_pas\n",
    "\thist_ocup.append(total_pas)\n",
    "\n",
    "soma = sum(hist_ocup)\n",
    "\t\n",
    "print('Histórico de ocupantes no ônibus = ', hist_ocup)\n",
    "print('Quantidade de passageiros no ônibus (final) = ',total_pas)\n",
    "print('Máximo de ocupantes = ', max(hist_ocup))\n",
    "print('Média de passageiros  = ', soma/len(hist_ocup))\n",
    "\n"
   ]
  },
  {
   "cell_type": "code",
   "execution_count": 11,
   "metadata": {},
   "outputs": [
    {
     "name": "stdout",
     "output_type": "stream",
     "text": [
      "Desvio Padrão do histórico de passageiros =  0.00\n"
     ]
    }
   ],
   "source": [
    "##Desvio padrão##\n",
    "\n",
    "import statistics\n",
    "print( \"Desvio Padrão do histórico de passageiros = \", \"%.2f\" %(statistics.stdev(hist_ocup)))\n",
    "\n",
    "\n"
   ]
  },
  {
   "cell_type": "code",
   "execution_count": null,
   "metadata": {},
   "outputs": [],
   "source": []
  }
 ],
 "metadata": {
  "kernelspec": {
   "display_name": "Python 3",
   "language": "python",
   "name": "python3"
  },
  "language_info": {
   "codemirror_mode": {
    "name": "ipython",
    "version": 3
   },
   "file_extension": ".py",
   "mimetype": "text/x-python",
   "name": "python",
   "nbconvert_exporter": "python",
   "pygments_lexer": "ipython3",
   "version": "3.7.6"
  }
 },
 "nbformat": 4,
 "nbformat_minor": 2
}
