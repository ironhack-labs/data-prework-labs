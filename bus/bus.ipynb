{
 "cells": [
  {
   "cell_type": "markdown",
   "metadata": {},
   "source": [
    "# Bus\n",
    "\n",
    "This bus has a passenger entry and exit control system to monitor the number of occupants it carries and thus detect when there is too high a capacity.\n",
    "\n",
    "At each stop the entry and exit of passengers is represented by a tuple consisting of two integer numbers.\n",
    "```\n",
    "bus_stop = (in, out)\n",
    "```\n",
    "The succession of stops is represented by a list of these tuples.\n",
    "```\n",
    "stops = [(in1, out1), (in2, out2), (in3, out3), (in4, out4)]\n",
    "```\n",
    "\n",
    "## Goals:\n",
    "* lists, tuples\n",
    "* while/for loops\n",
    "* minimum, maximum, length\n",
    "* average, standard deviation\n",
    "\n",
    "## Tasks\n",
    "1. Calculate the number of stops.\n",
    "2. Assign to a variable a list whose elements are the number of passengers at each stop (in-out),\n",
    "3. Find the maximum occupation of the bus.\n",
    "4. Calculate the average occupation. And the standard deviation.\n"
   ]
  },
  {
   "cell_type": "code",
   "execution_count": 2,
   "metadata": {},
   "outputs": [],
   "source": [
    "# variables\n",
    "stops = [(10, 0), (4, 1), (3, 5), (3, 4), (5, 1), (1, 5), (5, 8 ), (4, 6), (2, 3)]\n"
   ]
  },
  {
   "cell_type": "code",
   "execution_count": 3,
   "metadata": {},
   "outputs": [
    {
     "name": "stdout",
     "output_type": "stream",
     "text": [
      "The number of stops is: 9\n"
     ]
    }
   ],
   "source": [
    "# 1. Calculate the number of stops.\n",
    "len_stops = len(stops)\n",
    "print('The number of stops is:', len_stops)\n"
   ]
  },
  {
   "cell_type": "code",
   "execution_count": 4,
   "metadata": {},
   "outputs": [],
   "source": [
    "# 2. Assign a variable a list whose elements are the number of passengers in each stop: \n",
    "# Each item depends on the previous item in the list + in - out.\n",
    "\n",
    "'''Converting each set to a list so we can have a list of list to perform easier operations'''\n",
    "\n",
    "stops_lists = []\n",
    "\n",
    "for i in range(len(stops)):\n",
    "    x = list(stops[i])\n",
    "    stops_lists.append(x)\n",
    "\n",
    "\n",
    "'''Calculating total of in and outs at each stop individually'''\n",
    "\n",
    "in_out = []\n",
    "for i in range(len(stops_lists)):\n",
    "    x = stops_lists[i][0] - stops_lists[i][1]\n",
    "    in_out.append(x)\n",
    "\n",
    "\n",
    "'''Calculating how much people are at each stop'''\n",
    "\n",
    "occupation_each_stop = []\n",
    "\n",
    "for i in range(len(in_out)):\n",
    "    x = sum(in_out[0:i+1])\n",
    "    occupation_each_stop.append(x)\n",
    "\n"
   ]
  },
  {
   "cell_type": "code",
   "execution_count": 4,
   "metadata": {},
   "outputs": [
    {
     "name": "stdout",
     "output_type": "stream",
     "text": [
      "The maximum occupation of the bus is 14\n"
     ]
    }
   ],
   "source": [
    "# 3. Find the maximum occupation of the bus.\n",
    "print('The maximum occupation of the bus is', max(occupation_each_stop))\n"
   ]
  },
  {
   "cell_type": "code",
   "execution_count": 6,
   "metadata": {},
   "outputs": [
    {
     "name": "stdout",
     "output_type": "stream",
     "text": [
      "The average occupation is 9.333333333333334\n",
      "The std of occupation list is: 3.39\n"
     ]
    }
   ],
   "source": [
    "# 4. Calculate the average occupation. And the standard deviation.\n",
    "mean_occupation = sum(occupation_each_stop)/len(occupation_each_stop)\n",
    "print('The average occupation is', mean_occupation)\n",
    "\n",
    "var_occupation_each_stop = 0\n",
    "\n",
    "for i in occupation_each_stop:\n",
    "    num = ((i - mean_occupation) ** 2) / (len(occupation_each_stop)-1) #assuming that the list is a sample of the entire population\n",
    "    var_occupation_each_stop += num\n",
    "\n",
    "std_occupation = var_occupation_each_stop ** (1/2)\n",
    "print('The std of occupation list is: %.2f' % std_occupation)\n",
    "\n",
    "\n"
   ]
  }
 ],
 "metadata": {
  "kernelspec": {
   "display_name": "Python 3",
   "language": "python",
   "name": "python3"
  },
  "language_info": {
   "codemirror_mode": {
    "name": "ipython",
    "version": 3
   },
   "file_extension": ".py",
   "mimetype": "text/x-python",
   "name": "python",
   "nbconvert_exporter": "python",
   "pygments_lexer": "ipython3",
   "version": "3.7.3"
  }
 },
 "nbformat": 4,
 "nbformat_minor": 2
}
