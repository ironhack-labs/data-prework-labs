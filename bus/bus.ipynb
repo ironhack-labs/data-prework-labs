{
 "cells": [
  {
   "cell_type": "markdown",
   "metadata": {},
   "source": [
    "# Bus\n",
    "\n",
    "This bus has a passenger entry and exit control system to monitor the number of occupants it carries and thus detect when there is too high a capacity.\n",
    "\n",
    "At each stop the entry and exit of passengers is represented by a tuple consisting of two integer numbers.\n",
    "```\n",
    "bus_stop = (in, out)\n",
    "```\n",
    "The succession of stops is represented by a list of these tuples.\n",
    "```\n",
    "stops = [(in1, out1), (in2, out2), (in3, out3), (in4, out4)]\n",
    "```\n",
    "\n",
    "## Goals:\n",
    "* lists, tuples\n",
    "* while/for loops\n",
    "* minimum, maximum, length\n",
    "* average, standard deviation\n",
    "\n",
    "## Tasks\n",
    "1. Calculate the number of stops.\n",
    "2. Assign to a variable a list whose elements are the number of passengers at each stop (in-out),\n",
    "3. Find the maximum occupation of the bus.\n",
    "4. Calculate the average occupation. And the standard deviation.\n"
   ]
  },
  {
   "cell_type": "code",
   "execution_count": 34,
   "metadata": {},
   "outputs": [
    {
     "name": "stdout",
     "output_type": "stream",
     "text": [
      "The number of stops is 9\n",
      "The number of passengers at each stop: [10, 3, -2, -1, 4, -4, -3, -2, -1]\n",
      "Maximum occupation of the bus is 14 passengers\n",
      "Passengers in the bus: [10, 13, 11, 10, 14, 10, 7, 5, 4]\n",
      "The average occupation is 9.333333333333334\n",
      "The standart deviation is 3.391164991562634\n"
     ]
    }
   ],
   "source": [
    "# variables\n",
    "import math\n",
    "stops = [(10, 0), (4, 1), (3, 5), (3, 4), (5, 1), (1, 5), (5, 8 ), (4, 6), (2, 3)]\n",
    "print('The number of stops is', len(stops))\n",
    "passengers = []\n",
    "for i in range(len(stops)):\n",
    "    n = stops[i][0] - stops[i][1]\n",
    "    passengers.append(n)\n",
    "print('The number of passengers at each stop:', passengers)\n",
    "maximum = 0\n",
    "summ = 0\n",
    "passengers_list = []\n",
    "for j in range(len(passengers)):\n",
    "    summ += passengers[j]\n",
    "    passengers_list.append(summ)\n",
    "    if summ > maximum:\n",
    "        maximum = summ\n",
    "print('Maximum occupation of the bus is {0} passengers'.format(maximum))\n",
    "all_passengers = 0\n",
    "for k in range(len(passengers_list)):\n",
    "    all_passengers += passengers_list[k]\n",
    "average = all_passengers/len(passengers)\n",
    "print('Passengers in the bus:', passengers_list)\n",
    "print('The average occupation is', average)\n",
    "numerator = 0\n",
    "for n in range(len(passengers_list)):\n",
    "    numerator += (passengers_list[n] - average)**2\n",
    "s2 = numerator/(len(passengers_list) - 1)\n",
    "print('The standart deviation is', math.sqrt(s2))"
   ]
  },
  {
   "cell_type": "code",
   "execution_count": 2,
   "metadata": {},
   "outputs": [],
   "source": [
    "# 1. Calculate the number of stops.\n",
    "\n"
   ]
  },
  {
   "cell_type": "code",
   "execution_count": 3,
   "metadata": {},
   "outputs": [],
   "source": [
    "# 2. Assign a variable a list whose elements are the number of passengers in each stop: \n",
    "# Each item depends on the previous item in the list + in - out.\n",
    "\n"
   ]
  },
  {
   "cell_type": "code",
   "execution_count": 4,
   "metadata": {},
   "outputs": [],
   "source": [
    "# 3. Find the maximum occupation of the bus.\n",
    "\n"
   ]
  },
  {
   "cell_type": "code",
   "execution_count": 5,
   "metadata": {},
   "outputs": [],
   "source": [
    "# 4. Calculate the average occupation. And the standard deviation.\n",
    "\n"
   ]
  },
  {
   "cell_type": "code",
   "execution_count": null,
   "metadata": {},
   "outputs": [],
   "source": []
  }
 ],
 "metadata": {
  "kernelspec": {
   "display_name": "Python 3",
   "language": "python",
   "name": "python3"
  },
  "language_info": {
   "codemirror_mode": {
    "name": "ipython",
    "version": 3
   },
   "file_extension": ".py",
   "mimetype": "text/x-python",
   "name": "python",
   "nbconvert_exporter": "python",
   "pygments_lexer": "ipython3",
   "version": "3.7.3"
  }
 },
 "nbformat": 4,
 "nbformat_minor": 2
}
