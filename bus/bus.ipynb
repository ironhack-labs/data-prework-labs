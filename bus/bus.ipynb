{
 "cells": [
  {
   "cell_type": "markdown",
   "metadata": {},
   "source": [
    "# Bus\n",
    "\n",
    "This bus has a passenger entry and exit control system to monitor the number of occupants it carries and thus detect when there is too high a capacity.\n",
    "\n",
    "At each stop the entry and exit of passengers is represented by a tuple consisting of two integer numbers.\n",
    "```\n",
    "bus_stop = (in, out)\n",
    "```\n",
    "The succession of stops is represented by a list of these tuples.\n",
    "```\n",
    "stops = [(in1, out1), (in2, out2), (in3, out3), (in4, out4)]\n",
    "```\n",
    "\n",
    "## Goals:\n",
    "* lists, tuples\n",
    "* while/for loops\n",
    "* minimum, maximum, length\n",
    "* average, standard deviation\n",
    "\n",
    "## Tasks\n",
    "1. Calculate the number of stops.\n",
    "2. Assign to a variable a list whose elements are the number of passengers at each stop (in-out),\n",
    "3. Find the maximum occupation of the bus.\n",
    "4. Calculate the average occupation. And the standard deviation.\n"
   ]
  },
  {
   "cell_type": "code",
   "execution_count": 14,
   "metadata": {},
   "outputs": [],
   "source": [
    "# variables\n",
    "got_in = (2,5,4,6)\n",
    "got_out = (1,3,3,6)\n"
   ]
  },
  {
   "cell_type": "code",
   "execution_count": 15,
   "metadata": {},
   "outputs": [
    {
     "name": "stdout",
     "output_type": "stream",
     "text": [
      "[(2, 1), (5, 3), (4, 3), (6, 6)]\n",
      "The number of stops is 4\n"
     ]
    }
   ],
   "source": [
    "# 1. Calculate the number of stops.\n",
    "\n",
    "stops=[]\n",
    "\n",
    "for i in range(len(got_in)):\n",
    "    stops.append((got_in[i],got_out[i]))\n",
    "\n",
    "print(stops)\n",
    "print(\"The number of stops is\", len(stops))\n"
   ]
  },
  {
   "cell_type": "code",
   "execution_count": 16,
   "metadata": {},
   "outputs": [
    {
     "name": "stdout",
     "output_type": "stream",
     "text": [
      "[1, 2, 1, 0]\n"
     ]
    }
   ],
   "source": [
    "# 2. Assign to a variable a list whose elements are the number of passengers at each stop (in-out),\n",
    "# Each item depends on the previous item in the list + in - out.\n",
    "\n",
    "pasg_by_stop = []\n",
    "\n",
    "for i in range(len(got_in)):\n",
    "    pasg_by_stop.append(stops[i][0]-stops[i][1])\n",
    "    \n",
    "print(pasg_by_stop)"
   ]
  },
  {
   "cell_type": "code",
   "execution_count": 17,
   "metadata": {},
   "outputs": [
    {
     "name": "stdout",
     "output_type": "stream",
     "text": [
      "2\n"
     ]
    }
   ],
   "source": [
    "# 3. Find the maximum occupation of the bus.\n",
    "max_pasg = max(pasg_by_stop)\n",
    "\n",
    "print(max_pasg)\n"
   ]
  },
  {
   "cell_type": "code",
   "execution_count": 19,
   "metadata": {},
   "outputs": [
    {
     "name": "stdout",
     "output_type": "stream",
     "text": [
      "Standard Deviation of the occupation of bus is 0.816496580927726\n",
      "The average occupation of the bus is 1.0\n"
     ]
    }
   ],
   "source": [
    "# 4. Calculate the average occupation. And the standard deviation.\n",
    "\n",
    "pasg_mean = sum(pasg_by_stop)/len(pasg_by_stop)\n",
    "\n",
    "import statistics \n",
    "from statistics import stdev \n",
    "\n",
    "pasg_stdev = stdev(pasg_by_stop)\n",
    "\n",
    "print(\"Standard Deviation of the occupation of bus is\", pasg_stdev )\n",
    "print(\"The average occupation of the bus is\", pasg_mean)\n"
   ]
  },
  {
   "cell_type": "markdown",
   "metadata": {},
   "source": []
  }
 ],
 "metadata": {
  "kernelspec": {
   "display_name": "Python 3",
   "language": "python",
   "name": "python3"
  },
  "language_info": {
   "codemirror_mode": {
    "name": "ipython",
    "version": 3
   },
   "file_extension": ".py",
   "mimetype": "text/x-python",
   "name": "python",
   "nbconvert_exporter": "python",
   "pygments_lexer": "ipython3",
   "version": "3.7.3"
  }
 },
 "nbformat": 4,
 "nbformat_minor": 2
}
