{
 "cells": [
  {
   "cell_type": "markdown",
   "metadata": {},
   "source": [
    "# Processor temperature\n",
    "\n",
    "We have a temperature sensor in the processor of our company's server. We want to analyze the data provided to determinate whether we should change the cooling system for a better one. It is expensive and as a data analyst we cannot make decisions without a basis.\n",
    "\n",
    "We provide the temperatures measured throughout the 24 hours of a day in a list-type data structure composed of 24 integers:\n",
    "```\n",
    "temperatures_C = [33,66,65,0,59,60,62,64,70,76,80,69,80,83,68,79,61,53,50,49,53,48,45,39]\n",
    "```\n",
    "\n",
    "## Goals\n",
    "\n",
    "1. Treatment of lists\n",
    "2. Use of loop or list comprenhention\n",
    "3. Calculation of the mean, minimum and maximum.\n",
    "4. Filtering of lists.\n",
    "5. Interpolate an outlier.\n",
    "6. Logical operators.\n",
    "7. Print"
   ]
  },
  {
   "cell_type": "markdown",
   "metadata": {},
   "source": [
    "## Temperature graph\n",
    "To facilitate understanding, the temperature graph is shown below. You do not have to do anything in this section. The test starts in **Problem**."
   ]
  },
  {
   "cell_type": "code",
   "execution_count": 3,
   "metadata": {},
   "outputs": [
    {
     "data": {
      "text/plain": [
       "Text(0.5, 1.0, 'Temperatures of our server throughout the day')"
      ]
     },
     "execution_count": 3,
     "metadata": {},
     "output_type": "execute_result"
    },
    {
     "data": {
      "image/png": "[encoded data removed]",
      "text/plain": [
       "<Figure size 432x288 with 1 Axes>"
      ]
     },
     "metadata": {
      "needs_background": "light"
     },
     "output_type": "display_data"
    }
   ],
   "source": [
    "# import\n",
    "import matplotlib.pyplot as plt\n",
    "%matplotlib inline\n",
    "\n",
    "# axis x, axis y\n",
    "y = [33,66,65,0,59,60,62,64,70,76,80,69,80,83,90,79,61,53,50,49,53,48,45,39]\n",
    "x = list(range(len(y)))\n",
    "\n",
    "# plot\n",
    "plt.plot(x, y)\n",
    "plt.axhline(y=70, linewidth=1, color='r')\n",
    "plt.xlabel('hours')\n",
    "plt.ylabel('Temperature ºC')\n",
    "plt.title('Temperatures of our server throughout the day')"
   ]
  },
  {
   "cell_type": "markdown",
   "metadata": {},
   "source": [
    "## Problem\n",
    "\n",
    "If the sensor detects more than 4 hours with temperatures greater than or equal to 70ºC or any temperature above 80ºC or the average exceeds 65ºC throughout the day, we must give the order to change the cooling system to avoid damaging the processor.\n",
    "\n",
    "We will guide you step by step so you can make the decision by calculating some intermediate steps:\n",
    "\n",
    "1. Minimum temperature\n",
    "2. Maximum temperature\n",
    "3. Temperatures equal to or greater than 70ºC\n",
    "4. Average temperatures throughout the day.\n",
    "5. If there was a sensor failure at 03:00 and we did not capture the data, how would you estimate the value that we lack? Correct that value in the list of temperatures.\n",
    "6. Bonus: Our maintenance staff is from the United States and does not understand the international metric system. Pass temperatures to Degrees Fahrenheit.\n",
    "\n",
    "Formula: F = 1.8 * C + 32\n",
    "\n",
    "web: https://en.wikipedia.org/wiki/Conversion_of_units_of_temperature\n"
   ]
  },
  {
   "cell_type": "code",
   "execution_count": 4,
   "metadata": {},
   "outputs": [
    {
     "name": "stdout",
     "output_type": "stream",
     "text": [
      "Minimum temperature : 0 °C\n",
      "Maximum temperature : 83 °C\n",
      "70\n",
      "76\n",
      "80\n",
      "80\n",
      "83\n",
      "79\n",
      "Mean temperature throughout the day : 58.833333333333336 °C\n",
      "Estimated temperature at 3am : 62.0 °C\n",
      "Temperatures °C : [33, 66, 65, 62, 59, 60, 62, 64, 70, 76, 80, 69, 80, 83, 68, 79, 61, 53, 50, 49, 53, 48, 45, 39]\n",
      "Temperatures °F : [91.4, 150.8, 149.0, 143.6, 138.2, 140.0, 143.6, 147.2, 158.0, 168.8, 176.0, 156.2, 176.0, 181.4, 154.4, 174.2, 141.8, 127.4, 122.0, 120.2, 127.4, 118.4, 113.0, 102.2]\n"
     ]
    }
   ],
   "source": [
    "# assign a variable to the list of temperatures\n",
    "\n",
    "# 1. Calculate the minimum of the list and print the value using print()\n",
    "\n",
    "temperatures_C = [33,66,65,0,59,60,62,64,70,76,80,69,80,83,68,79,61,53,50,49,53,48,45,39]\n",
    "\n",
    "print(\"Minimum temperature :\", min(temperatures_C), \"°C\")\n",
    "\n",
    "# 2. Calculate the maximum of the list and print the value using print()\n",
    "\n",
    "print(\"Maximum temperature :\", max(temperatures_C), \"°C\")\n",
    "\n",
    "# 3. Items in the list that are greater than 70ºC and print the result\n",
    "\n",
    "for t in temperatures_C:\n",
    "    if t >= 70:\n",
    "        print(t)\n",
    "        \n",
    "# 4. Calculate the mean temperature throughout the day and print the result\n",
    "\n",
    "print(\"Mean temperature throughout the day :\", (sum(temperatures_C)/len(temperatures_C)), \"°C\")\n",
    "\n",
    "# 5.1 Solve the fault in the sensor by estimating a value\n",
    "\n",
    "#print(temperatures_C[3])\n",
    "print(\"Estimated temperature at 3am :\", (((temperatures_C[2])+(temperatures_C[4]))/2), \"°C\")\n",
    "\n",
    "# 5.2 Update of the estimated value at 03:00 on the list\n",
    "\n",
    "temperatures_C.insert(3, 62)\n",
    "temperatures_C.remove(0)\n",
    "print(\"Temperatures °C :\",temperatures_C)\n",
    "\n",
    "# Bonus: convert the list of ºC to ºFarenheit\n",
    "\n",
    "temperatures_F = []\n",
    "for t in temperatures_C:\n",
    "    f = round((1.8*t + 32), 1)\n",
    "    temperatures_F.append(f)\n",
    "\n",
    "print(\"Temperatures °F :\", temperatures_F)    "
   ]
  },
  {
   "cell_type": "markdown",
   "metadata": {},
   "source": [
    "## Take the decision\n",
    "Remember that if the sensor detects more than 4 hours with temperatures greater than or equal to 70ºC or any temperature higher than 80ºC or the average was higher than 65ºC throughout the day, we must give the order to change the cooling system to avoid the danger of damaging the equipment:\n",
    "* more than 4 hours with temperatures greater than or equal to 70ºC\n",
    "* some temperature higher than 80ºC\n",
    "* average was higher than 65ºC throughout the day\n",
    "If any of these three is met, the cooling system must be changed.\n"
   ]
  },
  {
   "cell_type": "code",
   "execution_count": 5,
   "metadata": {},
   "outputs": [
    {
     "name": "stdout",
     "output_type": "stream",
     "text": [
      "1 Need for a new cooling system : False\n",
      "2 Need for a new cooling system : True\n",
      "3 Need for a new cooling system : False\n"
     ]
    }
   ],
   "source": [
    "# Print True or False depending on whether you would change the cooling system or not\n",
    "\n",
    "#1 \n",
    "critical_time = 4\n",
    "critical_temp = 70\n",
    "time = 0\n",
    "change_cool_syst1 = False\n",
    "\n",
    "while time < critical_time:\n",
    "    for t in temperatures_C:\n",
    "        if t >= critical_temp:\n",
    "            time += 1\n",
    "        elif time < critical_time:\n",
    "            pass\n",
    "        else:\n",
    "            break\n",
    "            change_cool_syst1 = True\n",
    "\n",
    "print(\"1 Need for a new cooling system :\", change_cool_syst1)\n",
    "\n",
    "#2\n",
    "change_cool_syst2 = False\n",
    "for t in temperatures_C:\n",
    "    if t >= 80:\n",
    "        change_cool_syst2 = True\n",
    "    else:\n",
    "        pass\n",
    "    \n",
    "print(\"2 Need for a new cooling system :\", change_cool_syst2)\n",
    "\n",
    "#3\n",
    "\n",
    "mean_temp = sum(temperatures_C)/len(temperatures_C)\n",
    "\n",
    "change_cool_syst3 = False\n",
    "if mean_temp > 65:\n",
    "    change_cool_syst3 = True\n",
    "else:\n",
    "    pass\n",
    "\n",
    "print(\"3 Need for a new cooling system :\", change_cool_syst3)"
   ]
  },
  {
   "cell_type": "markdown",
   "metadata": {},
   "source": [
    "## Future improvements\n",
    "1. We want the hours (not the temperatures) whose temperature exceeds 70ºC\n",
    "2. Condition that those hours are more than 4 consecutive and consecutive, not simply the sum of the whole set. Is this condition met?\n",
    "3. Average of each of the lists (ºC and ºF). How they relate?\n",
    "4. Standard deviation of each of the lists. How they relate?\n"
   ]
  },
  {
   "cell_type": "code",
   "execution_count": 6,
   "metadata": {},
   "outputs": [
    {
     "name": "stdout",
     "output_type": "stream",
     "text": [
      "Temperatures throughout the day : {0: 33, 1: 66, 2: 65, 3: 62, 4: 59, 5: 60, 6: 62, 7: 64, 8: 70, 9: 76, 10: 80, 11: 69, 12: 80, 13: 83, 14: 68, 15: 79, 16: 61, 17: 53, 18: 50, 19: 49, 20: 53, 21: 48, 22: 45, 23: 39}\n",
      "Hours when temperature exceeded 70°C : [8, 9, 10, 12, 13, 15]\n"
     ]
    }
   ],
   "source": [
    "# 1. We want the hours (not the temperatures) whose temperature exceeds 70ºC\n",
    "hours = 0\n",
    "daytime = []\n",
    "for t in temperatures_C:\n",
    "    daytime.append(hours)\n",
    "    hours += 1\n",
    "\n",
    "#print(temperatures_C)\n",
    "#print(daytime)\n",
    "\n",
    "dic_temp_day = dict(zip(daytime, temperatures_C))\n",
    "print(\"Temperatures throughout the day :\", dic_temp_day)\n",
    "\n",
    "exceed_temp = []\n",
    "for h, t in dic_temp_day.items():\n",
    "    if t >= 70:\n",
    "        exceed_temp.append(h)\n",
    "        \n",
    "print(\"Hours when temperature exceeded 70°C :\", exceed_temp)"
   ]
  },
  {
   "cell_type": "code",
   "execution_count": 14,
   "metadata": {},
   "outputs": [
    {
     "name": "stdout",
     "output_type": "stream",
     "text": [
      "[0, 0, 0, 0, 0, 0, 0, 0, 1, 1, 1, 0, 1, 1, 0, 1, 0, 0, 0, 0, 0, 0, 0, 0]\n",
      "[3, 2, 1]\n",
      "Is the condition met ? False\n"
     ]
    }
   ],
   "source": [
    "# 2. Condition that those hours are more than 4 consecutive and consecutive, not simply the sum of the whole set. Is this condition met?\n",
    "conseq = []\n",
    "for t in temperatures_C:\n",
    "    if t >= 70:\n",
    "        conseq.append(1)\n",
    "    else:\n",
    "        conseq.append(0)\n",
    "\n",
    "print(conseq)\n",
    "\n",
    "from itertools import groupby\n",
    "\n",
    "count_conseq = [len(list(c[1])) for c in groupby(conseq) if c[0]==1]\n",
    "print(count_conseq)\n",
    "\n",
    "change_cool_syst4 = False\n",
    "for i in count_conseq:\n",
    "    if i >= 4:\n",
    "        change_cool_syst4 = True\n",
    "    else:\n",
    "        pass\n",
    "\n",
    "print('Is the condition met ?', change_cool_syst4)\n",
    "    "
   ]
  },
  {
   "cell_type": "code",
   "execution_count": 59,
   "metadata": {},
   "outputs": [
    {
     "name": "stdout",
     "output_type": "stream",
     "text": [
      "61.416666666666664\n",
      "142.54999999999998\n"
     ]
    }
   ],
   "source": [
    "# 3. Average of each of the lists (ºC and ºF). How they relate?\n",
    "\n",
    "mean_t_C = sum(temperatures_C)/len(temperatures_C)\n",
    "mean_t_F = sum(temperatures_F)/len(temperatures_F)\n",
    "#          = (mean_t_c*1.8)+32\n",
    "print(mean_t_C)\n",
    "print(mean_t_F)"
   ]
  },
  {
   "cell_type": "code",
   "execution_count": 61,
   "metadata": {},
   "outputs": [
    {
     "name": "stdout",
     "output_type": "stream",
     "text": [
      "13.050915251004005\n",
      "23.491647451807204\n"
     ]
    }
   ],
   "source": [
    "# 4. Standard deviation of each of the lists. How they relate?\n",
    "\n",
    "import statistics\n",
    "import numpy as np\n",
    "\n",
    "print(np.std(temperatures_C))\n",
    "print(np.std(temperatures_F))\n",
    "\n",
    "# np.std(temperatures_F) = np.std(temperatures_C)*sqrt(1.8) + sqrt(32)\n"
   ]
  },
  {
   "cell_type": "code",
   "execution_count": null,
   "metadata": {},
   "outputs": [],
   "source": []
  }
 ],
 "metadata": {
  "kernelspec": {
   "display_name": "Python 3",
   "language": "python",
   "name": "python3"
  },
  "language_info": {
   "codemirror_mode": {
    "name": "ipython",
    "version": 3
   },
   "file_extension": ".py",
   "mimetype": "text/x-python",
   "name": "python",
   "nbconvert_exporter": "python",
   "pygments_lexer": "ipython3",
   "version": "3.7.6"
  }
 },
 "nbformat": 4,
 "nbformat_minor": 2
}
