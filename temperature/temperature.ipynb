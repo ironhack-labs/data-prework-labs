{
 "cells": [
  {
   "cell_type": "markdown",
   "metadata": {},
   "source": [
    "# Processor temperature\n",
    "\n",
    "We have a temperature sensor in the processor of our company's server. We want to analyze the data provided to determinate whether we should change the cooling system for a better one. It is expensive and as a data analyst we cannot make decisions without a basis.\n",
    "\n",
    "We provide the temperatures measured throughout the 24 hours of a day in a list-type data structure composed of 24 integers:\n",
    "```\n",
    "temperatures_C = [33,66,65,0,59,60,62,64,70,76,80,69,80,83,68,79,61,53,50,49,53,48,45,39]\n",
    "```\n",
    "\n",
    "## Goals\n",
    "\n",
    "1. Treatment of lists\n",
    "2. Use of loop or list comprenhention\n",
    "3. Calculation of the mean, minimum and maximum.\n",
    "4. Filtering of lists.\n",
    "5. Interpolate an outlier.\n",
    "6. Logical operators.\n",
    "7. Print"
   ]
  },
  {
   "cell_type": "markdown",
   "metadata": {},
   "source": [
    "## Temperature graph\n",
    "To facilitate understanding, the temperature graph is shown below. You do not have to do anything in this section. The test starts in **Problem**."
   ]
  },
  {
   "cell_type": "code",
   "execution_count": null,
   "metadata": {},
   "outputs": [],
   "source": [
    "# import\n",
    "import matplotlib.pyplot as plt\n",
    "%matplotlib inline\n",
    "\n",
    "# axis x, axis y\n",
    "y = [33,66,65,0,59,60,62,64,70,76,80,81,80,83,90,79,61,53,50,49,53,48,45,39]\n",
    "x = list(range(len(y)))\n",
    "\n",
    "# plot\n",
    "plt.plot(x, y)\n",
    "plt.axhline(y=70, linewidth=1, color='r')\n",
    "plt.xlabel('hours')\n",
    "plt.ylabel('Temperature ºC')\n",
    "plt.title('Temperatures of our server throughout the day')"
   ]
  },
  {
   "cell_type": "markdown",
   "metadata": {},
   "source": [
    "## Problem\n",
    "\n",
    "If the sensor detects more than 4 hours with temperatures greater than or equal to 70ºC or any temperature above 80ºC or the average exceeds 65ºC throughout the day, we must give the order to change the cooling system to avoid damaging the processor.\n",
    "\n",
    "We will guide you step by step so you can make the decision by calculating some intermediate steps:\n",
    "\n",
    "1. Minimum temperature\n",
    "2. Maximum temperature\n",
    "3. Temperatures equal to or greater than 70ºC\n",
    "4. Average temperatures throughout the day.\n",
    "5. If there was a sensor failure at 03:00 and we did not capture the data, how would you estimate the value that we lack? Correct that value in the list of temperatures.\n",
    "6. Bonus: Our maintenance staff is from the United States and does not understand the international metric system. Pass temperatures to Degrees Fahrenheit.\n",
    "\n",
    "Formula: F = 1.8 * C + 32\n",
    "\n",
    "web: https://en.wikipedia.org/wiki/Conversion_of_units_of_temperature\n"
   ]
  },
  {
   "cell_type": "code",
   "execution_count": 1,
   "metadata": {},
   "outputs": [
    {
     "name": "stdout",
     "output_type": "stream",
     "text": [
      "The minimum temperature recorded is 0\n",
      "The maximum temperature recorded is 83\n",
      "The temperature records that are greater than 70ºC are:\n",
      "76\n",
      "80\n",
      "80\n",
      "83\n",
      "79\n",
      "The mean temperature throughout the day is: 58.83  \n",
      "\n",
      "The updated list is: [33, 66, 65, 62, 59, 60, 62, 64, 70, 76, 80, 69, 80, 83, 68, 79, 61, 53, 50, 49, 53, 48, 45, 39] \n",
      "\n",
      "The updated temperature list in ºFarenheit is: [91.4, 150.8, 149.0, 143.6, 138.2, 140.0, 143.6, 147.2, 158.0, 168.8, 176.0, 156.2, 176.0, 181.4, 154.4, 174.2, 141.8, 127.4, 122.0, 120.2, 127.4, 118.4, 113.0, 102.2]\n"
     ]
    }
   ],
   "source": [
    "# assign a variable to the list of temperatures\n",
    "temp_C = [33,66,65,0,59,60,62,64,70,76,80,69,80,83,68,79,61,53,50,49,53,48,45,39]\n",
    "hours = list(range(len(temp_C)))\n",
    "\n",
    "# 1. Calculate the minimum of the list and print the value using print()\n",
    "\n",
    "min_temp = min(temp_C)\n",
    "print('The minimum temperature recorded is', min_temp)\n",
    "\n",
    "# 2. Calculate the maximum of the list and print the value using print()\n",
    "\n",
    "max_temp = max(temp_C)\n",
    "print('The maximum temperature recorded is', max_temp)\n",
    "\n",
    "# 3. Items in the list that are greater than 70ºC and print the result\n",
    "\n",
    "filtered_temps_greater_70 = filter(lambda i: i > 70, temp_C)\n",
    " \n",
    "print('The temperature records that are greater than 70ºC are:')\n",
    "for temps in filtered_temps_greater_70:\n",
    "    print(temps)\n",
    "\n",
    "# 4. Calculate the mean temperature throughout the day and print the result\n",
    "\n",
    "mean_temp = sum(temp_C)/len(temp_C)\n",
    "print('The mean temperature throughout the day is: %.2f ' % mean_temp , '\\n')\n",
    "\n",
    "# 5.1 Solve the fault in the sensor by estimating a value\n",
    "# 5.2 Update of the estimated value at 03:00 on the list\n",
    "\n",
    "'''Estimating the value by interpolating it with the value (n-1 + n+1) //2 and replacing it simultaneusly'''\n",
    "for n, i in enumerate(temp_C):\n",
    "    if i == 0:\n",
    "        temp_C[n] = (temp_C[n-1] + temp_C[n+1]) // 2\n",
    "        \n",
    "print('The updated list is:', temp_C, '\\n')\n",
    "\n",
    "# Bonus: convert the list of ºC to ºFarenheit\n",
    "\n",
    "temp_F =[]\n",
    "\n",
    "for i in temp_C:\n",
    "    temp = round(((1.8 * i) + 32),2)\n",
    "    temp_F.append(temp)\n",
    "\n",
    "print('The updated temperature list in ºFarenheit is:', temp_F)\n"
   ]
  },
  {
   "cell_type": "markdown",
   "metadata": {},
   "source": [
    "## Take the decision\n",
    "Remember that if the sensor detects more than 4 hours with temperatures greater than or equal to 70ºC or any temperature higher than 80ºC or the average was higher than 65ºC throughout the day, we must give the order to change the cooling system to avoid the danger of damaging the equipment:\n",
    "* more than 4 hours with temperatures greater than or equal to 70ºC\n",
    "* some temperature higher than 80ºC\n",
    "* average was higher than 65ºC throughout the day\n",
    "If any of these three is met, the cooling system must be changed.\n"
   ]
  },
  {
   "cell_type": "code",
   "execution_count": 2,
   "metadata": {},
   "outputs": [
    {
     "name": "stdout",
     "output_type": "stream",
     "text": [
      "Message: The cooling system must be changed\n"
     ]
    }
   ],
   "source": [
    "# Print True or False depending on whether you would change the cooling system or not\n",
    "\n",
    "cs_shut_down = 'Message: The cooling system must be changed'\n",
    "cs_working_fine = 'Message: The cooling systmen works fine'\n",
    "\n",
    "'''Calculating how many records where above or equal to 70'''\n",
    "temp_greater_70 = 0\n",
    "for items in temp_C:\n",
    "    if items >= 70:\n",
    "        temp_greater_70 +=1\n",
    "\n",
    "\n",
    "'''Calculating if there is any record above 88'''\n",
    "temp_higher_88 = 0\n",
    "for temps in temp_C:\n",
    "    if temps >= 88:\n",
    "        temp_higher_88 += 1\n",
    "\n",
    "'''Setting the logical operations to make a decision'''\n",
    "if temp_greater_70 > 4 or temp_higher_88 >=1 or mean_temp > 65:\n",
    "    print(cs_shut_down)\n",
    "else:\n",
    "    print(cs_working_fine)\n"
   ]
  },
  {
   "cell_type": "markdown",
   "metadata": {},
   "source": [
    "## Future improvements\n",
    "1. We want the hours (not the temperatures) whose temperature exceeds 70ºC\n",
    "2. Condition that those hours are more than 4 consecutive and consecutive, not simply the sum of the whole set. Is this condition met?\n",
    "3. Average of each of the lists (ºC and ºF). How they relate?\n",
    "4. Standard deviation of each of the lists. How they relate?\n"
   ]
  },
  {
   "cell_type": "code",
   "execution_count": 3,
   "metadata": {},
   "outputs": [
    {
     "name": "stdout",
     "output_type": "stream",
     "text": [
      "The sensors recorded temperatures above 70ºC during: 5 hours in the whole day\n"
     ]
    }
   ],
   "source": [
    "temp_C = [33,66,65,0,59,60,62,64,70,76,80,69,80,83,68,79,61,53,50,49,53,48,45,39]\n",
    "hours = list(range(len(temp_C)))\n",
    "\n",
    "# 1. We want the hours (not the temperatures) whose temperature exceeds 70ºC\n",
    "\n",
    "hours_above_70 = []\n",
    "\n",
    "for temp in temp_C:\n",
    "    if temp > 70:\n",
    "        hours_above_70.append(1)\n",
    "    else:\n",
    "        hours_above_70.append(0)\n",
    "\n",
    "hours = sum(hours_above_70)\n",
    "\n",
    "print('The sensors recorded temperatures above 70ºC during:', hours, 'hours in the whole day')"
   ]
  },
  {
   "cell_type": "code",
   "execution_count": 4,
   "metadata": {},
   "outputs": [
    {
     "name": "stdout",
     "output_type": "stream",
     "text": [
      "The condition that those hours are more than 4 consecutive is NOT met\n"
     ]
    }
   ],
   "source": [
    "# 2. Condition that those hours are more than 4 consecutive and consecutive, not simply the sum of the whole set. Is this condition met?\n",
    "\n",
    "condition_met = False\n",
    "for i in range(len(hours_above_70)-3):\n",
    "    if (hours_above_70[i] + hours_above_70[i+1] + hours_above_70[i+2] + hours_above_70[i+3]) == 4:\n",
    "        condition_met = True\n",
    "        break\n",
    "\n",
    "if condition_met == True:\n",
    "    print('The condition that those hours are more than 4 consecutive is met')\n",
    "else:\n",
    "    print('The condition that those hours are more than 4 consecutive is NOT met')\n"
   ]
  },
  {
   "cell_type": "code",
   "execution_count": 5,
   "metadata": {},
   "outputs": [
    {
     "name": "stdout",
     "output_type": "stream",
     "text": [
      "The mean temperature ºC throughout the day is: 58.83 \n",
      "The mean temperature ºF throughout the day is: 142.55 \n"
     ]
    }
   ],
   "source": [
    "# 3. Average of each of the lists (ºC and ºF). How they relate?\n",
    "\n",
    "mean_temp_C = sum(temp_C)/len(temp_C)\n",
    "print('The mean temperature ºC throughout the day is: %.2f ' % mean_temp_C)\n",
    "\n",
    "mean_temp_F = sum(temp_F)/len(temp_F)\n",
    "print('The mean temperature ºF throughout the day is: %.2f ' % mean_temp_F)\n",
    "\n",
    "#Comment\n",
    "\n",
    "#Both means are the same in terms of measuring centrality\n",
    "#When you add the mean by a konstant, you are just shifting the variable\n",
    "#And when you multiplyit by an another konstant, you are scaling it\n",
    "#In this case, the mean of temp_F is the mean of temp_C but in Farenheit instead of Celsius"
   ]
  },
  {
   "cell_type": "code",
   "execution_count": 6,
   "metadata": {},
   "outputs": [
    {
     "name": "stdout",
     "output_type": "stream",
     "text": [
      "The std for the temperatures in ºC is: 18.296\n",
      "The std for the temperatures in ºF is: 23.997\n"
     ]
    }
   ],
   "source": [
    "# 4. Standard deviation of each of the lists. How they relate?\n",
    "\n",
    "'''Calculating the variance first to then calculate the std'''\n",
    "\n",
    "var_temp_C = 0\n",
    "\n",
    "for i in temp_C:\n",
    "    num = ((i - mean_temp_C) ** 2) / (len(temp_C)-1)\n",
    "    var_temp_C += num\n",
    "\n",
    "std_temp_C = var_temp_C ** (1/2) \n",
    "\n",
    "var_temp_F = 0\n",
    "\n",
    "for i in temp_F:\n",
    "    num = ((i - mean_temp_F) ** 2) / (len(temp_F)-1)\n",
    "    var_temp_F += num\n",
    "\n",
    "std_temp_F = var_temp_F ** (1/2)\n",
    "\n",
    "print('The std for the temperatures in ºC is: %.3f' % std_temp_C)\n",
    "print('The std for the temperatures in ºF is: %.3f' % std_temp_F)\n",
    "\n",
    "#Comment\n",
    "\n",
    "#The standard deviation is a measure of \"spread\"\n",
    "#Adding a konstant number to each value of the ºC temperature list\n",
    "#will change the location of the points in the plane but not the spread\n",
    "#Multypling each point by a konstant does not change the location but\n",
    "#will change the spread by scaling it as shown in the result where we multiply\n",
    "#each ºC point by 1.8, thus scaling the spread from 13.322 to 23.997"
   ]
  },
  {
   "cell_type": "code",
   "execution_count": null,
   "metadata": {},
   "outputs": [],
   "source": []
  },
  {
   "cell_type": "code",
   "execution_count": null,
   "metadata": {},
   "outputs": [],
   "source": []
  }
 ],
 "metadata": {
  "kernelspec": {
   "display_name": "Python 3",
   "language": "python",
   "name": "python3"
  },
  "language_info": {
   "codemirror_mode": {
    "name": "ipython",
    "version": 3
   },
   "file_extension": ".py",
   "mimetype": "text/x-python",
   "name": "python",
   "nbconvert_exporter": "python",
   "pygments_lexer": "ipython3",
   "version": "3.7.3"
  }
 },
 "nbformat": 4,
 "nbformat_minor": 2
}
