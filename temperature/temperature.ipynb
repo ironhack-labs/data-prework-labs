{
 "cells": [
  {
   "cell_type": "markdown",
   "metadata": {},
   "source": [
    "# Processor temperature\n",
    "\n",
    "We have a temperature sensor in the processor of our company's server. We want to analyze the data provided to determinate whether we should change the cooling system for a better one. It is expensive and as a data analyst we cannot make decisions without a basis.\n",
    "\n",
    "We provide the temperatures measured throughout the 24 hours of a day in a list-type data structure composed of 24 integers:\n",
    "```\n",
    "temperatures_C = [33,66,65,0,59,60,62,64,70,76,80,69,80,83,68,79,61,53,50,49,53,48,45,39]\n",
    "```\n",
    "\n",
    "## Goals\n",
    "\n",
    "1. Treatment of lists\n",
    "2. Use of loop or list comprenhention\n",
    "3. Calculation of the mean, minimum and maximum.\n",
    "4. Filtering of lists.\n",
    "5. Interpolate an outlier.\n",
    "6. Logical operators.\n",
    "7. Print"
   ]
  },
  {
   "cell_type": "markdown",
   "metadata": {},
   "source": [
    "## Temperature graph\n",
    "To facilitate understanding, the temperature graph is shown below. You do not have to do anything in this section. The test starts in **Problem**."
   ]
  },
  {
   "cell_type": "code",
   "execution_count": 1,
   "metadata": {},
   "outputs": [
    {
     "data": {
      "text/plain": [
       "Text(0.5, 1.0, 'Temperatures of our server throughout the day')"
      ]
     },
     "execution_count": 1,
     "metadata": {},
     "output_type": "execute_result"
    },
    {
     "data": {
      "image/png": "[encoded data removed]",
      "text/plain": [
       "<Figure size 432x288 with 1 Axes>"
      ]
     },
     "metadata": {
      "needs_background": "light"
     },
     "output_type": "display_data"
    }
   ],
   "source": [
    "# import\n",
    "import matplotlib.pyplot as plt\n",
    "%matplotlib inline\n",
    "\n",
    "# axis x, axis y\n",
    "y = [33,66,65,0,59,60,62,64,70,76,80,81,80,83,90,79,61,53,50,49,53,48,45,39]\n",
    "x = list(range(len(y)))\n",
    "\n",
    "# plot\n",
    "plt.plot(x, y)\n",
    "plt.axhline(y=70, linewidth=1, color='r')\n",
    "plt.xlabel('hours')\n",
    "plt.ylabel('Temperature ºC')\n",
    "plt.title('Temperatures of our server throughout the day')"
   ]
  },
  {
   "cell_type": "markdown",
   "metadata": {},
   "source": [
    "## Problem\n",
    "\n",
    "If the sensor detects more than 4 hours with temperatures greater than or equal to 70ºC or any temperature above 80ºC or the average exceeds 65ºC throughout the day, we must give the order to change the cooling system to avoid damaging the processor.\n",
    "\n",
    "We will guide you step by step so you can make the decision by calculating some intermediate steps:\n",
    "\n",
    "1. Minimum temperature\n",
    "2. Maximum temperature\n",
    "3. Temperatures equal to or greater than 70ºC\n",
    "4. Average temperatures throughout the day.\n",
    "5. If there was a sensor failure at 03:00 and we did not capture the data, how would you estimate the value that we lack? Correct that value in the list of temperatures.\n",
    "6. Bonus: Our maintenance staff is from the United States and does not understand the international metric system. Pass temperatures to Degrees Fahrenheit.\n",
    "\n",
    "Formula: F = 1.8 * C + 32\n",
    "\n",
    "web: https://en.wikipedia.org/wiki/Conversion_of_units_of_temperature\n"
   ]
  },
  {
   "cell_type": "code",
   "execution_count": 25,
   "metadata": {},
   "outputs": [
    {
     "name": "stdout",
     "output_type": "stream",
     "text": [
      "Minimum temperature (ºC):  0\n",
      "Maximum temperature (ºC):  90\n",
      "Temperatures above 70 ºC: \n",
      "76\n",
      "80\n",
      "81\n",
      "80\n",
      "83\n",
      "90\n",
      "79\n",
      "Mean temperature (ºC): 60.25\n",
      "Estimated temperature (ºC) at time point 3:00: 62\n",
      "New temperature list: [33, 66, 65, 62, 59, 60, 62, 64, 70, 76, 80, 81, 80, 83, 90, 79, 61, 53, 50, 49, 53, 48, 45, 39]\n",
      "Temperatures in Fahrenheit: [91, 150, 149, 143, 138, 140, 143, 147, 158, 168, 176, 177, 176, 181, 194, 174, 141, 127, 122, 120, 127, 118, 113, 102]\n"
     ]
    }
   ],
   "source": [
    "# assign a variable to the list of temperatures\n",
    "\n",
    "temps = [33,66,65,0,59,60,62,64,70,76,80,81,80,83,90,79,61,53,50,49,53,48,45,39]\n",
    "\n",
    "# 1. Calculate the minimum of the list and print the value using print()\n",
    "\n",
    "print(\"Minimum temperature (ºC): \", min(temps))\n",
    "\n",
    "# 2. Calculate the maximum of the list and print the value using print()\n",
    "\n",
    "print(\"Maximum temperature (ºC): \", max(temps))\n",
    "\n",
    "# 3. Items in the list that are greater than 70ºC and print the result\n",
    "\n",
    "print(\"Temperatures above 70 ºC: \")\n",
    "for temp in temps:\n",
    "    if temp > 70:\n",
    "        print(temp)\n",
    "\n",
    "# 4. Calculate the mean temperature throughout the day and print the result\n",
    "\n",
    "import statistics\n",
    "print(\"Mean temperature (ºC):\", statistics.mean(temps))\n",
    "\n",
    "# 5.1 Solve the fault in the sensor by estimating a value\n",
    "\n",
    "est_value = int((temps[2] + temps[4])/2)\n",
    "print(\"Estimated temperature (ºC) at time point 3:00:\", est_value)\n",
    "\n",
    "# 5.2 Update of the estimated value at 03:00 on the list\n",
    "\n",
    "temps[3] = est_value\n",
    "print(\"New temperature list:\", temps)\n",
    "\n",
    "# Bonus: convert the list of ºC to ºFarenheit\n",
    "# Formula: F = 1.8 * C + 32\n",
    "\n",
    "list_fahrenheit = []\n",
    "for temp in temps:\n",
    "    temp_fahrenheit = int(1.8 * temp + 32)\n",
    "    list_fahrenheit.append(temp_fahrenheit)\n",
    "\n",
    "print(\"Temperatures in Fahrenheit:\", list_fahrenheit)\n"
   ]
  },
  {
   "cell_type": "markdown",
   "metadata": {},
   "source": [
    "## Take the decision\n",
    "Remember that if the sensor detects more than 4 hours with temperatures greater than or equal to 70ºC or any temperature higher than 80ºC or the average was higher than 65ºC throughout the day, we must give the order to change the cooling system to avoid the danger of damaging the equipment:\n",
    "* more than 4 hours with temperatures greater than or equal to 70ºC\n",
    "* some temperature higher than 80ºC\n",
    "* average was higher than 65ºC throughout the day\n",
    "If any of these three is met, the cooling system must be changed.\n"
   ]
  },
  {
   "cell_type": "code",
   "execution_count": 48,
   "metadata": {},
   "outputs": [
    {
     "name": "stdout",
     "output_type": "stream",
     "text": [
      "['True']\n"
     ]
    }
   ],
   "source": [
    "# Print True or False depending on whether you would change the cooling system or not\n",
    "\n",
    "\n",
    "def find_n_consecutive_greater_equal_than_x(mylist, n, x):\n",
    "    num_greater_than_x = 0\n",
    "    for index, val in enumerate(mylist):\n",
    "        if val >= x:\n",
    "            num_greater_than_x += 1\n",
    "            if num_greater_than_x == n:\n",
    "                yield tuple(mylist[index-n+1:index+1])\n",
    "                num_greater_than_x -= 1\n",
    "        else:\n",
    "            num_greater_than_x = 0\n",
    "            \n",
    "high_temps = []\n",
    "#print(\"The following eight consecutive values are above 70 ºC\", list(find_n_consecutive_greater_equal_than_x(temps, 8, 70)))\n",
    "high_temps.append(list(find_n_consecutive_greater_equal_than_x(temps, 8, 70))) \n",
    "\n",
    "change_sensor = []\n",
    "            \n",
    "if high_temps != []:\n",
    "        change_sensor.append(\"True\")\n",
    "else:\n",
    "    for temp in temps:\n",
    "        if temp <= 80:\n",
    "            change_sensor.append(\"False\")\n",
    "        elif temp > 80:\n",
    "            change_sensor.append(\"True\")\n",
    "        if statistics.mean(temps) <= 65:\n",
    "            change_sensor.append(\"False\")\n",
    "        elif statistics.mean(temps) > 65:\n",
    "            change_sensor.append(\"True\")\n",
    "        else:\n",
    "            change_sensor.append(\"\")\n",
    "\n",
    "print(change_sensor)\n"
   ]
  },
  {
   "cell_type": "markdown",
   "metadata": {},
   "source": [
    "## Future improvements\n",
    "1. We want the hours (not the temperatures) whose temperature exceeds 70ºC\n",
    "2. Condition that those hours are more than 4 consecutive and consecutive, not simply the sum of the whole set. Is this condition met?\n",
    "3. Average of each of the lists (ºC and ºF). How they relate?\n",
    "4. Standard deviation of each of the lists. How they relate?\n"
   ]
  },
  {
   "cell_type": "code",
   "execution_count": 133,
   "metadata": {},
   "outputs": [
    {
     "name": "stdout",
     "output_type": "stream",
     "text": [
      "The temperature was above 70 ºC at the following time points: \n",
      "8\n",
      "9\n",
      "10\n",
      "11\n",
      "12\n",
      "13\n",
      "14\n",
      "15\n"
     ]
    }
   ],
   "source": [
    "# 1. We want the hours (not the temperatures) whose temperature exceeds 70ºC\n",
    "\n",
    "# import numpy\n",
    "\n",
    "# array = numpy.arange(0, 24)\n",
    "# print(array)\n",
    "\n",
    "temps = [33,66,65,62,59,60,62,64,70,76,80,81,80,83,90,79,61,53,50,49,53,48,45,39]\n",
    "\n",
    "hours = [x for x in range(0, 24)]\n",
    "\n",
    "dictionary = dict(zip(hours, temps))\n",
    "temps_above_70 = [k for k,v in dictionary.items() if float(v) >= 70]\n",
    "\n",
    "print(\"The temperature was above 70 ºC at the following time points: \")\n",
    "for temp in temps_above_70:\n",
    "    print(temp)\n",
    "\n"
   ]
  },
  {
   "cell_type": "code",
   "execution_count": 132,
   "metadata": {},
   "outputs": [
    {
     "name": "stdout",
     "output_type": "stream",
     "text": [
      "The temperature has been equalt to or above 70 ºC for more than four hours.\n"
     ]
    }
   ],
   "source": [
    "# 2. Condition that those hours are more than 4 consecutive and consecutive, not simply the sum of the whole set. Is this condition met?\n",
    "\n",
    "count = 0\n",
    "for x in range(0, len(temps_above_70)):\n",
    "    if temps_above_70[x] + 1 == temps_above_70[x+1]:\n",
    "        count += 1\n",
    "    if count > 4:\n",
    "        print(\"The temperature has been equalt to or above 70 ºC for more than four hours.\")\n",
    "        break"
   ]
  },
  {
   "cell_type": "code",
   "execution_count": 163,
   "metadata": {},
   "outputs": [
    {
     "name": "stdout",
     "output_type": "stream",
     "text": [
      "Temperature average in ºC: 62\n",
      "Temperature average in F: 144\n",
      "The averages relate according to the formula F = 1.8 * C + 32.\n"
     ]
    }
   ],
   "source": [
    "# 3. Average of each of the lists (ºC and ºF). How they relate?\n",
    "\n",
    "import statistics\n",
    "\n",
    "average_C = int(statistics.mean(temps))\n",
    "print(\"Temperature average in ºC:\", average_C)\n",
    "\n",
    "average_F = int(statistics.mean(list_fahrenheit))\n",
    "print(\"Temperature average in F:\", average_F)\n",
    "\n",
    "def round_school(x):\n",
    "    i, f = divmod(x, 1)\n",
    "    return int(i + ((f >= 0.5) if (x > 0) else (f > 0.5)))\n",
    "\n",
    "if True:\n",
    "    (round_school(average_F) == round_school(1.8 * average_C + 32))\n",
    "    print(\"The averages relate according to the formula F = 1.8 * C + 32.\")"
   ]
  },
  {
   "cell_type": "code",
   "execution_count": 167,
   "metadata": {},
   "outputs": [
    {
     "name": "stdout",
     "output_type": "stream",
     "text": [
      "Standard deviation of temperatures in ºC: 14\n",
      "Standard deviation of temperatures in F: 26\n",
      "The standard deviations relate according to the formula F = 1.8 * C + 32.\n"
     ]
    }
   ],
   "source": [
    "# 4. Standard deviation of each of the lists. How they relate?\n",
    "\n",
    "stdev_C = int(statistics.stdev(temps))\n",
    "print(\"Standard deviation of temperatures in ºC:\", stdev_C)\n",
    "\n",
    "stdev_F = int(statistics.stdev(list_fahrenheit))\n",
    "print(\"Standard deviation of temperatures in F:\", stdev_F)\n",
    "\n",
    "if True:\n",
    "    (round_school(stdev_F) == round_school(1.8 * stdev_C + 32))\n",
    "    print(\"The standard deviations relate according to the formula F = 1.8 * C + 32.\")\n"
   ]
  },
  {
   "cell_type": "code",
   "execution_count": null,
   "metadata": {},
   "outputs": [],
   "source": []
  },
  {
   "cell_type": "code",
   "execution_count": null,
   "metadata": {},
   "outputs": [],
   "source": []
  }
 ],
 "metadata": {
  "kernelspec": {
   "display_name": "Python 3",
   "language": "python",
   "name": "python3"
  },
  "language_info": {
   "codemirror_mode": {
    "name": "ipython",
    "version": 3
   },
   "file_extension": ".py",
   "mimetype": "text/x-python",
   "name": "python",
   "nbconvert_exporter": "python",
   "pygments_lexer": "ipython3",
   "version": "3.7.3"
  }
 },
 "nbformat": 4,
 "nbformat_minor": 2
}
