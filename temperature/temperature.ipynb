{
 "cells": [
  {
   "cell_type": "markdown",
   "metadata": {},
   "source": [
    "# Processor temperature\n",
    "\n",
    "We have a temperature sensor in the processor of our company's server. We want to analyze the data provided to determinate whether we should change the cooling system for a better one. It is expensive and as a data analyst we cannot make decisions without a basis.\n",
    "\n",
    "We provide the temperatures measured throughout the 24 hours of a day in a list-type data structure composed of 24 integers:\n",
    "```\n",
    "temperatures_C = [33,66,65,0,59,60,62,64,70,76,80,69,80,83,68,79,61,53,50,49,53,48,45,39]\n",
    "```\n",
    "\n",
    "## Goals\n",
    "\n",
    "1. Treatment of lists\n",
    "2. Use of loop or list comprenhention\n",
    "3. Calculation of the mean, minimum and maximum.\n",
    "4. Filtering of lists.\n",
    "5. Interpolate an outlier.\n",
    "6. Logical operators.\n",
    "7. Print"
   ]
  },
  {
   "cell_type": "markdown",
   "metadata": {},
   "source": [
    "## Temperature graph\n",
    "To facilitate understanding, the temperature graph is shown below. You do not have to do anything in this section. The test starts in **Problem**."
   ]
  },
  {
   "cell_type": "code",
   "execution_count": 5,
   "metadata": {},
   "outputs": [
    {
     "data": {
      "text/plain": [
       "Text(0.5, 1.0, 'Temperatures of our server throughout the day')"
      ]
     },
     "execution_count": 5,
     "metadata": {},
     "output_type": "execute_result"
    },
    {
     "data": {
      "image/png": "[encoded data removed]",
      "text/plain": [
       "<Figure size 432x288 with 1 Axes>"
      ]
     },
     "metadata": {
      "needs_background": "light"
     },
     "output_type": "display_data"
    }
   ],
   "source": [
    "# import\n",
    "import matplotlib.pyplot as plt\n",
    "%matplotlib inline\n",
    "\n",
    "# axis x, axis y\n",
    "y = [33,66,65,0,59,60,62,64,70,76,80,81,80,83,90,79,61,53,50,49,53,48,45,39]\n",
    "x = list(range(len(y)))\n",
    "\n",
    "# plot\n",
    "plt.plot(x, y)\n",
    "plt.axhline(y=70, linewidth=1, color='r')\n",
    "plt.xlabel('hours')\n",
    "plt.ylabel('Temperature ºC')\n",
    "plt.title('Temperatures of our server throughout the day')"
   ]
  },
  {
   "cell_type": "markdown",
   "metadata": {},
   "source": [
    "## Problem\n",
    "\n",
    "If the sensor detects more than 4 hours with temperatures greater than or equal to 70ºC or any temperature above 80ºC or the average exceeds 65ºC throughout the day, we must give the order to change the cooling system to avoid damaging the processor.\n",
    "\n",
    "We will guide you step by step so you can make the decision by calculating some intermediate steps:\n",
    "\n",
    "1. Minimum temperature\n",
    "2. Maximum temperature\n",
    "3. Temperatures equal to or greater than 70ºC\n",
    "4. Average temperatures throughout the day.\n",
    "5. If there was a sensor failure at 03:00 and we did not capture the data, how would you estimate the value that we lack? Correct that value in the list of temperatures.\n",
    "6. Bonus: Our maintenance staff is from the United States and does not understand the international metric system. Pass temperatures to Degrees Fahrenheit.\n",
    "\n",
    "Formula: F = 1.8 * C + 32\n",
    "\n",
    "web: https://en.wikipedia.org/wiki/Conversion_of_units_of_temperature\n"
   ]
  },
  {
   "cell_type": "code",
   "execution_count": 6,
   "metadata": {},
   "outputs": [
    {
     "name": "stdout",
     "output_type": "stream",
     "text": [
      "Minímo =  0\n",
      "Máximo =  90\n",
      "Temperaturas maiores que 70 [76, 80, 81, 80, 83, 90, 79]\n",
      "A média é 60\n"
     ]
    }
   ],
   "source": [
    "# assign a variable to the list of temperatures\n",
    "\n",
    "# 1. Calculate the minimum of the list and print the value using print()\n",
    "\n",
    "minimo = min(y)\n",
    "print(\"Minímo = \", minimo)\n",
    "\n",
    "\n",
    "# 2. Calculate the maximum of the list and print the value using print()\n",
    "maximo = max(y)\n",
    "print(\"Máximo = \", maximo)\n",
    "\n",
    "# 3. Items in the list that are greater than 70ºC and print the result\n",
    "\n",
    "temp_70up = []\n",
    "for i in y:\n",
    "    if i > 70:\n",
    "        temp_70up.append(i)\n",
    "        \n",
    "\n",
    "print(\"Temperaturas maiores que 70\", temp_70up)\n",
    "\n",
    "# 4. Calculate the mean temperature throughout the day and print the result\n",
    "\n",
    "soma = 0\n",
    "for i in y:\n",
    "    soma += i\n",
    "\n",
    "media = soma/len(y)\n",
    "print(\"A média é\", \"{:.0f}\".format(media))\n",
    "\n",
    "# 5.1 Solve the fault in the sensor by estimating a value\n",
    "\n",
    "# 5.2 Update of the estimated value at 03:00 on the list\n",
    "for count, item in enumerate(y):\n",
    "    if item == 0:\n",
    "        y[count] = media\n",
    "    \n",
    "\n"
   ]
  },
  {
   "cell_type": "markdown",
   "metadata": {},
   "source": [
    "## Take the decision\n",
    "Remember that if the sensor detects more than 4 hours with temperatures greater than or equal to 70ºC or any temperature higher than 80ºC or the average was higher than 65ºC throughout the day, we must give the order to change the cooling system to avoid the danger of damaging the equipment:\n",
    "* more than 4 hours with temperatures greater than or equal to 70ºC\n",
    "* some temperature higher than 80ºC\n",
    "* average was higher than 65ºC throughout the day\n",
    "If any of these three is met, the cooling system must be changed.\n"
   ]
  },
  {
   "cell_type": "code",
   "execution_count": 8,
   "metadata": {},
   "outputs": [
    {
     "name": "stdout",
     "output_type": "stream",
     "text": [
      "Fahrenheit =  [91, 151, 149, 140, 138, 140, 144, 147, 158, 169, 176, 178, 176, 181, 194, 174, 142, 127, 122, 120, 127, 118, 113, 102]\n"
     ]
    }
   ],
   "source": [
    "# Print True or False depending on whether you would change the cooling system or not\n",
    "\n",
    "regular=[]\n",
    "media_live = int()\n",
    "soma_live = int()\n",
    "up70 = int()\n",
    "up80 = int()\n",
    "\n",
    "#more than 4 hours with temperatures greater than or equal to 70ºC\n",
    "\n",
    "for index, valor in enumerate(y, start=1):\n",
    "    if valor > 70:\n",
    "        up70 += 1\n",
    "        if up70 > 4:\n",
    "            regular.append(index)\n",
    "            up70 = 0\n",
    "            \n",
    "#some temperature higher than 80ºC\n",
    "            \n",
    "for index, valor in enumerate(y, start=1):\n",
    "    if valor > 80:\n",
    "        regular.append(index)\n",
    "        \n",
    "#average was higher than 65ºC throughout the day If any of these three is met, the cooling system must be changed.\n",
    "\n",
    "for index, valor in enumerate(y, start=1):\n",
    "    soma_live += valor\n",
    "    media_live = (soma_live/index)\n",
    "    if media_live > media:\n",
    "        regular.append(index)\n",
    "#         print(\"{:.2f}\".format(media_live))\n",
    "        \n",
    "\n",
    "# Bonus: convert the list of ºC to ºFarenheit\n",
    "\n",
    "fahrenheit = []\n",
    "\n",
    "for count, celsius in enumerate(y):\n",
    "        f = 1.8* celsius +32\n",
    "        f = int(\"{:.0f}\".format(f))\n",
    "        fahrenheit.append(f)\n",
    "\n",
    "        \n",
    "print(\"Fahrenheit = \", fahrenheit)\n",
    "\n",
    "\n",
    "\n",
    "\n",
    "\n",
    "    "
   ]
  },
  {
   "cell_type": "markdown",
   "metadata": {},
   "source": [
    "## Future improvements\n",
    "1. We want the hours (not the temperatures) whose temperature exceeds 70ºC\n",
    "2. Condition that those hours are more than 4 consecutive and consecutive, not simply the sum of the whole set. Is this condition met?\n",
    "3. Average of each of the lists (ºC and ºF). How they relate?\n",
    "4. Standard deviation of each of the lists. How they relate?\n"
   ]
  },
  {
   "cell_type": "code",
   "execution_count": 11,
   "metadata": {},
   "outputs": [
    {
     "name": "stdout",
     "output_type": "stream",
     "text": [
      "Hours = [12, 13, 14, 14, 15, 16, 16, 16, 17, 17, 18, 19, 20, 21, 22, 23, 24, 25, 26]\n"
     ]
    }
   ],
   "source": [
    "# 1. We want the hours (not the temperatures) whose temperature exceeds 70ºC\n",
    "\n",
    "#Alterando para horas, como tive que iniciar em 1 no #\n",
    "for index, valor in enumerate(regular):\n",
    "        regular[index] = valor + 1\n",
    "        \n",
    "print(\"Hours =\", sorted(regular))"
   ]
  },
  {
   "cell_type": "code",
   "execution_count": 5,
   "metadata": {},
   "outputs": [],
   "source": [
    "# 2. Condition that those hours are more than 4 consecutive and consecutive, not simply the sum of the whole set. Is this condition met?\n",
    "\n",
    "Sim\n"
   ]
  },
  {
   "cell_type": "code",
   "execution_count": 14,
   "metadata": {},
   "outputs": [
    {
     "name": "stdout",
     "output_type": "stream",
     "text": [
      "Média Celsius =  60.25\n",
      "Média Fahrenheit =  144.875\n"
     ]
    }
   ],
   "source": [
    "# 3. Average of each of the lists (ºC and ºF). How they relate?\n",
    "# 4. Standard deviation of each of the lists. How they relate?\n",
    "\n",
    "\n",
    "print (\"Média Celsius = \", media)\n",
    "\n",
    "## Média Fahrenheit\n",
    "\n",
    "soma_f= 0\n",
    "for i in fahrenheit:\n",
    "    soma_f+=i\n",
    "    media_f= soma_f/len(fahrenheit)\n",
    "print(\"Média Fahrenheit = \", media_f)    \n",
    "\n",
    "\n",
    "\n",
    "## Sofre um efeito de deslocamento na mutiplicação"
   ]
  },
  {
   "cell_type": "code",
   "execution_count": 7,
   "metadata": {},
   "outputs": [],
   "source": [
    "\n"
   ]
  },
  {
   "cell_type": "code",
   "execution_count": null,
   "metadata": {},
   "outputs": [],
   "source": []
  }
 ],
 "metadata": {
  "kernelspec": {
   "display_name": "Python 3",
   "language": "python",
   "name": "python3"
  },
  "language_info": {
   "codemirror_mode": {
    "name": "ipython",
    "version": 3
   },
   "file_extension": ".py",
   "mimetype": "text/x-python",
   "name": "python",
   "nbconvert_exporter": "python",
   "pygments_lexer": "ipython3",
   "version": "3.7.6"
  }
 },
 "nbformat": 4,
 "nbformat_minor": 2
}
