{
 "cells": [
  {
   "cell_type": "markdown",
   "metadata": {},
   "source": [
    "# Processor temperature\n",
    "\n",
    "We have a temperature sensor in the processor of our company's server. We want to analyze the data provided to determinate whether we should change the cooling system for a better one. It is expensive and as a data analyst we cannot make decisions without a basis.\n",
    "\n",
    "We provide the temperatures measured throughout the 24 hours of a day in a list-type data structure composed of 24 integers:\n",
    "```\n",
    "temperatures_C = [33,66,65,0,59,60,62,64,70,76,80,69,80,83,68,79,61,53,50,49,53,48,45,39]\n",
    "```\n",
    "\n",
    "## Goals\n",
    "\n",
    "1. Treatment of lists\n",
    "2. Use of loop or list comprenhention\n",
    "3. Calculation of the mean, minimum and maximum.\n",
    "4. Filtering of lists.\n",
    "5. Interpolate an outlier.\n",
    "6. Logical operators.\n",
    "7. Print"
   ]
  },
  {
   "cell_type": "markdown",
   "metadata": {},
   "source": [
    "## Temperature graph\n",
    "To facilitate understanding, the temperature graph is shown below. You do not have to do anything in this section. The test starts in **Problem**."
   ]
  },
  {
   "cell_type": "code",
   "execution_count": 27,
   "metadata": {},
   "outputs": [
    {
     "data": {
      "text/plain": [
       "Text(0.5, 1.0, 'Temperatures of our server throughout the day')"
      ]
     },
     "execution_count": 27,
     "metadata": {},
     "output_type": "execute_result"
    },
    {
     "data": {
      "image/png": "[encoded data removed]",
      "text/plain": [
       "<Figure size 432x288 with 1 Axes>"
      ]
     },
     "metadata": {
      "needs_background": "light"
     },
     "output_type": "display_data"
    }
   ],
   "source": [
    "# import\n",
    "import matplotlib.pyplot as plt\n",
    "%matplotlib inline\n",
    "\n",
    "# axis x, axis y\n",
    "#y = [33,66,65,0,59,60,62,64,70,76,80,81,80,83,90,79,61,53,50,49,53,48,45,39]\n",
    "y = [33,66,65,0,59,60,62,64,70,76,80,69,80,83,68,79,61,53,50,49,53,48,45,39]\n",
    "x = list(range(len(y)))\n",
    "\n",
    "# plot\n",
    "plt.plot(x, y)\n",
    "plt.axhline(y=70, linewidth=1, color='r')\n",
    "plt.xlabel('hours')\n",
    "plt.ylabel('Temperature ºC')\n",
    "plt.title('Temperatures of our server throughout the day')"
   ]
  },
  {
   "cell_type": "markdown",
   "metadata": {},
   "source": [
    "## Problem\n",
    "\n",
    "If the sensor detects more than 4 hours with temperatures greater than or equal to 70ºC or any temperature above 80ºC or the average exceeds 65ºC throughout the day, we must give the order to change the cooling system to avoid damaging the processor.\n",
    "\n",
    "We will guide you step by step so you can make the decision by calculating some intermediate steps:\n",
    "\n",
    "1. Minimum temperature\n",
    "2. Maximum temperature\n",
    "3. Temperatures equal to or greater than 70ºC\n",
    "4. Average temperatures throughout the day.\n",
    "5. If there was a sensor failure at 03:00 and we did not capture the data, how would you estimate the value that we lack? Correct that value in the list of temperatures.\n",
    "6. Bonus: Our maintenance staff is from the United States and does not understand the international metric system. Pass temperatures to Degrees Fahrenheit.\n",
    "\n",
    "Formula: F = 1.8 * C + 32\n",
    "\n",
    "web: https://en.wikipedia.org/wiki/Conversion_of_units_of_temperature\n"
   ]
  },
  {
   "cell_type": "code",
   "execution_count": 23,
   "metadata": {},
   "outputs": [
    {
     "name": "stdout",
     "output_type": "stream",
     "text": [
      "The minimum temperature is 0\n",
      "The maximum temperature is 83\n",
      "Temperatures equal to or greater than 70ºC are [70, 76, 80, 80, 83, 79]\n",
      "The mean temperature throughout the day is 58.833333333333336\n",
      "The NEW mean temperature throughout the day is 61.391304347826086\n",
      "Corrected list of temperatures is:\n",
      " [33, 66, 65, 61, 59, 60, 62, 64, 70, 76, 80, 69, 80, 83, 68, 79, 61, 53, 50, 49, 53, 48, 45, 39]\n",
      "The list of temperatures in ºFarenheit:\n",
      " [91, 150, 149, 141, 138, 140, 143, 147, 158, 168, 176, 156, 176, 181, 154, 174, 141, 127, 122, 120, 127, 118, 113, 102]\n"
     ]
    }
   ],
   "source": [
    "# assign a variable to the list of temperatures\n",
    "import math\n",
    "temperatures_C = [33,66,65,0,59,60,62,64,70,76,80,69,80,83,68,79,61,53,50,49,53,48,45,39]\n",
    "# 1. Calculate the minimum of the list and print the value using print()\n",
    "print('The minimum temperature is', min(temperatures_C))\n",
    "\n",
    "# 2. Calculate the maximum of the list and print the value using print()\n",
    "print('The maximum temperature is', max(temperatures_C))\n",
    "\n",
    "# 3. Items in the list that are greater than 70ºC and print the result\n",
    "over70 = []\n",
    "for i in temperatures_C:\n",
    "    if i >= 70:\n",
    "        over70.append(i)\n",
    "print('Temperatures equal to or greater than 70ºC are', over70)\n",
    "# 4. Calculate the mean temperature throughout the day and print the result\n",
    "average = sum(temperatures_C)/len(temperatures_C)\n",
    "print('The mean temperature throughout the day is', average)\n",
    "\n",
    "# 5.1 Solve the fault in the sensor by estimating a value\n",
    "new_average = sum(temperatures_C)/(len(temperatures_C) - 1)\n",
    "print('The NEW mean temperature throughout the day is', new_average)\n",
    "\n",
    "# 5.2 Update of the estimated value at 03:00 on the list\n",
    "index = temperatures_C.index(0)\n",
    "temperatures_C.pop(index)\n",
    "temperatures_C.insert(index, math.trunc(new_average))\n",
    "print('Corrected list of temperatures is:\\n', temperatures_C)\n",
    "# Bonus: convert the list of ºC to ºFarenheit\n",
    "temperatures_F = []\n",
    "for j in temperatures_C:\n",
    "    f = math.trunc(j * 1.8 + 32)\n",
    "    temperatures_F.append(f)\n",
    "print('The list of temperatures in ºFarenheit:\\n', temperatures_F)"
   ]
  },
  {
   "cell_type": "markdown",
   "metadata": {},
   "source": [
    "## Take the decision\n",
    "Remember that if the sensor detects more than 4 hours with temperatures greater than or equal to 70ºC or any temperature higher than 80ºC or the average was higher than 65ºC throughout the day, we must give the order to change the cooling system to avoid the danger of damaging the equipment:\n",
    "* more than 4 hours with temperatures greater than or equal to 70ºC\n",
    "* some temperature higher than 80ºC\n",
    "* average was higher than 65ºC throughout the day\n",
    "If any of these three is met, the cooling system must be changed.\n"
   ]
  },
  {
   "cell_type": "code",
   "execution_count": 24,
   "metadata": {},
   "outputs": [
    {
     "name": "stdout",
     "output_type": "stream",
     "text": [
      "True\n"
     ]
    }
   ],
   "source": [
    "# Print True or False depending on whether you would change the cooling system or not\n",
    "print(True)\n"
   ]
  },
  {
   "cell_type": "markdown",
   "metadata": {},
   "source": [
    "## Future improvements\n",
    "1. We want the hours (not the temperatures) whose temperature exceeds 70ºC\n",
    "2. Condition that those hours are more than 4 consecutive and consecutive, not simply the sum of the whole set. Is this condition met?\n",
    "3. Average of each of the lists (ºC and ºF). How they relate?\n",
    "4. Standard deviation of each of the lists. How they relate?\n"
   ]
  },
  {
   "cell_type": "code",
   "execution_count": 26,
   "metadata": {},
   "outputs": [
    {
     "name": "stdout",
     "output_type": "stream",
     "text": [
      "The hours whose temperature exceeds 70ºC are:\n",
      " [8, 9, 10, 12, 13, 15]\n"
     ]
    }
   ],
   "source": [
    "# 1. We want the hours (not the temperatures) whose temperature exceeds 70ºC\n",
    "hours = []\n",
    "n = -1\n",
    "for i in temperatures_C:\n",
    "    n += 1\n",
    "    if i >= 70:\n",
    "        hours.append(n)\n",
    "print('The hours whose temperature exceeds 70ºC are:\\n', hours)"
   ]
  },
  {
   "cell_type": "code",
   "execution_count": 28,
   "metadata": {},
   "outputs": [
    {
     "name": "stdout",
     "output_type": "stream",
     "text": [
      "There are 6 hours whose temperature exceeds 70ºC during the day\n"
     ]
    }
   ],
   "source": [
    "# 2. Condition that those hours are more than 4 consecutive and consecutive, not simply the sum of the whole set. \n",
    "# Is this condition met?\n",
    "print('There are {0} hours whose temperature exceeds 70ºC during the day'.format(len(hours)))\n"
   ]
  },
  {
   "cell_type": "code",
   "execution_count": 30,
   "metadata": {},
   "outputs": [
    {
     "name": "stdout",
     "output_type": "stream",
     "text": [
      "Average C = 61.391304347826086\n",
      "Average C to F = 142.50434782608696\n",
      "Average F = 148.34782608695653\n"
     ]
    }
   ],
   "source": [
    "# 3. Average of each of the lists (ºC and ºF). How they relate?\n",
    "average_C = new_average\n",
    "average_F = sum(temperatures_F)/(len(temperatures_F) - 1)\n",
    "print('Average C =', average_C)\n",
    "print('Average C to F =', average_C * 1.8 + 32)\n",
    "print('Average F =', average_F)"
   ]
  },
  {
   "cell_type": "code",
   "execution_count": 33,
   "metadata": {},
   "outputs": [
    {
     "name": "stdout",
     "output_type": "stream",
     "text": [
      "Standard deviation of C lits is 13.331282889377793\n",
      "Standard deviation of C lits is 24.81084518830096\n"
     ]
    }
   ],
   "source": [
    "# 4. Standard deviation of each of the lists. How they relate?\n",
    "numerator_C = 0\n",
    "for i in temperatures_C:\n",
    "    numerator_C += (i - average_C)**2\n",
    "s2C = numerator_C/(len(temperatures_C) - 1)\n",
    "print('Standard deviation of C list is', math.sqrt(s2C))\n",
    "numerator_F = 0\n",
    "for i in temperatures_F:\n",
    "    numerator_F += (i - average_F)**2\n",
    "s2F = numerator_F/(len(temperatures_F) - 1)\n",
    "print('Standard deviation of C list is', math.sqrt(s2F))"
   ]
  },
  {
   "cell_type": "code",
   "execution_count": null,
   "metadata": {},
   "outputs": [],
   "source": []
  }
 ],
 "metadata": {
  "kernelspec": {
   "display_name": "Python 3",
   "language": "python",
   "name": "python3"
  },
  "language_info": {
   "codemirror_mode": {
    "name": "ipython",
    "version": 3
   },
   "file_extension": ".py",
   "mimetype": "text/x-python",
   "name": "python",
   "nbconvert_exporter": "python",
   "pygments_lexer": "ipython3",
   "version": "3.7.3"
  }
 },
 "nbformat": 4,
 "nbformat_minor": 2
}
