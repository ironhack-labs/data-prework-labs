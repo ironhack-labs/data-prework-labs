{
 "cells": [
  {
   "cell_type": "markdown",
   "metadata": {},
   "source": [
    "# Rock Paper Scissors\n",
    "\n",
    "Let's play the famous game against our computer.\n",
    "\n",
    "https://en.wikipedia.org/wiki/Rock%E2%80%93paper%E2%80%93scissors\n",
    "\n",
    "The use of functions is recommended\n",
    "\n",
    "## Goals\n",
    "1. Use of loop\n",
    "2. Data capture by console\n",
    "3. Use if-elif-else\n",
    "4. Use of try-except\n",
    "5. Definition of functions. Modular programming\n",
    "6. Logical operators.\n",
    "7. Print\n",
    "8. Import modules"
   ]
  },
  {
   "cell_type": "code",
   "execution_count": 1,
   "metadata": {},
   "outputs": [
    {
     "name": "stdout",
     "output_type": "stream",
     "text": [
      "max games = 5\n",
      "min games to win 3\n",
      "\n",
      "\n"
     ]
    },
    {
     "name": "stdin",
     "output_type": "stream",
     "text": [
      "Enter 'rock', 'paper' or 'scissors':  rock\n"
     ]
    },
    {
     "name": "stdout",
     "output_type": "stream",
     "text": [
      "Game # 1 \n",
      "player: rock \n",
      "machine: paper\n",
      "machine wins\n",
      "machine # of wins: 1 player # of wins: 0\n",
      "\n",
      "\n"
     ]
    },
    {
     "name": "stdin",
     "output_type": "stream",
     "text": [
      "Enter 'rock', 'paper' or 'scissors':  rock\n"
     ]
    },
    {
     "name": "stdout",
     "output_type": "stream",
     "text": [
      "Game # 2 \n",
      "player: rock \n",
      "machine: rock\n",
      "tie\n",
      "machine # of wins: 1 player # of wins: 0\n",
      "\n",
      "\n"
     ]
    },
    {
     "name": "stdin",
     "output_type": "stream",
     "text": [
      "Enter 'rock', 'paper' or 'scissors':  paper\n"
     ]
    },
    {
     "name": "stdout",
     "output_type": "stream",
     "text": [
      "Game # 3 \n",
      "player: paper \n",
      "machine: paper\n",
      "tie\n",
      "machine # of wins: 1 player # of wins: 0\n",
      "\n",
      "\n"
     ]
    },
    {
     "name": "stdin",
     "output_type": "stream",
     "text": [
      "Enter 'rock', 'paper' or 'scissors':  scissors\n"
     ]
    },
    {
     "name": "stdout",
     "output_type": "stream",
     "text": [
      "Game # 4 \n",
      "player: scissors \n",
      "machine: scissors\n",
      "tie\n",
      "machine # of wins: 1 player # of wins: 0\n",
      "\n",
      "\n"
     ]
    },
    {
     "name": "stdin",
     "output_type": "stream",
     "text": [
      "Enter 'rock', 'paper' or 'scissors':  scissors\n"
     ]
    },
    {
     "name": "stdout",
     "output_type": "stream",
     "text": [
      "Game # 5 \n",
      "player: scissors \n",
      "machine: scissors\n",
      "tie\n",
      "machine # of wins: 1 player # of wins: 0\n",
      "\n",
      "Not enough wins from either side\n"
     ]
    }
   ],
   "source": [
    "# Import the choice function of the random module\n",
    "# https://stackoverflow.com/questions/306400/how-to-randomly-select-an-item-from-a-list\n",
    "from random import choice\n",
    "\n",
    "# Assign to a list the 3 possible options: 'rock', 'paper' or 'scissors'.\n",
    "options = ['rock', 'paper', 'scissors']\n",
    "\n",
    "# move in out[i][0] wins over move in out[i][1]\n",
    "out = [('rock', 'scissors'), ('paper', 'rock'), ('scissors', 'paper')]    \n",
    "\n",
    "# Assign a variable to the maximum number of games: 1, 3, 5, etc ...\n",
    "maxGames = 5\n",
    "print('max games =', maxGames)\n",
    "\n",
    "# Assign a variable to the number of games a player must win to win.\n",
    "# Preferably the value will be based on the number of maximum games\n",
    "gamesToWin = int(maxGames/2)+1\n",
    "print('min games to win', gamesToWin)\n",
    "\n",
    "# Define a function that randomly returns one of the 3 options.\n",
    "# This will correspond to the play of the machine. Totally random.\n",
    "def machineChoice(options):\n",
    "    machineMove = choice(options)\n",
    "    return machineMove\n",
    "    \n",
    "# Define a function that asks your choice: 'rock', 'paper' or 'scissors'\n",
    "# you should only allow one of the 3 options. This is defensive programming.\n",
    "# If it is not rock, paper or scissors keep asking until it is.\n",
    "def playerChoice(options):\n",
    "    playerMove = input(\"Enter 'rock', 'paper' or 'scissors': \")\n",
    "    if playerMove in options:\n",
    "            return playerMove \n",
    "    else:\n",
    "        print('Please check your spelling')\n",
    "        playerMove = playerChoice(options)\n",
    "        return playerMove\n",
    "        \n",
    "# Define a function that resolves a combat.\n",
    "# Returns 0 if there is a tie, 1 if the machine wins, 2 if the human player wins\n",
    "def combat(playerMove, machineMove, out):\n",
    "    move = (playerMove, machineMove)\n",
    "\n",
    "    if move[0] == move[1]:\n",
    "        return 0\n",
    "    elif move in out:\n",
    "        return 2\n",
    "    else:\n",
    "        return 1\n",
    "    \n",
    "# Define a function that shows the choice of each player and the state of the game\n",
    "# This function should be used every time accumulated points are updated\n",
    "def showChoice(playerMove, machineMove, combatOutcome, gameNum):\n",
    "    print('Game #', gameNum, '\\nplayer:', playerMove, '\\nmachine:', machineMove)\n",
    "    if combatOutcome == 0:\n",
    "        print('tie')\n",
    "    elif combatOutcome == 2:\n",
    "        print('player wins')\n",
    "    elif combatOutcome ==1:\n",
    "        print('machine wins')\n",
    "    \n",
    "# Create two variables that accumulate the wins of each participant\n",
    "machineWins = 0\n",
    "playerWins = 0\n",
    "\n",
    "# Create a loop that iterates while no player reaches the minimum of wins\n",
    "# necessary to win. Inside the loop solves the play of the\n",
    "# machine and ask the player's. Compare them and update the value of the variables\n",
    "# that accumulate the wins of each participant.\n",
    "gameNum = 1\n",
    "\n",
    "\n",
    "while (gameNum <= maxGames) and (machineWins < gamesToWin) and (playerWins < gamesToWin):\n",
    "    print('\\n')\n",
    "    playerMove = playerChoice(options)\n",
    "    machineMove = machineChoice(options)\n",
    "    combatOutcome = combat(playerMove,machineMove,out)\n",
    "    showChoice(playerMove, machineMove, combatOutcome, gameNum)\n",
    "    if combatOutcome == 1:\n",
    "        machineWins +=1\n",
    "    elif combatOutcome == 2:\n",
    "        playerWins +=1\n",
    "    gameNum +=1\n",
    "    print('machine # of wins:', machineWins, 'player # of wins:', playerWins)\n",
    "\n",
    "\n",
    "# Print by console the winner of the game based on who has more accumulated wins\n",
    "if machineWins >=gamesToWin:\n",
    "    print('\\nMachine prevailed')\n",
    "elif playerWins >=gamesToWin:\n",
    "    print('\\nHuman prevailed')\n",
    "elif machineWins == playerWins:\n",
    "    print('\\nIt was a tie')\n",
    "else:\n",
    "    print('\\nNot enough wins from either side')"
   ]
  },
  {
   "cell_type": "markdown",
   "metadata": {},
   "source": [
    "# Bonus: Stone, paper, scissors, lizard, spock\n",
    "\n",
    "Now the improvement begins.\n",
    "\n",
    "![](images/rpsls.jpg)\n",
    "\n",
    "\n",
    "http://www.samkass.com/theories/RPSSL.html\n",
    "\n",
    "You are asked to impliment some improvements with respect to the simple previous game. In addition, the number of games (which must be ODD) will be requested per console until a valid number is entered.\n",
    "\n",
    "Improvements:\n",
    "* 5 options: stone, paper, scissors, lizard, spock\n",
    "* The number of games is requested per console\n",
    "Tip: Reuse code that you already use. If you have programmed intelligently, the bonus are simple modifications to the original game."
   ]
  },
  {
   "cell_type": "code",
   "execution_count": 2,
   "metadata": {},
   "outputs": [
    {
     "name": "stdin",
     "output_type": "stream",
     "text": [
      "Enter max number of games (number should be odd):  9\n"
     ]
    },
    {
     "name": "stdout",
     "output_type": "stream",
     "text": [
      "min games to win 5\n",
      "\n",
      "\n"
     ]
    },
    {
     "name": "stdin",
     "output_type": "stream",
     "text": [
      "Enter 'rock', 'paper', 'scissors', 'lizard' or 'spock':  rock\n"
     ]
    },
    {
     "name": "stdout",
     "output_type": "stream",
     "text": [
      "Game # 1 \n",
      "player: rock \n",
      "machine: spock\n",
      "machine wins\n",
      "machine # of wins: 1 player # of wins: 0\n",
      "\n",
      "\n"
     ]
    },
    {
     "name": "stdin",
     "output_type": "stream",
     "text": [
      "Enter 'rock', 'paper', 'scissors', 'lizard' or 'spock':  rock\n"
     ]
    },
    {
     "name": "stdout",
     "output_type": "stream",
     "text": [
      "Game # 2 \n",
      "player: rock \n",
      "machine: scissors\n",
      "player wins\n",
      "machine # of wins: 1 player # of wins: 1\n",
      "\n",
      "\n"
     ]
    },
    {
     "name": "stdin",
     "output_type": "stream",
     "text": [
      "Enter 'rock', 'paper', 'scissors', 'lizard' or 'spock':  paper\n"
     ]
    },
    {
     "name": "stdout",
     "output_type": "stream",
     "text": [
      "Game # 3 \n",
      "player: paper \n",
      "machine: scissors\n",
      "machine wins\n",
      "machine # of wins: 2 player # of wins: 1\n",
      "\n",
      "\n"
     ]
    },
    {
     "name": "stdin",
     "output_type": "stream",
     "text": [
      "Enter 'rock', 'paper', 'scissors', 'lizard' or 'spock':  paper\n"
     ]
    },
    {
     "name": "stdout",
     "output_type": "stream",
     "text": [
      "Game # 4 \n",
      "player: paper \n",
      "machine: spock\n",
      "player wins\n",
      "machine # of wins: 2 player # of wins: 2\n",
      "\n",
      "\n"
     ]
    },
    {
     "name": "stdin",
     "output_type": "stream",
     "text": [
      "Enter 'rock', 'paper', 'scissors', 'lizard' or 'spock':  spock\n"
     ]
    },
    {
     "name": "stdout",
     "output_type": "stream",
     "text": [
      "Game # 5 \n",
      "player: spock \n",
      "machine: rock\n",
      "player wins\n",
      "machine # of wins: 2 player # of wins: 3\n",
      "\n",
      "\n"
     ]
    },
    {
     "name": "stdin",
     "output_type": "stream",
     "text": [
      "Enter 'rock', 'paper', 'scissors', 'lizard' or 'spock':  lizard\n"
     ]
    },
    {
     "name": "stdout",
     "output_type": "stream",
     "text": [
      "Game # 6 \n",
      "player: lizard \n",
      "machine: rock\n",
      "machine wins\n",
      "machine # of wins: 3 player # of wins: 3\n",
      "\n",
      "\n"
     ]
    },
    {
     "name": "stdin",
     "output_type": "stream",
     "text": [
      "Enter 'rock', 'paper', 'scissors', 'lizard' or 'spock':  lizard\n"
     ]
    },
    {
     "name": "stdout",
     "output_type": "stream",
     "text": [
      "Game # 7 \n",
      "player: lizard \n",
      "machine: paper\n",
      "player wins\n",
      "machine # of wins: 3 player # of wins: 4\n",
      "\n",
      "\n"
     ]
    },
    {
     "name": "stdin",
     "output_type": "stream",
     "text": [
      "Enter 'rock', 'paper', 'scissors', 'lizard' or 'spock':  paper\n"
     ]
    },
    {
     "name": "stdout",
     "output_type": "stream",
     "text": [
      "Game # 8 \n",
      "player: paper \n",
      "machine: scissors\n",
      "machine wins\n",
      "machine # of wins: 4 player # of wins: 4\n",
      "\n",
      "\n"
     ]
    },
    {
     "name": "stdin",
     "output_type": "stream",
     "text": [
      "Enter 'rock', 'paper', 'scissors', 'lizard' or 'spock':  paper\n"
     ]
    },
    {
     "name": "stdout",
     "output_type": "stream",
     "text": [
      "Game # 9 \n",
      "player: paper \n",
      "machine: rock\n",
      "player wins\n",
      "machine # of wins: 4 player # of wins: 5\n",
      "\n",
      "Human prevailed\n"
     ]
    }
   ],
   "source": [
    "# Import the choice function of the random module\n",
    "from random import choice\n",
    "\n",
    "# Define a function that asks for an odd number on the keyboard, until it is not valid\n",
    "# will keep asking\n",
    "def maxNumOfGames():\n",
    "    maxGames = int(input('Enter max number of games (number should be odd): '))\n",
    "    if maxGames % 2 != 0:\n",
    "        return maxGames\n",
    "    else:\n",
    "        maxGames = maxNumOfGames()\n",
    "        return maxGames\n",
    "\n",
    "# Assign a list of 5 possible options.\n",
    "options = ['rock', 'paper', 'scissors', 'lizard', 'spock']\n",
    "\n",
    "# move in out[i][0] wins over move in out[i][1]\n",
    "out = [('rock', 'scissors'), ('rock', 'lizard'), \n",
    "       ('paper', 'rock'), ('paper', 'spock'), \n",
    "       ('scissors', 'paper'), ('scissors', 'lizard'), \n",
    "       ('lizard', 'spock'), ('lizard', 'paper'), \n",
    "       ('spock', 'rock'), ('spock', 'scissors')]\n",
    "\n",
    "# Assign a variable to the maximum number of games: 1, 3, 5, etc ...\n",
    "# This time the previously defined function is used\n",
    "maxGames = maxNumOfGames()\n",
    "\n",
    "# Assign a variable to the number of games a player must win to win.\n",
    "# Preferably the value will be based on the number of maximum games\n",
    "gamesToWin = int(maxGames/2)+1\n",
    "print('min games to win', gamesToWin)\n",
    "\n",
    "# Define a function that randomly returns one of the 5 options.\n",
    "# This will correspond to the play of the machine. Totally random.\n",
    "def machineChoice(options):\n",
    "    machineMove = choice(options)\n",
    "    return machineMove\n",
    "\n",
    "# Define a function that asks your choice between 5\n",
    "# you should only allow one of the 5 options. This is defensive programming.\n",
    "# If it is not valid, keep asking until it is valid.\n",
    "def playerChoice(options):\n",
    "    playerMove = input(\"Enter 'rock', 'paper', 'scissors', 'lizard' or 'spock': \")\n",
    "    if playerMove in options:\n",
    "            return playerMove \n",
    "    else:\n",
    "        print('Please check your spelling')\n",
    "        playerMove = playerChoice(options)\n",
    "        return playerMove\n",
    "\n",
    "# Define a function that resolves a combat.\n",
    "# Returns 0 if there is a tie, 1 if the machine wins, 2 if the human player wins\n",
    "# Now there are more options\n",
    "def combat(playerMove, machineMove, out):\n",
    "    move = (playerMove, machineMove)\n",
    "    \n",
    "    if move[0] == move[1]:\n",
    "        return 0\n",
    "    elif move in out:\n",
    "        return 2\n",
    "    else:\n",
    "        return 1 \n",
    "    \n",
    "# Define a function that shows the choice of each player and the state of the game\n",
    "# This function should be used every time accumulated points are updated\n",
    "def showChoice(playerMove, machineMove, combatOutcome, gameNum):\n",
    "    print('Game #', gameNum, '\\nplayer:', playerMove, '\\nmachine:', machineMove)\n",
    "    if combatOutcome == 0:\n",
    "        print('tie')\n",
    "    elif combatOutcome == 2:\n",
    "        print('player wins')\n",
    "    elif combatOutcome ==1:\n",
    "        print('machine wins')\n",
    "    \n",
    "# Create two variables that accumulate the wins of each participant\n",
    "machineWins = 0\n",
    "playerWins = 0\n",
    "\n",
    "# Create a loop that iterates while no player reaches the minimum of wins\n",
    "# necessary to win. Inside the loop solves the play of the\n",
    "# machine and ask the player's. Compare them and update the value of the variables\n",
    "# that accumulate the wins of each participant.\n",
    "gameNum = 1\n",
    "\n",
    "while (gameNum <= maxGames) and (machineWins < gamesToWin) and (playerWins < gamesToWin):\n",
    "    print('\\n')\n",
    "    playerMove = playerChoice(options)\n",
    "    machineMove = machineChoice(options)\n",
    "    combatOutcome = combat(playerMove,machineMove,out)\n",
    "    showChoice(playerMove, machineMove, combatOutcome, gameNum)\n",
    "    if combatOutcome == 1:\n",
    "        machineWins +=1\n",
    "    elif combatOutcome == 2:\n",
    "        playerWins +=1\n",
    "    gameNum +=1\n",
    "    print('machine # of wins:', machineWins, 'player # of wins:', playerWins)\n",
    "    \n",
    "# Print by console the winner of the game based on who has more accumulated wins\n",
    "if machineWins >=gamesToWin:\n",
    "    print('\\nMachine prevailed')\n",
    "elif playerWins >=gamesToWin:\n",
    "    print('\\nHuman prevailed')\n",
    "elif machineWins == playerWins:\n",
    "    print('\\nIt was a tie')\n",
    "else:\n",
    "    print('\\nNot enough wins from either side')"
   ]
  }
 ],
 "metadata": {
  "kernelspec": {
   "display_name": "Python 3",
   "language": "python",
   "name": "python3"
  },
  "language_info": {
   "codemirror_mode": {
    "name": "ipython",
    "version": 3
   },
   "file_extension": ".py",
   "mimetype": "text/x-python",
   "name": "python",
   "nbconvert_exporter": "python",
   "pygments_lexer": "ipython3",
   "version": "3.7.3"
  }
 },
 "nbformat": 4,
 "nbformat_minor": 2
}
