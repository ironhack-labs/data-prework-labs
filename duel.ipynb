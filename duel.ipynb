{
 "cells": [
  {
   "cell_type": "markdown",
   "metadata": {},
   "source": [
    "# Duel of sorcerers\n",
    "You are witnessing an epic battle between two powerful sorcerers: Gandalf and Saruman. Each sorcerer has 10 spells of variable power in their mind and they are going to throw them one after the other. The winner of the duel will be the one who wins more of those clashes between spells. Spells are represented as a list of 10 integers whose value equals the power of the spell.\n",
    "```\n",
    "gandalf = [10, 11, 13, 30, 22, 11, 10, 33, 22, 22]\n",
    "saruman = [23, 66, 12, 43, 12, 10, 44, 23, 12, 17]\n",
    "```\n",
    "For example:\n",
    "1. The first clash is won by Saruman: 10 against 23, wins 23\n",
    "2. The second clash wins Saruman: 11 against 66, wins 66\n",
    "3. etc.\n",
    "\n",
    "\n",
    "You will create two variables, one for each sorcerer, where the sum of clashes won will be stored. Depending on which variable is greater at the end of the duel, you will show one of the following three results on the screen:\n",
    "* Gandalf wins\n",
    "* Saruman wins\n",
    "* Tie\n",
    "\n",
    "<img src=\"images/content_lightning_bolt_big.jpg\" width=\"400\">"
   ]
  },
  {
   "cell_type": "markdown",
   "metadata": {},
   "source": [
    "## Solution"
   ]
  },
  {
   "cell_type": "code",
   "execution_count": 3,
   "metadata": {},
   "outputs": [],
   "source": [
    "# Assign spell power lists to variables\n",
    "\n",
    "gandalf = [10, 11, 13, 30, 22, 11, 10, 33, 22, 22]\n",
    "saruman = [23, 66, 12, 43, 12, 10, 44, 23, 12, 17]"
   ]
  },
  {
   "cell_type": "code",
   "execution_count": 4,
   "metadata": {},
   "outputs": [],
   "source": [
    "# Assign 0 to each variable that stores the victories\n",
    "\n",
    "gandalf_wins = 0\n",
    "saruman_wins = 0\n",
    "tie = 0"
   ]
  },
  {
   "cell_type": "code",
   "execution_count": 5,
   "metadata": {},
   "outputs": [
    {
     "name": "stdout",
     "output_type": "stream",
     "text": [
      "Gandalf wins : 6\n",
      "Saruman wins : 4\n"
     ]
    }
   ],
   "source": [
    "# Execution of spell clashes\n",
    "\n",
    "for (g,s) in zip(gandalf, saruman):\n",
    "    if g > s:\n",
    "        gandalf_wins += 1\n",
    "    elif g < s:\n",
    "        saruman_wins += 1\n",
    "    else:\n",
    "        tie += 1\n",
    "\n",
    "            \n",
    "print(\"Gandalf wins :\", gandalf_wins)\n",
    "print(\"Saruman wins :\", saruman_wins)"
   ]
  },
  {
   "cell_type": "code",
   "execution_count": 6,
   "metadata": {},
   "outputs": [
    {
     "name": "stdout",
     "output_type": "stream",
     "text": [
      "Gandalf wins !\n"
     ]
    }
   ],
   "source": [
    "# We check who has won, do not forget the possibility of a draw.\n",
    "# Print the result based on the winner.\n",
    "\n",
    "if gandalf_wins > saruman_wins:\n",
    "    print(\"Gandalf wins !\")\n",
    "elif gandalf_wins < saruman_wins:\n",
    "    print(\"Saruman wins !\")\n",
    "else:\n",
    "    print(\"It's a draw !\")\n",
    "        \n"
   ]
  },
  {
   "cell_type": "markdown",
   "metadata": {},
   "source": [
    "## Goals\n",
    "\n",
    "1. Treatment of lists\n",
    "2. Use of **for loop**\n",
    "3. Use of conditional **if-elif-else**\n",
    "4. Use of the functions **range(), len()**\n",
    "5. Print"
   ]
  },
  {
   "cell_type": "markdown",
   "metadata": {},
   "source": [
    "## Bonus\n",
    "\n",
    "1. Spells now have a name and there is a dictionary that relates that name to a power.\n",
    "2. A sorcerer wins if he succeeds in winning 3 spell clashes in a row.\n",
    "3. Average of each of the spell lists.\n",
    "4. Standard deviation of each of the spell lists.\n",
    "\n",
    "```\n",
    "POWER = {\n",
    "    'Fireball': 50, \n",
    "    'Lightning bolt': 40, \n",
    "    'Magic arrow': 10, \n",
    "    'Black Tentacles': 25, \n",
    "    'Contagion': 45\n",
    "}\n",
    "\n",
    "gandalf = ['Fireball', 'Lightning bolt', 'Lightning bolt', 'Magic arrow', 'Fireball', \n",
    "           'Magic arrow', 'Lightning bolt', 'Fireball', 'Fireball', 'Fireball']\n",
    "saruman = ['Contagion', 'Contagion', 'Black Tentacles', 'Fireball', 'Black Tentacles', \n",
    "           'Lightning bolt', 'Magic arrow', 'Contagion', 'Magic arrow', 'Magic arrow']\n",
    "```\n",
    "\n",
    "Good luck!"
   ]
  },
  {
   "cell_type": "code",
   "execution_count": 2,
   "metadata": {},
   "outputs": [],
   "source": [
    "# 1. Spells now have a name and there is a dictionary that relates that name to a power.\n",
    "# variables\n",
    "\n",
    "POWER = {\n",
    "    'Fireball': 50, \n",
    "    'Lightning bolt': 40, \n",
    "    'Magic arrow': 10, \n",
    "    'Black Tentacles': 25, \n",
    "    'Contagion': 45\n",
    "}\n",
    "\n",
    "gandalf = ['Fireball', 'Lightning bolt', 'Lightning bolt', 'Magic arrow', 'Fireball', \n",
    "           'Magic arrow', 'Lightning bolt', 'Fireball', 'Magic arrow', 'Fireball']\n",
    "saruman = ['Contagion', 'Contagion', 'Black Tentacles', 'Fireball', 'Black Tentacles', \n",
    "           'Lightning bolt', 'Magic arrow', 'Contagion', 'Magic arrow', 'Magic arrow']"
   ]
  },
  {
   "cell_type": "code",
   "execution_count": 3,
   "metadata": {},
   "outputs": [
    {
     "name": "stdout",
     "output_type": "stream",
     "text": [
      "[50, 40, 40, 10, 50, 10, 40, 50, 10, 50]\n",
      "[45, 45, 25, 50, 25, 40, 10, 45, 10, 10]\n"
     ]
    }
   ],
   "source": [
    "# Assign spell power lists to variables\n",
    "\n",
    "p_gandalf = []\n",
    "for g in gandalf:\n",
    "    for name, power in POWER.items():\n",
    "        if g == name:\n",
    "            p_gandalf.append(power)  \n",
    "        else:\n",
    "            pass \n",
    "    \n",
    "print(p_gandalf)\n",
    "\n",
    "p_saruman = []\n",
    "for s in saruman:\n",
    "    for name, power in POWER.items():\n",
    "        if s == name:\n",
    "            p_saruman.append(power)  \n",
    "        else:\n",
    "            pass \n",
    "    \n",
    "print(p_saruman)"
   ]
  },
  {
   "cell_type": "code",
   "execution_count": 6,
   "metadata": {},
   "outputs": [
    {
     "name": "stdout",
     "output_type": "stream",
     "text": [
      "Gandalf wins : 6\n",
      "Saruman wins : 3\n",
      "Draw : 1\n",
      "Results of clashes : [True, False, True, False, True, False, True, True, 0, True]\n"
     ]
    }
   ],
   "source": [
    "# 2. A sorcerer wins if he succeeds in winning 3 spell clashes in a row.\n",
    "\n",
    "p_gandalf_wins = 0\n",
    "p_saruman_wins = 0\n",
    "p_tie = 0\n",
    "clashes = []\n",
    "\n",
    "# Execution of spell clashes\n",
    "\n",
    "for (gp, sp) in zip(p_gandalf, p_saruman):\n",
    "    if gp > sp:\n",
    "        p_gandalf_wins += 1\n",
    "        clashes.append(True)\n",
    "    elif gp < sp:\n",
    "        p_saruman_wins += 1\n",
    "        clashes.append(False)\n",
    "    elif gp == sp:\n",
    "        p_tie += 1\n",
    "        clashes.append(0)\n",
    "            \n",
    "print(\"Gandalf wins :\", p_gandalf_wins)\n",
    "print(\"Saruman wins :\", p_saruman_wins)\n",
    "print(\"Draw :\", p_tie)\n",
    "print(\"Results of clashes :\", clashes)\n",
    "\n",
    "# check for 3 wins in a row\n",
    "\n",
    "wins_g = 0\n",
    "wins_s = 0\n",
    "wins_row = 3\n",
    "\n",
    "#while wins_g < wins_row:\n",
    "#    for c in clashes:\n",
    "#        if c[1] == [c+1]:\n",
    "            \n",
    "\n",
    "# check the winner"
   ]
  },
  {
   "cell_type": "code",
   "execution_count": 7,
   "metadata": {},
   "outputs": [
    {
     "name": "stdout",
     "output_type": "stream",
     "text": [
      "Average of Gandalf's spell list : 35.0\n",
      "Average of Saruman's spell list : 30.5\n"
     ]
    }
   ],
   "source": [
    "# 3. Average of each of the spell lists.\n",
    "\n",
    "import statistics\n",
    "\n",
    "av_g = sum(p_gandalf) / len(p_gandalf)\n",
    "av_s = sum(p_saruman) / len(p_saruman)\n",
    "\n",
    "print(\"Average of Gandalf's spell list :\", av_g)\n",
    "print(\"Average of Saruman's spell list :\", av_s)"
   ]
  },
  {
   "cell_type": "code",
   "execution_count": 8,
   "metadata": {},
   "outputs": [
    {
     "name": "stdout",
     "output_type": "stream",
     "text": [
      "Deviation of Gandalf's spell list : 16.881943016134134\n",
      "Deviation of Saruman's spell list : 15.56438241627338\n"
     ]
    }
   ],
   "source": [
    "# 4. Standard deviation of each of the spell lists.\n",
    "\n",
    "import numpy as np\n",
    "\n",
    "print(\"Deviation of Gandalf's spell list :\", np.std(p_gandalf))\n",
    "print(\"Deviation of Saruman's spell list :\", np.std(p_saruman))"
   ]
  },
  {
   "cell_type": "code",
   "execution_count": null,
   "metadata": {},
   "outputs": [],
   "source": []
  }
 ],
 "metadata": {
  "kernelspec": {
   "display_name": "Python 3",
   "language": "python",
   "name": "python3"
  },
  "language_info": {
   "codemirror_mode": {
    "name": "ipython",
    "version": 3
   },
   "file_extension": ".py",
   "mimetype": "text/x-python",
   "name": "python",
   "nbconvert_exporter": "python",
   "pygments_lexer": "ipython3",
   "version": "3.7.6"
  }
 },
 "nbformat": 4,
 "nbformat_minor": 2
}
