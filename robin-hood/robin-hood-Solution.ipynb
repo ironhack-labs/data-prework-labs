{
 "cells": [
  {
   "cell_type": "markdown",
   "metadata": {},
   "source": [
    "# Robin Hood:\n",
    "We are in a competition to win the archery contest in Sherwood. With our bow and arrows we shoot on a target and try to hit as close as possible to the center.\n",
    "\n",
    "The center of the target is represented by the values (0, 0) on the coordinate axes.\n",
    "\n",
    "![](images/arrows.jpg)\n",
    "\n",
    "## Goals:\n",
    "* data structures: lists, sets, tuples\n",
    "* logical operators: if-elif-else\n",
    "* loop: while/for\n",
    "* minimum (optional sorting)\n",
    "\n",
    "## Description:\n",
    "In the 2-dimensional space, a point can be defined by a pair of values that correspond to the horizontal coordinate (x) and the vertical coordinate (y). The space can be divided into 4 zones (quadrants): Q1, Q2, Q3, Q4. Whose single point of union is the point (0, 0).\n",
    "\n",
    "If a point is in Q1 both its x coordinate and the y are positive. I leave a link to wikipedia to familiarize yourself with these quadrants.\n",
    "\n",
    "https://en.wikipedia.org/wiki/Cartesian_coordinate_system\n",
    "\n",
    "https://en.wikipedia.org/wiki/Euclidean_distance\n",
    "\n",
    "## Shots\n",
    "```\n",
    "points = [(4, 5), (-0, 2), (4, 7), (1, -3), (3, -2), (4, 5),\n",
    "          (3, 2), (5, 7), (-5, 7), (2, 2), (-4, 5), (0, -2),\n",
    "          (-4, 7), (-1, 3), (-3, 2), (-4, -5), (-3, 2),\n",
    "          (5, 7), (5, 7), (2, 2), (9, 9), (-8, -9)]\n",
    "```\n",
    "\n",
    "## Tasks\n",
    "1. Robin Hood is famous for hitting an arrow with another arrow. Did you get it?\n",
    "2. Calculate how many arrows have fallen in each quadrant.\n",
    "3. Find the point closest to the center. Calculate its distance to the center. \n",
    "4. If the target has a radius of 9, calculate the number of arrows that must be picked up in the forest."
   ]
  },
  {
   "cell_type": "code",
   "execution_count": 1,
   "metadata": {},
   "outputs": [],
   "source": [
    "# Variables\n",
    "\n",
    "points = [(4, 5), (-0, 2), (4, 7), (1, -3), (3, -2), (4, 5),\n",
    "          (3, 2), (5, 7), (-5, 7), (2, 2), (-4, 5), (0, -2),\n",
    "          (-4, 7), (-1, 3), (-3, 2), (-4, -5), (-3, 2),\n",
    "          (5, 7), (5, 7), (2, 2), (9, 9), (-8, -9)]"
   ]
  },
  {
   "cell_type": "code",
   "execution_count": 2,
   "metadata": {},
   "outputs": [
    {
     "name": "stdout",
     "output_type": "stream",
     "text": [
      "Yes, we are like Robin Hood\n"
     ]
    }
   ],
   "source": [
    "# 1. Robin Hood is famous for hitting an arrow with another arrow. Did you get it?\n",
    "arrow=set(points)\n",
    "if len(arrow)<len(points):\n",
    "  print(\"Yes, we are like Robin Hood\")\n",
    "elif len(arrow)==len(points):\n",
    "  print(\"No, Robin Hood is cooler than we are\")\n",
    "\n",
    "\n"
   ]
  },
  {
   "cell_type": "code",
   "execution_count": 3,
   "metadata": {},
   "outputs": [
    {
     "name": "stdout",
     "output_type": "stream",
     "text": [
      "Q1:  11\n",
      "Q2:  6\n",
      "Q3:  2\n",
      "Q4:  3\n"
     ]
    }
   ],
   "source": [
    "# 2. Calculate how many arrows have fallen in each quadrant.\n",
    "q1=0\n",
    "q2=0\n",
    "q3=0\n",
    "q4=0\n",
    "\n",
    "for a in range(len(points)):\n",
    "    if abs(points[a][0])==points[a][0]:\n",
    "        x=\"positive\"\n",
    "    else:\n",
    "        x=\"negative\"\n",
    "    if abs(points[a][1])==points[a][1]:\n",
    "        y=\"positive\"\n",
    "    else:\n",
    "        y=\"negative\"\n",
    "    if x==\"positive\" and y==\"positive\":\n",
    "        q1+=1\n",
    "    elif x==\"negative\" and y==\"positive\":\n",
    "        q2+=1\n",
    "    elif x==\"negative\" and y==\"negative\":\n",
    "        q3+=1\n",
    "    elif x==\"positive\" and y==\"negative\":\n",
    "        q4+=1\n",
    "\n",
    "print(\"Q1: \",q1)\n",
    "print(\"Q2: \",q2)\n",
    "print(\"Q3: \",q3)\n",
    "print(\"Q4: \",q4)\n"
   ]
  },
  {
   "cell_type": "code",
   "execution_count": 4,
   "metadata": {},
   "outputs": [
    {
     "name": "stdout",
     "output_type": "stream",
     "text": [
      "Closest point:  (0, 2)\n",
      "Min distance:  2.0\n"
     ]
    }
   ],
   "source": [
    "# 3. Find the point closest to the center. Calculate its distance to the center\n",
    "# Defining a function that calculates the distance to the center can help.\n",
    "\n",
    "min_dist=100000\n",
    "point=[]\n",
    "def dis_center(c,d):\n",
    "    h=((c**2)+(d**2))**0.5\n",
    "    return(h)\n",
    "\n",
    "for p in range(len(points)):\n",
    "    t1=points[p][0]\n",
    "    t2=points[p][1]\n",
    "    distance=dis_center(t1,t2)\n",
    "    if distance<min_dist:\n",
    "        min_dist=distance\n",
    "        point=points[p]\n",
    "\n",
    "print(\"Closest point: \",point)\n",
    "print(\"Min distance: \",min_dist)\n"
   ]
  },
  {
   "cell_type": "code",
   "execution_count": 5,
   "metadata": {},
   "outputs": [
    {
     "name": "stdout",
     "output_type": "stream",
     "text": [
      "Number of arrows out of the target:  0\n"
     ]
    }
   ],
   "source": [
    "# 4. If the target has a radius of 9, calculate the number of arrows that \n",
    "# must be picked up in the forest.\n",
    "\n",
    "radius=9\n",
    "out=0\n",
    "for p in range(len(points)):\n",
    "    t1=points[p][0]\n",
    "    t2=points[p][1]\n",
    "    if (abs(t1)>radius) or (abs(t2)>radius):\n",
    "        out+=1\n",
    "print(\"Number of arrows out of the target: \",out)\n"
   ]
  },
  {
   "cell_type": "code",
   "execution_count": null,
   "metadata": {},
   "outputs": [],
   "source": []
  }
 ],
 "metadata": {
  "kernelspec": {
   "display_name": "Python 3",
   "language": "python",
   "name": "python3"
  },
  "language_info": {
   "codemirror_mode": {
    "name": "ipython",
    "version": 3
   },
   "file_extension": ".py",
   "mimetype": "text/x-python",
   "name": "python",
   "nbconvert_exporter": "python",
   "pygments_lexer": "ipython3",
   "version": "3.7.4"
  }
 },
 "nbformat": 4,
 "nbformat_minor": 2
}
