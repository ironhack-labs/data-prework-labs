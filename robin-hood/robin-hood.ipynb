{
 "cells": [
  {
   "cell_type": "markdown",
   "metadata": {},
   "source": [
    "# Robin Hood:\n",
    "We are in a competition to win the archery contest in Sherwood. With our bow and arrows we shoot on a target and try to hit as close as possible to the center.\n",
    "\n",
    "The center of the target is represented by the values (0, 0) on the coordinate axes.\n",
    "\n",
    "![](images/arrows.jpg)\n",
    "\n",
    "## Goals:\n",
    "* data structures: lists, sets, tuples\n",
    "* logical operators: if-elif-else\n",
    "* loop: while/for\n",
    "* minimum (optional sorting)\n",
    "\n",
    "## Description:\n",
    "In the 2-dimensional space, a point can be defined by a pair of values that correspond to the horizontal coordinate (x) and the vertical coordinate (y). The space can be divided into 4 zones (quadrants): Q1, Q2, Q3, Q4. Whose single point of union is the point (0, 0).\n",
    "\n",
    "If a point is in Q1 both its x coordinate and the y are positive. I leave a link to wikipedia to familiarize yourself with these quadrants.\n",
    "\n",
    "https://en.wikipedia.org/wiki/Cartesian_coordinate_system\n",
    "\n",
    "https://en.wikipedia.org/wiki/Euclidean_distance\n",
    "\n",
    "## Shots\n",
    "```\n",
    "points = [(4, 5), (-0, 2), (4, 7), (1, -3), (3, -2), (4, 5),\n",
    "          (3, 2), (5, 7), (-5, 7), (2, 2), (-4, 5), (0, -2),\n",
    "          (-4, 7), (-1, 3), (-3, 2), (-4, -5), (-3, 2),\n",
    "          (5, 7), (5, 7), (2, 2), (9, 9), (-8, -9)]\n",
    "```\n",
    "\n",
    "## Tasks\n",
    "1. Robin Hood is famous for hitting an arrow with another arrow. Did you get it?\n",
    "2. Calculate how many arrows have fallen in each quadrant.\n",
    "3. Find the point closest to the center. Calculate its distance to the center. \n",
    "4. If the target has a radius of 9, calculate the number of arrows that must be picked up in the forest."
   ]
  },
  {
   "cell_type": "code",
   "execution_count": 1,
   "metadata": {},
   "outputs": [],
   "source": [
    "# Variables\n",
    "\n",
    "points = [(4, 5), (-0, 2), (4, 7), (1, -3), (3, -2), (4, 5),\n",
    "          (3, 2), (5, 7), (-5, 7), (2, 2), (-4, 5), (0, -2),\n",
    "          (-4, 7), (-1, 3), (-3, 2), (-4, -5), (-3, 2),\n",
    "          (5, 7), (5, 7), (2, 2), (9, 9), (-8, -9)]"
   ]
  },
  {
   "cell_type": "code",
   "execution_count": 2,
   "metadata": {},
   "outputs": [
    {
     "name": "stdout",
     "output_type": "stream",
     "text": "Yes of course. Duplicated shots:  [(4, 5), (-3, 2), (5, 7), (5, 7), (2, 2)]\n"
    }
   ],
   "source": [
    "# 1. Robin Hood is famous for hitting an arrow with another arrow. Did you get it?\n",
    "seen = []\n",
    "dupes = []\n",
    "for point in points:\n",
    "    if point not in seen:\n",
    "        seen.append(point)\n",
    "    else:\n",
    "        dupes.append(point)\n",
    "\n",
    "if (len(dupes) == 0):\n",
    "    print('No one can do it other than Mr Robin Hood')\n",
    "else:\n",
    "    print('Yes of course. Duplicated shots: ', dupes)\n",
    "\n"
   ]
  },
  {
   "cell_type": "code",
   "execution_count": 3,
   "metadata": {},
   "outputs": [
    {
     "name": "stdout",
     "output_type": "stream",
     "text": "Shots in quadrant 1 =  11\nShots in quadrant 2 =  6\nShots in quadrant 3 =  2\nShots in quadrant 4 =  3\n"
    }
   ],
   "source": [
    "# 2. Calculate how many arrows have fallen in each quadrant.\n",
    "q1 = []\n",
    "q2 = []\n",
    "q3 = []\n",
    "q4 = []\n",
    "center = 0\n",
    "\n",
    "# considering 0 as positive\n",
    "for point in points:\n",
    "    if (point[0] >= 0 and point[1] >= 0):\n",
    "        q1.append(point)\n",
    "    elif (point[0] < 0 and point[1] >= 0):\n",
    "        q2.append(point)\n",
    "    elif (point[0] < 0 and point[1] < 0):\n",
    "        q3.append(point)\n",
    "    elif (point[0] >= 0 and point[1] < 0):\n",
    "        q4.append(point)\n",
    "\n",
    "print('Shots in quadrant 1 = ', len(q1))\n",
    "print('Shots in quadrant 2 = ', len(q2))\n",
    "print('Shots in quadrant 3 = ', len(q3))\n",
    "print('Shots in quadrant 4 = ', len(q4))\n",
    "\n"
   ]
  },
  {
   "cell_type": "code",
   "execution_count": 4,
   "metadata": {},
   "outputs": [
    {
     "name": "stdout",
     "output_type": "stream",
     "text": "Closest shot:  (0, 2)\nDistance of closest shot:  2.0\n"
    }
   ],
   "source": [
    "# 3. Find the point closest to the center. Calculate its distance to the center\n",
    "# Defining a function that calculates the distance to the center can help.\n",
    "def calculate_distance(point):\n",
    "    x = abs(point[0])\n",
    "    y = abs(point[1])\n",
    "    \n",
    "    return (x**2 + y**2)**0.5\n",
    "\n",
    "closest = [10,10]\n",
    "closest_dist = 100\n",
    "for point in points:\n",
    "    dist = calculate_distance(point)\n",
    "    if (dist < closest_dist):\n",
    "        closest = point\n",
    "        closest_dist = dist\n",
    "\n",
    "print('Closest shot: ', closest)\n",
    "print('Distance of closest shot: ', closest_dist)\n"
   ]
  },
  {
   "cell_type": "code",
   "execution_count": 5,
   "metadata": {},
   "outputs": [
    {
     "name": "stdout",
     "output_type": "stream",
     "text": "Fail shots:  [(9, 9), (-8, -9)]\nNumber of fail shots:  2\n"
    }
   ],
   "source": [
    "# 4. If the target has a radius of 9, calculate the number of arrows that \n",
    "# must be picked up in the forest.\n",
    "fail_shots = []\n",
    "\n",
    "for point in points:\n",
    "    if (abs(point[0]) >= 9 or abs(point[1]) >= 9):\n",
    "        fail_shots.append(point)\n",
    "        \n",
    "print('Fail shots: ', fail_shots)\n",
    "print('Number of fail shots: ', len(fail_shots))\n"
   ]
  },
  {
   "cell_type": "code",
   "execution_count": null,
   "metadata": {},
   "outputs": [],
   "source": []
  }
 ],
 "metadata": {
  "kernelspec": {
   "display_name": "Python 3",
   "language": "python",
   "name": "python3"
  },
  "language_info": {
   "codemirror_mode": {
    "name": "ipython",
    "version": 3
   },
   "file_extension": ".py",
   "mimetype": "text/x-python",
   "name": "python",
   "nbconvert_exporter": "python",
   "pygments_lexer": "ipython3",
   "version": "3.7.6"
  }
 },
 "nbformat": 4,
 "nbformat_minor": 2
}