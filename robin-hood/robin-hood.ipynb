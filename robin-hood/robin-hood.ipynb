{
 "cells": [
  {
   "cell_type": "markdown",
   "metadata": {},
   "source": [
    "# Robin Hood:\n",
    "We are in a competition to win the archery contest in Sherwood. With our bow and arrows we shoot on a target and try to hit as close as possible to the center.\n",
    "\n",
    "The center of the target is represented by the values (0, 0) on the coordinate axes.\n",
    "\n",
    "![](images/arrows.jpg)\n",
    "\n",
    "## Goals:\n",
    "* data structures: lists, sets, tuples\n",
    "* logical operators: if-elif-else\n",
    "* loop: while/for\n",
    "* minimum (optional sorting)\n",
    "\n",
    "## Description:\n",
    "In the 2-dimensional space, a point can be defined by a pair of values that correspond to the horizontal coordinate (x) and the vertical coordinate (y). The space can be divided into 4 zones (quadrants): Q1, Q2, Q3, Q4. Whose single point of union is the point (0, 0).\n",
    "\n",
    "If a point is in Q1 both its x coordinate and the y are positive. I leave a link to wikipedia to familiarize yourself with these quadrants.\n",
    "\n",
    "https://en.wikipedia.org/wiki/Cartesian_coordinate_system\n",
    "\n",
    "https://en.wikipedia.org/wiki/Euclidean_distance\n",
    "\n",
    "## Shots\n",
    "```\n",
    "points = [(4, 5), (-0, 2), (4, 7), (1, -3), (3, -2), (4, 5),\n",
    "          (3, 2), (5, 7), (-5, 7), (2, 2), (-4, 5), (0, -2),\n",
    "          (-4, 7), (-1, 3), (-3, 2), (-4, -5), (-3, 2),\n",
    "          (5, 7), (5, 7), (2, 2), (9, 9), (-8, -9)]\n",
    "```\n",
    "\n",
    "## Tasks\n",
    "1. Robin Hood is famous for hitting an arrow with another arrow. Did you get it?\n",
    "2. Calculate how many arrows have fallen in each quadrant.\n",
    "3. Find the point closest to the center. Calculate its distance to the center. \n",
    "4. If the target has a radius of 9, calculate the number of arrows that must be picked up in the forest."
   ]
  },
  {
   "cell_type": "code",
   "execution_count": 1,
   "metadata": {},
   "outputs": [],
   "source": [
    "# Variables\n",
    "\n",
    "points = [(4, 5), (-0, 2), (4, 7), (1, -3), (3, -2), (4, 5),\n",
    "          (3, 2), (5, 7), (-5, 7), (2, 2), (-4, 5), (0, -2),\n",
    "          (-4, 7), (-1, 3), (-3, 2), (-4, -5), (-3, 2),\n",
    "          (5, 7), (5, 7), (2, 2), (9, 9), (-8, -9)]\n"
   ]
  },
  {
   "cell_type": "code",
   "execution_count": 2,
   "metadata": {},
   "outputs": [
    {
     "name": "stdout",
     "output_type": "stream",
     "text": [
      "Robin Hood acertou 2  vezes nas coordenadas =  (4, 5)\n",
      "Robin Hood acertou 3  vezes nas coordenadas =  (5, 7)\n",
      "Robin Hood acertou 2  vezes nas coordenadas =  (2, 2)\n",
      "Robin Hood acertou 2  vezes nas coordenadas =  (-3, 2)\n"
     ]
    }
   ],
   "source": [
    "# 1. Robin Hood is famous for hitting an arrow with another arrow. Did you get it?\n",
    "\n",
    "val_count = 0\n",
    "hit_dict = {}\n",
    "\n",
    "\n",
    "# Verificando repetição e criando dicionário dos resultados\n",
    "\n",
    "for valor in points:\n",
    "    val_count = points.count(valor)\n",
    "    \n",
    "    if val_count>1:\n",
    "        hit_dict.update( {valor : val_count} )\n",
    "\n",
    "# Mostrando valores \n",
    "\n",
    "for k, v in hit_dict.items():\n",
    "    print(\"Robin Hood acertou\", v,\" vezes nas coordenadas = \", k)\n",
    "\n"
   ]
  },
  {
   "cell_type": "code",
   "execution_count": 3,
   "metadata": {},
   "outputs": [
    {
     "name": "stdout",
     "output_type": "stream",
     "text": [
      "**RESULTADO FINAL**\n",
      " \n",
      " Q1 =  10 \n",
      " Q2 =  6 \n",
      " Q3 =  2 \n",
      " Q4 =  6 \n",
      " Eixo X =  0 \n",
      " Eixo y =  2 \n",
      " Origem =  0 \n",
      "\n"
     ]
    }
   ],
   "source": [
    "# 2. Calculate how many arrows have fallen in each quadrant.\n",
    "\n",
    "quadrante_1=0\n",
    "quadrante_2=0\n",
    "quadrante_3=0\n",
    "quadrante_4=0\n",
    "x=''\n",
    "y=''\n",
    "eixo_x = 0\n",
    "eixo_y = 0\n",
    "origem = 0\n",
    "\n",
    "# Determinando X e Y de cada tupla\n",
    "\n",
    "for conjunto in points:\n",
    "    coord = conjunto\n",
    "    for index, valor in enumerate(coord):\n",
    "        if index == 0:\n",
    "            x = valor\n",
    "        else:\n",
    "            y = valor\n",
    "            \n",
    "# Verificando Quadrantes\n",
    "           \n",
    "\n",
    "    if x>0:\n",
    "        if y>0:\n",
    "            quadrante_1+=1\n",
    "        elif y<0:\n",
    "            quadrante_4+=1\n",
    "        else:\n",
    "            eixo_x += 1    \n",
    "\n",
    "    elif x<0:\n",
    "        if y<0:\n",
    "            quadrante_3+=1\n",
    "        elif y>0:\n",
    "            quadrante_2+=1\n",
    "        else:\n",
    "            eixo_y += 1\n",
    "            \n",
    "    elif x==0:\n",
    "        if y !=0:\n",
    "            eixo_y += 1\n",
    "        else:\n",
    "            origem += 1\n",
    "    else:\n",
    "        (\"valor inesperado\")\n",
    "        \n",
    "# Mostrando resultados\n",
    "\n",
    "print( \"**RESULTADO FINAL**\" \"\\n\", \"\\n\",\n",
    "      \"Q1 = \", quadrante_1, \"\\n\",\n",
    "      \"Q2 = \", quadrante_2, \"\\n\",\n",
    "      \"Q3 = \", quadrante_3, \"\\n\",\n",
    "      \"Q4 = \", quadrante_2, \"\\n\",\n",
    "      \"Eixo X = \", eixo_x, \"\\n\",\n",
    "      \"Eixo y = \", eixo_y, \"\\n\",\n",
    "      \"Origem = \", origem,\"\\n\")\n",
    "\n"
   ]
  },
  {
   "cell_type": "code",
   "execution_count": 19,
   "metadata": {},
   "outputs": [
    {
     "name": "stdout",
     "output_type": "stream",
     "text": [
      "A menor distância é 2.0 das coordenadas (0, 2)\n",
      "A menor distância é 2.0 das coordenadas (0, -2)\n"
     ]
    }
   ],
   "source": [
    "# 3. Find the point closest to the center. Calculate its distance to the center\n",
    "# Defining a function that calculates the distance to the center can help.\n",
    "\n",
    "# Definindo a formula: d²=(x_1-x_2)²+(y_1-y_2)²\n",
    "\n",
    "from math import sqrt\n",
    "\n",
    "# Variavéis das coordenadas e origem (0,0) ##\n",
    "\n",
    "x_1 = ''\n",
    "y_1 = ''\n",
    "\n",
    "x_2 = 0\n",
    "y_2 = 0\n",
    "\n",
    "dist_list=[]\n",
    "dist_origem = {}\n",
    "\n",
    "# Definindo x_1 e y_1 e aplicando a fórmula \n",
    "\n",
    "for conjunto1 in points:\n",
    "    coord1 = conjunto1\n",
    "    for index1, valor1 in enumerate(coord1):\n",
    "        if index1 == 0:\n",
    "            x_1 = valor1\n",
    "        else:\n",
    "            y_1 = valor1\n",
    "    dist = ((x_1-x_2)**2) + ((y_1-y_2)**2)\n",
    "    dist = sqrt(dist)\n",
    "    dist_list.append(dist)\n",
    "    hit_dict.update( {coord1 : dist} )\n",
    "    \n",
    "# Mostrando o resultado\n",
    "        \n",
    "for k, v in hit_dict.items():\n",
    "    if v == min(dist_list):\n",
    "        print (\"A menor distância é\", v, \"das coordenadas\", k )\n",
    "\n",
    "\n"
   ]
  },
  {
   "cell_type": "code",
   "execution_count": 4,
   "metadata": {},
   "outputs": [
    {
     "name": "stdout",
     "output_type": "stream",
     "text": [
      "Temos 0 flechas com o raio maior que 9\n"
     ]
    }
   ],
   "source": [
    "# 4. If the target has a radius of 9, calculate the number of arrows that - must be picked up in the forest.\n",
    "hit_out = 0\n",
    "\n",
    "# Distância maiores que 9 \n",
    "for k, v in hit_dict.items():\n",
    "    if v > 9:\n",
    "        hit_out +=1\n",
    "        \n",
    "\n",
    "print(\"Temos\", hit_out, \"flechas com o raio maior que 9\")"
   ]
  }
 ],
 "metadata": {
  "kernelspec": {
   "display_name": "Python 3",
   "language": "python",
   "name": "python3"
  },
  "language_info": {
   "codemirror_mode": {
    "name": "ipython",
    "version": 3
   },
   "file_extension": ".py",
   "mimetype": "text/x-python",
   "name": "python",
   "nbconvert_exporter": "python",
   "pygments_lexer": "ipython3",
   "version": "3.7.6"
  }
 },
 "nbformat": 4,
 "nbformat_minor": 2
}
