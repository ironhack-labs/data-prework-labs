{
 "cells": [
  {
   "cell_type": "markdown",
   "metadata": {},
   "source": [
    "# Robin Hood:\n",
    "We are in a competition to win the archery contest in Sherwood. With our bow and arrows we shoot on a target and try to hit as close as possible to the center.\n",
    "\n",
    "The center of the target is represented by the values (0, 0) on the coordinate axes.\n",
    "\n",
    "![](images/arrows.jpg)\n",
    "\n",
    "## Goals:\n",
    "* data structures: lists, sets, tuples\n",
    "* logical operators: if-elif-else\n",
    "* loop: while/for\n",
    "* minimum (optional sorting)\n",
    "\n",
    "## Description:\n",
    "In the 2-dimensional space, a point can be defined by a pair of values that correspond to the horizontal coordinate (x) and the vertical coordinate (y). The space can be divided into 4 zones (quadrants): Q1, Q2, Q3, Q4. Whose single point of union is the point (0, 0).\n",
    "\n",
    "If a point is in Q1 both its x coordinate and the y are positive. I leave a link to wikipedia to familiarize yourself with these quadrants.\n",
    "\n",
    "https://en.wikipedia.org/wiki/Cartesian_coordinate_system\n",
    "\n",
    "https://en.wikipedia.org/wiki/Euclidean_distance\n",
    "\n",
    "## Shots\n",
    "```\n",
    "points = [(4, 5), (-0, 2), (4, 7), (1, -3), (3, -2), (4, 5),\n",
    "          (3, 2), (5, 7), (-5, 7), (2, 2), (-4, 5), (0, -2),\n",
    "          (-4, 7), (-1, 3), (-3, 2), (-4, -5), (-3, 2),\n",
    "          (5, 7), (5, 7), (2, 2), (9, 9), (-8, -9)]\n",
    "```\n",
    "\n",
    "## Tasks\n",
    "1. Robin Hood is famous for hitting an arrow with another arrow. Did you get it?\n",
    "2. Calculate how many arrows have fallen in each quadrant.\n",
    "3. Find the point closest to the center. Calculate its distance to the center. \n",
    "4. If the target has a radius of 9, calculate the number of arrows that must be picked up in the forest."
   ]
  },
  {
   "cell_type": "code",
   "execution_count": 1,
   "metadata": {},
   "outputs": [],
   "source": [
    "# Variables\n",
    "\n",
    "points = [(4, 5), (-0, 2), (4, 7), (1, -3), (3, -2), (4, 5),\n",
    "          (3, 2), (5, 7), (-5, 7), (2, 2), (-4, 5), (0, -2),\n",
    "          (-4, 7), (-1, 3), (-3, 2), (-4, -5), (-3, 2),\n",
    "          (5, 7), (5, 7), (2, 2), (9, 9), (-8, -9)]"
   ]
  },
  {
   "cell_type": "code",
   "execution_count": 2,
   "metadata": {},
   "outputs": [
    {
     "name": "stdout",
     "output_type": "stream",
     "text": [
      "Robin Hood hit an arrow with another arrow in points (x,y) - \"i\" times\n",
      "points: (4, 5) - 2 times\n",
      "points: (5, 7) - 3 times\n",
      "points: (2, 2) - 2 times\n",
      "points: (-3, 2) - 2 times\n"
     ]
    }
   ],
   "source": [
    "# 1. Robin Hood is famous for hitting an arrow with another arrow. Did you get it?\n",
    "'''Creating a dictionary with keys as the coordenates and values as the counts of each elements is \"points\" '''\n",
    "count = {x:points.count(x) for x in points}\n",
    "\n",
    "'''If the values are > 1 means that Robin Hood hit the same target more than once'''\n",
    "\n",
    "print('Robin Hood hit an arrow with another arrow in points (x,y) - \"i\" times')\n",
    "\n",
    "for keys, values in count.items():\n",
    "    if values > 1:\n",
    "        print('points:',keys, '-', values, 'times') #this will print the key-value pairs whos values are >1\n",
    "        \n"
   ]
  },
  {
   "cell_type": "code",
   "execution_count": 4,
   "metadata": {},
   "outputs": [
    {
     "name": "stdout",
     "output_type": "stream",
     "text": [
      "In Q1 landed: 10 arrows.\n",
      "In Q2 landed: 6 arrows.\n",
      "In Q3 landed: 2 arrows.\n",
      "In Q4 landed: 2 arrows.\n"
     ]
    }
   ],
   "source": [
    "# 2. Calculate how many arrows have fallen in each quadrant.\n",
    "Q1, Q2, Q3, Q4 = 0,0,0,0\n",
    "\n",
    "#Setting up the variables, including if the arrow lands on the border of an axis, \n",
    "#not counting for the Quadrant and/or origin\n",
    "\n",
    "\n",
    "\n",
    "for i in range(len(points)):\n",
    "    x = points[i][0]\n",
    "    y = points[i][1]\n",
    "\n",
    "    if (x > 0 and y > 0): \n",
    "        Q1 +=1 \n",
    "    elif (x < 0 and y > 0): \n",
    "        Q2 +=1 \n",
    "    elif (x < 0 and y < 0): \n",
    "        Q3 +=1 \n",
    "    elif (x > 0 and y < 0): \n",
    "        Q4 +=1 \n",
    "\n",
    "print('In Q1 landed:', Q1, 'arrows.')\n",
    "print('In Q2 landed:', Q2, 'arrows.')\n",
    "print('In Q3 landed:', Q3, 'arrows.')\n",
    "print('In Q4 landed:', Q4, 'arrows.')\n",
    "\n"
   ]
  },
  {
   "cell_type": "code",
   "execution_count": 5,
   "metadata": {},
   "outputs": [
    {
     "name": "stdout",
     "output_type": "stream",
     "text": [
      "The closest points to the center are (0, 2) and (0, -2)\n"
     ]
    }
   ],
   "source": [
    "# 3. Find the point closest to the center. Calculate its distance to the center\n",
    "# Defining a function that calculates the distance to the center can help.\n",
    "\n",
    "'''Calculating distance to the origin and puttin the results in a list'''\n",
    "distance_to_origin = []\n",
    "\n",
    "for i in range(len(points)):\n",
    "    x = points[i][0]\n",
    "    y = points[i][1]\n",
    "    d = (((x - 0)**2) + ((y - 0)**2)) ** (1/2)\n",
    "    distance_to_origin.append(d)\n",
    "\n",
    "'''Calculating the smallest distances and its respective indices so I can recall them from the \"points\" list'''\n",
    "min_indicies = []\n",
    "smallest = min(distance_to_origin)\n",
    "for index, element in enumerate(distance_to_origin):\n",
    "    if smallest == element: # check if this element is the minimum_value\n",
    "        min_indicies.append(index) # add the index to the list if it is\n",
    "\n",
    "print('The closest points to the center are', points[min_indicies[0]], 'and', points[min_indicies[1]])\n"
   ]
  },
  {
   "cell_type": "code",
   "execution_count": 6,
   "metadata": {},
   "outputs": [
    {
     "name": "stdout",
     "output_type": "stream",
     "text": [
      "The archer needs to pick: 2 arrows from the forest\n"
     ]
    }
   ],
   "source": [
    "# 4. If the target has a radius of 9, calculate the number of arrows that \n",
    "# must be picked up in the forest.\n",
    "\n",
    "'''Asuming that the archer needs to pick the arrows that missed the target if the radios is 9 then...'''\n",
    "\n",
    "r = 9\n",
    "pick_arrows_in_forest = 0\n",
    "\n",
    "for i in range(len(points)):\n",
    "    x = points[i][0]\n",
    "    y = points[i][1]\n",
    "\n",
    "    if (x)**2 + (y)**2 >= (r ** 2):\n",
    "        pick_arrows_in_forest += 1\n",
    "\n",
    "print('The archer needs to pick:',pick_arrows_in_forest, 'arrows from the forest')\n"
   ]
  },
  {
   "cell_type": "code",
   "execution_count": null,
   "metadata": {},
   "outputs": [],
   "source": []
  }
 ],
 "metadata": {
  "kernelspec": {
   "display_name": "Python 3",
   "language": "python",
   "name": "python3"
  },
  "language_info": {
   "codemirror_mode": {
    "name": "ipython",
    "version": 3
   },
   "file_extension": ".py",
   "mimetype": "text/x-python",
   "name": "python",
   "nbconvert_exporter": "python",
   "pygments_lexer": "ipython3",
   "version": "3.7.3"
  }
 },
 "nbformat": 4,
 "nbformat_minor": 2
}
