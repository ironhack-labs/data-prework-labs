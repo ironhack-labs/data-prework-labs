{
 "cells": [
  {
   "cell_type": "markdown",
   "metadata": {},
   "source": [
    "# Robin Hood:\n",
    "We are in a competition to win the archery contest in Sherwood. With our bow and arrows we shoot on a target and try to hit as close as possible to the center.\n",
    "\n",
    "The center of the target is represented by the values (0, 0) on the coordinate axes.\n",
    "\n",
    "![](images/arrows.jpg)\n",
    "\n",
    "## Goals:\n",
    "* data structures: lists, sets, tuples\n",
    "* logical operators: if-elif-else\n",
    "* loop: while/for\n",
    "* minimum (optional sorting)\n",
    "\n",
    "## Description:\n",
    "In the 2-dimensional space, a point can be defined by a pair of values that correspond to the horizontal coordinate (x) and the vertical coordinate (y). The space can be divided into 4 zones (quadrants): Q1, Q2, Q3, Q4. Whose single point of union is the point (0, 0).\n",
    "\n",
    "If a point is in Q1 both its x coordinate and the y are positive. I leave a link to wikipedia to familiarize yourself with these quadrants.\n",
    "\n",
    "https://en.wikipedia.org/wiki/Cartesian_coordinate_system\n",
    "\n",
    "https://en.wikipedia.org/wiki/Euclidean_distance\n",
    "\n",
    "## Shots\n",
    "```\n",
    "points = [(4, 5), (-0, 2), (4, 7), (1, -3), (3, -2), (4, 5),\n",
    "          (3, 2), (5, 7), (-5, 7), (2, 2), (-4, 5), (0, -2),\n",
    "          (-4, 7), (-1, 3), (-3, 2), (-4, -5), (-3, 2),\n",
    "          (5, 7), (5, 7), (2, 2), (9, 9), (-8, -9)]\n",
    "```\n",
    "\n",
    "## Tasks\n",
    "1. Robin Hood is famous for hitting an arrow with another arrow. Did you get it?\n",
    "2. Calculate how many arrows have fallen in each quadrant.\n",
    "3. Find the point closest to the center. Calculate its distance to the center. \n",
    "4. If the target has a radius of 9, calculate the number of arrows that must be picked up in the forest."
   ]
  },
  {
   "cell_type": "code",
   "execution_count": 4,
   "metadata": {},
   "outputs": [],
   "source": [
    "# Variables\n",
    "\n",
    "points = [(4, 5), (-0, 2), (4, 7), (1, -3), (3, -2), (4, 5),\n",
    "          (3, 2), (5, 7), (-5, 7), (2, 2), (-4, 5), (0, -2),\n",
    "          (-4, 7), (-1, 3), (-3, 2), (-4, -5), (-3, 2),\n",
    "          (5, 7), (5, 7), (2, 2), (9, 9), (-8, -9)]"
   ]
  },
  {
   "cell_type": "code",
   "execution_count": 5,
   "metadata": {},
   "outputs": [
    {
     "name": "stdout",
     "output_type": "stream",
     "text": [
      "Yup\n"
     ]
    }
   ],
   "source": [
    "# 1. Robin Hood is famous for hitting an arrow with another arrow. Did you get it?\n",
    "\n",
    "print(\"Yup\")"
   ]
  },
  {
   "cell_type": "code",
   "execution_count": 6,
   "metadata": {},
   "outputs": [
    {
     "name": "stdout",
     "output_type": "stream",
     "text": [
      "Arrows in Q1:  10\n",
      "Arrows in Q2:  2\n",
      "Arrows in Q3:  2\n",
      "Arrows in Q4:  6\n",
      "Arrows between quadrants:  2\n"
     ]
    }
   ],
   "source": [
    "# 2. Calculate how many arrows have fallen in each quadrant.\n",
    "\n",
    "q1 = []\n",
    "q2 = []\n",
    "q3 = []\n",
    "q4 = []\n",
    "q0 = []\n",
    "\n",
    "for point in points:\n",
    "    if point[0] > 0 and point[1] > 0:\n",
    "        q1.append(point)\n",
    "    elif point[0] > 0 and point[1] < 0:\n",
    "        q2.append(point)\n",
    "    elif point[0] < 0 and point[1] < 0:\n",
    "        q3.append(point)  \n",
    "    elif point[0] < 0 and point[1] > 0:\n",
    "        q4.append(point)\n",
    "    else:\n",
    "        q0.append(point)\n",
    "\n",
    "print(\"Arrows in Q1: \", len(q1))\n",
    "print(\"Arrows in Q2: \", len(q2))\n",
    "print(\"Arrows in Q3: \", len(q3))\n",
    "print(\"Arrows in Q4: \", len(q4))\n",
    "print(\"Arrows between quadrants: \", len(q0))"
   ]
  },
  {
   "cell_type": "code",
   "execution_count": 7,
   "metadata": {},
   "outputs": [
    {
     "name": "stdout",
     "output_type": "stream",
     "text": [
      "[6.4, 2.0, 8.06, 3.16, 3.61, 6.4, 3.61, 8.6, 8.6, 2.83, 6.4, 2.0, 8.06, 3.16, 3.61, 6.4, 3.61, 8.6, 8.6, 2.83, 12.73, 12.04]\n",
      "Minimum distance to center:  2.0\n",
      "[[1, 11]]\n"
     ]
    },
    {
     "ename": "TypeError",
     "evalue": "list indices must be integers or slices, not list",
     "output_type": "error",
     "traceback": [
      "\u001b[0;31m---------------------------------------------------------------------------\u001b[0m",
      "\u001b[0;31mTypeError\u001b[0m                                 Traceback (most recent call last)",
      "\u001b[0;32m<ipython-input-7-7cda6b14c900>\u001b[0m in \u001b[0;36m<module>\u001b[0;34m\u001b[0m\n\u001b[1;32m     39\u001b[0m \u001b[0;34m\u001b[0m\u001b[0m\n\u001b[1;32m     40\u001b[0m \u001b[0;32mfor\u001b[0m \u001b[0mindex\u001b[0m \u001b[0;32min\u001b[0m \u001b[0mindices_minima\u001b[0m\u001b[0;34m:\u001b[0m\u001b[0;34m\u001b[0m\u001b[0;34m\u001b[0m\u001b[0m\n\u001b[0;32m---> 41\u001b[0;31m     \u001b[0mprint\u001b[0m\u001b[0;34m(\u001b[0m\u001b[0mpoints\u001b[0m\u001b[0;34m[\u001b[0m\u001b[0mindex\u001b[0m\u001b[0;34m]\u001b[0m\u001b[0;34m)\u001b[0m\u001b[0;34m\u001b[0m\u001b[0;34m\u001b[0m\u001b[0m\n\u001b[0m\u001b[1;32m     42\u001b[0m \u001b[0;34m\u001b[0m\u001b[0m\n\u001b[1;32m     43\u001b[0m \u001b[0;31m# Function to find minimum and maximum position in list\u001b[0m\u001b[0;34m\u001b[0m\u001b[0;34m\u001b[0m\u001b[0;34m\u001b[0m\u001b[0m\n",
      "\u001b[0;31mTypeError\u001b[0m: list indices must be integers or slices, not list"
     ]
    }
   ],
   "source": [
    "# 3. Find the point closest to the center. Calculate its distance to the center\n",
    "# Defining a function that calculates the distance to the center can help.\n",
    "\n",
    "import math\n",
    "distances_to_center = []\n",
    "\n",
    "for point in points:\n",
    "    x2 = point[0]**2\n",
    "    y2 = point[1]**2\n",
    "    distance = round(math.sqrt(x2 + y2), 2)\n",
    "    distances_to_center.append(distance)\n",
    "\n",
    "print(distances_to_center)\n",
    "\n",
    "# for some reason this code wasn't working although it should be the same as the above:\n",
    "# no idea why??\n",
    "\n",
    "# for point in points:\n",
    "#     distance_center = math.sqrt(point[0]**2 + point[1]**2)\n",
    "#     distances_to_center.append(point)\n",
    "\n",
    "# print(distances_to_center)\n",
    "\n",
    "print(\"Minimum distance to center: \", min(distances_to_center))\n",
    "\n",
    "# get indices of minima\n",
    "\n",
    "min_value = min(distances_to_center)\n",
    "\n",
    "if distances_to_center.count(min_value) > 1:\n",
    "    # print(\"Indices of minima: \", [i for i, x in enumerate(distances_to_center) if x == min(distances_to_center)])\n",
    "    indices_minima = []\n",
    "    indices_minima.append([i for i, x in enumerate(distances_to_center) if x == min(distances_to_center)])\n",
    "    print(indices_minima)\n",
    "else:\n",
    "    print(distances_to_center.index(min(distances_to_center)))\n",
    "\n",
    "# Return tuples according to indices of minima\n",
    "\n",
    "for index in indices_minima:\n",
    "    print(points[index])\n",
    "\n",
    "# Function to find minimum and maximum position in list\n",
    "def minposition(A):\n",
    "   # inbuilt function to find the position of minimum \n",
    "   minposition = A.index(min(A))\n",
    "   print (\"The minimum is at position:\", minposition + 1)"
   ]
  },
  {
   "cell_type": "code",
   "execution_count": 8,
   "metadata": {},
   "outputs": [
    {
     "name": "stdout",
     "output_type": "stream",
     "text": [
      "Number of arrows to be picked up in the forest:  2\n"
     ]
    }
   ],
   "source": [
    "# 4. If the target has a radius of 9, calculate the number of arrows that \n",
    "# must be picked up in the forest.\n",
    "\n",
    "arrows_to_pick_up = []\n",
    "for distance in distances_to_center:\n",
    "    if distance > 9:\n",
    "        arrows_to_pick_up.append(distance)\n",
    "\n",
    "print(\"Number of arrows to be picked up in the forest: \", len(arrows_to_pick_up))"
   ]
  },
  {
   "cell_type": "code",
   "execution_count": null,
   "metadata": {},
   "outputs": [],
   "source": []
  }
 ],
 "metadata": {
  "kernelspec": {
   "display_name": "Python 3",
   "language": "python",
   "name": "python3"
  },
  "language_info": {
   "codemirror_mode": {
    "name": "ipython",
    "version": 3
   },
   "file_extension": ".py",
   "mimetype": "text/x-python",
   "name": "python",
   "nbconvert_exporter": "python",
   "pygments_lexer": "ipython3",
   "version": "3.7.3"
  }
 },
 "nbformat": 4,
 "nbformat_minor": 2
}
