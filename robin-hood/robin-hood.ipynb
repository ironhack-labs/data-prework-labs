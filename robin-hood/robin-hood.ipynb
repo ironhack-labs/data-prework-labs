{
 "cells": [
  {
   "cell_type": "markdown",
   "metadata": {},
   "source": [
    "# Robin Hood:\n",
    "We are in a competition to win the archery contest in Sherwood. With our bow and arrows we shoot on a target and try to hit as close as possible to the center.\n",
    "\n",
    "The center of the target is represented by the values (0, 0) on the coordinate axes.\n",
    "\n",
    "![](images/arrows.jpg)\n",
    "\n",
    "## Goals:\n",
    "* data structures: lists, sets, tuples\n",
    "* logical operators: if-elif-else\n",
    "* loop: while/for\n",
    "* minimum (optional sorting)\n",
    "\n",
    "## Description:\n",
    "In the 2-dimensional space, a point can be defined by a pair of values that correspond to the horizontal coordinate (x) and the vertical coordinate (y). The space can be divided into 4 zones (quadrants): Q1, Q2, Q3, Q4. Whose single point of union is the point (0, 0).\n",
    "\n",
    "If a point is in Q1 both its x coordinate and the y are positive. I leave a link to wikipedia to familiarize yourself with these quadrants.\n",
    "\n",
    "https://en.wikipedia.org/wiki/Cartesian_coordinate_system\n",
    "\n",
    "https://en.wikipedia.org/wiki/Euclidean_distance\n",
    "\n",
    "## Shots\n",
    "```\n",
    "points = [(4, 5), (-0, 2), (4, 7), (1, -3), (3, -2), (4, 5),\n",
    "          (3, 2), (5, 7), (-5, 7), (2, 2), (-4, 5), (0, -2),\n",
    "          (-4, 7), (-1, 3), (-3, 2), (-4, -5), (-3, 2),\n",
    "          (5, 7), (5, 7), (2, 2), (9, 9), (-8, -9)]\n",
    "```\n",
    "\n",
    "## Tasks\n",
    "1. Robin Hood is famous for hitting an arrow with another arrow. Did you get it?\n",
    "2. Calculate how many arrows have fallen in each quadrant.\n",
    "3. Find the point closest to the center. Calculate its distance to the center. \n",
    "4. If the target has a radius of 9, calculate the number of arrows that must be picked up in the forest."
   ]
  },
  {
   "cell_type": "code",
   "execution_count": 2,
   "metadata": {},
   "outputs": [],
   "source": [
    "# Variables\n",
    "\n",
    "points = [(4, 5), (-0, 2), (4, 7), (1, -3), (3, -2), (4, 5),\n",
    "          (3, 2), (5, 7), (-5, 7), (2, 2), (-4, 5), (0, -2),\n",
    "          (-4, 7), (-1, 3), (-3, 2), (-4, -5), (-3, 2),\n",
    "          (5, 7), (5, 7), (2, 2), (9, 9), (-8, -9)]"
   ]
  },
  {
   "cell_type": "code",
   "execution_count": 3,
   "metadata": {},
   "outputs": [
    {
     "name": "stdout",
     "output_type": "stream",
     "text": [
      "There were 4 arrows that hit another arrow. The coordinates are: {(4, 5), (5, 7), (-3, 2), (2, 2)}\n"
     ]
    }
   ],
   "source": [
    "# 1. Robin Hood is famous for hitting an arrow with another arrow. Did you get it?\n",
    "\n",
    "norm_arrow = set(points)\n",
    "#print(norm_arrow)\n",
    "arrow_arrow = {x for x in points if points.count(x)>1}\n",
    "\n",
    "print (\"There were\", len (arrow_arrow), \"arrows that hit another arrow. The coordinates are:\",arrow_arrow)\n",
    "\n"
   ]
  },
  {
   "cell_type": "code",
   "execution_count": 4,
   "metadata": {},
   "outputs": [
    {
     "name": "stdout",
     "output_type": "stream",
     "text": [
      "1st quadrant 11 2nd quandrant 6 3rd quadrant 3 4th quadrant 2\n"
     ]
    }
   ],
   "source": [
    "# 2. Calculate how many arrows have fallen in each quadrant.\n",
    "bullseye = []\n",
    "first_q = []\n",
    "second_q = []\n",
    "third_q = []\n",
    "fourth_q = []\n",
    "\n",
    "xcoord = []\n",
    "ycoord = []\n",
    "\n",
    "for i in points:\n",
    "    xcoord.append(i[0])\n",
    "    ycoord.append(i[1])\n",
    "\n",
    "for i in range(len(xcoord)):\n",
    "    if xcoord[i] >= 0 and ycoord[i] >= 0:\n",
    "        first_q.append(i)\n",
    "    elif xcoord[i] <= 0 and ycoord[i] <= 0:\n",
    "        third_q.append(i)\n",
    "    elif xcoord[i] >= 0 and ycoord[i] <= 0:\n",
    "        fourth_q.append(i)\n",
    "    elif xcoord[i] <= 0 and ycoord[i] >= 0:\n",
    "        second_q.append(i)\n",
    "    else: \n",
    "        bullseye.append(i)\n",
    "        \n",
    "print(\"1st quadrant\",len(first_q),\"2nd quandrant\",len(second_q),\"3rd quadrant\",len(third_q),\"4th quadrant\",len(fourth_q))\n"
   ]
  },
  {
   "cell_type": "code",
   "execution_count": 13,
   "metadata": {},
   "outputs": [
    {
     "name": "stdout",
     "output_type": "stream",
     "text": [
      "The closest points to the center are: [(0, 2), (0, -2), (2, 2), (2, 2)]\n"
     ]
    }
   ],
   "source": [
    "# 3. Find the point closest to the center. Calculate its distance to the center\n",
    "# Defining a function that calculates the distance to the center can help.\n",
    "import math\n",
    "\n",
    "def sClosest(shots, N): \n",
    "  \n",
    "    shots.sort(key = lambda N: math.sqrt(N[0]**2 + N[1]**2)) \n",
    "  \n",
    "    return shots[:N] \n",
    "  \n",
    "shots = points \n",
    "\n",
    "N = 4\n",
    "\n",
    "print(\"The closest points to the center are:\",sClosest(shots, N)) \n"
   ]
  },
  {
   "cell_type": "code",
   "execution_count": 14,
   "metadata": {},
   "outputs": [
    {
     "name": "stdout",
     "output_type": "stream",
     "text": [
      "The number of arrows in the forest is 2\n"
     ]
    }
   ],
   "source": [
    "# 4. If the target has a radius of 9, calculate the number of arrows that \n",
    "# must be picked up in the forest.\n",
    "inside = []\n",
    "outside = []      \n",
    "\n",
    "for i in range(len(xcoord)):\n",
    "    if ((xcoord[i] - 0)**2 + \n",
    "        (ycoord[i] - 0)**2 <= 9**2): \n",
    "        inside.append(i)\n",
    "    else: \n",
    "        outside.append(i)\n",
    "print (\"The number of arrows in the forest is\",len(outside))"
   ]
  },
  {
   "cell_type": "code",
   "execution_count": null,
   "metadata": {},
   "outputs": [],
   "source": []
  }
 ],
 "metadata": {
  "kernelspec": {
   "display_name": "Python 3",
   "language": "python",
   "name": "python3"
  },
  "language_info": {
   "codemirror_mode": {
    "name": "ipython",
    "version": 3
   },
   "file_extension": ".py",
   "mimetype": "text/x-python",
   "name": "python",
   "nbconvert_exporter": "python",
   "pygments_lexer": "ipython3",
   "version": "3.7.3"
  }
 },
 "nbformat": 4,
 "nbformat_minor": 2
}
