{
 "cells": [
  {
   "cell_type": "markdown",
   "metadata": {},
   "source": [
    "# Robin Hood:\n",
    "We are in a competition to win the archery contest in Sherwood. With our bow and arrows we shoot on a target and try to hit as close as possible to the center.\n",
    "\n",
    "The center of the target is represented by the values (0, 0) on the coordinate axes.\n",
    "\n",
    "![](images/arrows.jpg)\n",
    "\n",
    "## Goals:\n",
    "* data structures: lists, sets, tuples\n",
    "* logical operators: if-elif-else\n",
    "* loop: while/for\n",
    "* minimum (optional sorting)\n",
    "\n",
    "## Description:\n",
    "In the 2-dimensional space, a point can be defined by a pair of values that correspond to the horizontal coordinate (x) and the vertical coordinate (y). The space can be divided into 4 zones (quadrants): Q1, Q2, Q3, Q4. Whose single point of union is the point (0, 0).\n",
    "\n",
    "If a point is in Q1 both its x coordinate and the y are positive. I leave a link to wikipedia to familiarize yourself with these quadrants.\n",
    "\n",
    "https://en.wikipedia.org/wiki/Cartesian_coordinate_system\n",
    "\n",
    "https://en.wikipedia.org/wiki/Euclidean_distance\n",
    "\n",
    "## Shots\n",
    "```\n",
    "points = [(4, 5), (-0, 2), (4, 7), (1, -3), (3, -2), (4, 5),\n",
    "          (3, 2), (5, 7), (-5, 7), (2, 2), (-4, 5), (0, -2),\n",
    "          (-4, 7), (-1, 3), (-3, 2), (-4, -5), (-3, 2),\n",
    "          (5, 7), (5, 7), (2, 2), (9, 9), (-8, -9)]\n",
    "```\n",
    "\n",
    "## Tasks\n",
    "1. Robin Hood is famous for hitting an arrow with another arrow. Did you get it?\n",
    "2. Calculate how many arrows have fallen in each quadrant.\n",
    "3. Find the point closest to the center. Calculate its distance to the center. \n",
    "4. If the target has a radius of 9, calculate the number of arrows that must be picked up in the forest."
   ]
  },
  {
   "cell_type": "code",
   "execution_count": 1,
   "metadata": {},
   "outputs": [],
   "source": [
    "# Variables\n",
    "from math import sqrt\n",
    "\n",
    "points = [(4, 5), (-0, 2), (4, 7), (1, -3), (3, -2), (4, 5),\n",
    "          (3, 2), (5, 7), (-5, 7), (2, 2), (-4, 5), (0, -2),\n",
    "          (-4, 7), (-1, 3), (-3, 2), (-4, -5), (-3, 2),\n",
    "          (5, 7), (5, 7), (2, 2), (9, 9), (-8, -9)]"
   ]
  },
  {
   "cell_type": "code",
   "execution_count": 2,
   "metadata": {},
   "outputs": [
    {
     "name": "stdout",
     "output_type": "stream",
     "text": [
      "The repeated points and the number of repetitions for each point are: {(4, 5): 1, (5, 7): 2, (2, 2): 1, (-3, 2): 1}\n"
     ]
    }
   ],
   "source": [
    "# 1. Robin Hood is famous for hitting an arrow with another arrow. Did you get it?\n",
    "repeated_points = {}\n",
    "for i in points:\n",
    "    number_repetitions =- 1\n",
    "    for j in points:\n",
    "        if i == j:\n",
    "            number_repetitions += 1\n",
    "    if number_repetitions > 0:\n",
    "        repeated_points[i] = number_repetitions\n",
    "print(\"The repeated points and the number of repetitions for each point are:\",repeated_points)\n"
   ]
  },
  {
   "cell_type": "code",
   "execution_count": 3,
   "metadata": {},
   "outputs": [
    {
     "name": "stdout",
     "output_type": "stream",
     "text": [
      "Number of arrows fallen in 1Q: 10\n",
      "Number of arrows fallen in 1Q: 6\n",
      "Number of arrows fallen in 1Q: 2\n",
      "Number of arrows fallen in 1Q: 2\n",
      "Total number of arrows fallen: 20\n"
     ]
    }
   ],
   "source": [
    "# 2. Calculate how many arrows have fallen in each quadrant.\n",
    "\n",
    "QI = []\n",
    "QII = []\n",
    "QIII = []\n",
    "QIV = []\n",
    "\n",
    "for i in range (len(points)):\n",
    "    if (points[i][0] > 0) & (points[i][1] > 0):\n",
    "        QI_tuple = (points[i][0],points[i][1])\n",
    "        QI.append(QI_tuple)\n",
    "\n",
    "    elif (points[i][0] < 0) & (points[i][1] > 0):\n",
    "        QII_tuple = (points[i][0],points[i][1])\n",
    "        QII.append(QII_tuple)\n",
    "\n",
    "    elif (points[i][0] < 0) & (points[i][1] < 0):\n",
    "        QIII_tuple = (points[i][0],points[i][1])\n",
    "        QIII.append(QIII_tuple)\n",
    "\n",
    "    elif (points[i][0] > 0) & (points[i][1] < 0):\n",
    "        QIV_tuple = (points[i][0],points[i][1])\n",
    "        QIV.append(QIV_tuple)\n",
    "\n",
    "#where is considered the 0 point on the axis???\n",
    "#miss the two tuples with 0 in it\n",
    "\n",
    "#print(QI)\n",
    "#print(QII)\n",
    "#print(QIII)\n",
    "#print(QIV)\n",
    "\n",
    "print(\"Number of arrows fallen in 1Q:\",len(QI))\n",
    "print(\"Number of arrows fallen in 1Q:\",len(QII))\n",
    "print(\"Number of arrows fallen in 1Q:\",len(QIII))\n",
    "print(\"Number of arrows fallen in 1Q:\",len(QIV))\n",
    "\n",
    "print(\"Total number of arrows fallen:\",len(QI)+len(QII)+len(QIII)+len(QIV))\n"
   ]
  },
  {
   "cell_type": "code",
   "execution_count": 4,
   "metadata": {},
   "outputs": [
    {
     "name": "stdout",
     "output_type": "stream",
     "text": [
      "[6.4031242374328485, 2.0, 8.06225774829855, 3.1622776601683795, 3.605551275463989, 6.4031242374328485, 3.605551275463989, 8.602325267042627, 8.602325267042627, 2.8284271247461903, 6.4031242374328485, 2.0, 8.06225774829855, 3.1622776601683795, 3.605551275463989, 6.4031242374328485, 3.605551275463989, 8.602325267042627, 8.602325267042627, 2.8284271247461903, 12.727922061357855, 12.041594578792296]\n",
      "Min distance: 2.0 \t Position in list 1\n"
     ]
    }
   ],
   "source": [
    "# 3. Find the point closest to the center. Calculate its distance to the center\n",
    "# Defining a function that calculates the distance to the center can help.\n",
    "distance = []\n",
    "for i in range (len(points)):\n",
    "    distance.append(sqrt(pow((0-points[i][0]),2)+pow((0-points[i][1]),2)))\n",
    "print(distance)\n",
    "\n",
    "print(\"Min distance:\",min(distance),\"\\t\",\"Position in list\",distance.index(min(distance)))\n"
   ]
  },
  {
   "cell_type": "code",
   "execution_count": 5,
   "metadata": {},
   "outputs": [
    {
     "name": "stdout",
     "output_type": "stream",
     "text": [
      "The number of arrows must pick up in the forest: 2\n"
     ]
    }
   ],
   "source": [
    "# 4. If the target has a radius of 9, calculate the number of arrows that \n",
    "# must be picked up in the forest.\n",
    "num_arrows_in_forest = 0\n",
    "\n",
    "for i in range (len(distance)):\n",
    "    if distance[i] > 9:\n",
    "        num_arrows_in_forest += 1\n",
    "print(\"The number of arrows must pick up in the forest:\",num_arrows_in_forest)\n"
   ]
  }
 ],
 "metadata": {
  "kernelspec": {
   "display_name": "Python 3",
   "language": "python",
   "name": "python3"
  },
  "language_info": {
   "codemirror_mode": {
    "name": "ipython",
    "version": 3
   },
   "file_extension": ".py",
   "mimetype": "text/x-python",
   "name": "python",
   "nbconvert_exporter": "python",
   "pygments_lexer": "ipython3",
   "version": "3.7.3"
  }
 },
 "nbformat": 4,
 "nbformat_minor": 2
}
