{
 "cells": [
  {
   "cell_type": "markdown",
   "metadata": {},
   "source": [
    "# Robin Hood:\n",
    "We are in a competition to win the archery contest in Sherwood. With our bow and arrows we shoot on a target and try to hit as close as possible to the center.\n",
    "\n",
    "The center of the target is represented by the values (0, 0) on the coordinate axes.\n",
    "\n",
    "![](images/arrows.jpg)\n",
    "\n",
    "## Goals:\n",
    "* data structures: lists, sets, tuples\n",
    "* logical operators: if-elif-else\n",
    "* loop: while/for\n",
    "* minimum (optional sorting)\n",
    "\n",
    "## Description:\n",
    "In the 2-dimensional space, a point can be defined by a pair of values that correspond to the horizontal coordinate (x) and the vertical coordinate (y). The space can be divided into 4 zones (quadrants): Q1, Q2, Q3, Q4. Whose single point of union is the point (0, 0).\n",
    "\n",
    "If a point is in Q1 both its x coordinate and the y are positive. I leave a link to wikipedia to familiarize yourself with these quadrants.\n",
    "\n",
    "https://en.wikipedia.org/wiki/Cartesian_coordinate_system\n",
    "\n",
    "https://en.wikipedia.org/wiki/Euclidean_distance\n",
    "\n",
    "## Shots\n",
    "```\n",
    "points = [(4, 5), (-0, 2), (4, 7), (1, -3), (3, -2), (4, 5),\n",
    "          (3, 2), (5, 7), (-5, 7), (2, 2), (-4, 5), (0, -2),\n",
    "          (-4, 7), (-1, 3), (-3, 2), (-4, -5), (-3, 2),\n",
    "          (5, 7), (5, 7), (2, 2), (9, 9), (-8, -9)]\n",
    "```\n",
    "\n",
    "## Tasks\n",
    "1. Robin Hood is famous for hitting an arrow with another arrow. Did you get it?\n",
    "2. Calculate how many arrows have fallen in each quadrant.\n",
    "3. Find the point closest to the center. Calculate its distance to the center. \n",
    "4. If the target has a radius of 9, calculate the number of arrows that must be picked up in the forest."
   ]
  },
  {
   "cell_type": "code",
   "execution_count": 1,
   "metadata": {},
   "outputs": [],
   "source": [
    "# Variables\n",
    "\n",
    "points = [(4, 5), (-0, 2), (4, 7), (1, -3), (3, -2), (4, 5),\n",
    "          (3, 2), (5, 7), (-5, 7), (2, 2), (-4, 5), (0, -2),\n",
    "          (-4, 7), (-1, 3), (-3, 2), (-4, -5), (-3, 2),\n",
    "          (5, 7), (5, 7), (2, 2), (9, 9), (-8, -9)]"
   ]
  },
  {
   "cell_type": "code",
   "execution_count": 2,
   "metadata": {},
   "outputs": [
    {
     "name": "stdout",
     "output_type": "stream",
     "text": [
      "We did hit an arrow with another arrow!\n"
     ]
    }
   ],
   "source": [
    "# 1. Robin Hood is famous for hitting an arrow with another arrow. Did you get it?\n",
    "if len(points) > len(set(points)):\n",
    "    print(\"We did hit an arrow with another arrow!\")\n",
    "else:\n",
    "    print(\"We did not hit an arrow with another arrow.\")\n"
   ]
  },
  {
   "cell_type": "code",
   "execution_count": 3,
   "metadata": {},
   "outputs": [
    {
     "name": "stdout",
     "output_type": "stream",
     "text": [
      "The number of arrows with an x-value of zero or greater, and a y-value of zero or greater is  11\n",
      "The number of arrows with an x-value of zero or greater, and a y-value of below zero is   3\n",
      "The number of arrows with an x-value of below zero, and a y-value of below zero is  2\n",
      "The number of arrows with an x-value of below zero, and a y-value of zero or greater is  6\n"
     ]
    }
   ],
   "source": [
    "# 2. Calculate how many arrows have fallen in each quadrant.\n",
    "\"\"\"\n",
    "Q1 positive x, positive y\n",
    "Q2 positive x, negative y\n",
    "Q3 negative x, negative y\n",
    "Q4 negative x, positive y\n",
    "\"\"\"\n",
    "q1 = 0\n",
    "q2 = 0\n",
    "q3 = 0\n",
    "q4 = 0\n",
    "\n",
    "x_values = []\n",
    "y_values = []\n",
    "list_points = []\n",
    "\n",
    "for i in list(points):\n",
    "    list_points.append(list(i))\n",
    "#print(list_points)\n",
    "\n",
    "for i in list_points:\n",
    "    x_values.append(i[0])\n",
    "    y_values.append(i[1])\n",
    "#print(x_values)\n",
    "#print(y_values)\n",
    "\n",
    "\n",
    "for i in range(len(points)):\n",
    "    #print(x_values[i])\n",
    "    #print(y_values[i])\n",
    "    if x_values[i] >= 0 and y_values[i] >= 0:\n",
    "        q1 += 1\n",
    "    elif x_values[i] >= 0 and y_values[i] < 0:\n",
    "        q2 += 1\n",
    "    elif x_values[i] < 0 and y_values[i] >= 0:\n",
    "        q4 += 1\n",
    "    else:\n",
    "        q3 += 1\n",
    "        \n",
    "print(\"The number of arrows with an x-value of zero or greater, and a y-value of zero or greater is \", q1)\n",
    "print(\"The number of arrows with an x-value of zero or greater, and a y-value of below zero is  \", q2)\n",
    "print(\"The number of arrows with an x-value of below zero, and a y-value of below zero is \", q3)\n",
    "print(\"The number of arrows with an x-value of below zero, and a y-value of zero or greater is \", q4)\n"
   ]
  },
  {
   "cell_type": "code",
   "execution_count": 4,
   "metadata": {},
   "outputs": [
    {
     "name": "stdout",
     "output_type": "stream",
     "text": [
      "The shot closest to the center is index number 1\n",
      "The distance of that shot to the center is 2.0\n"
     ]
    }
   ],
   "source": [
    "# 3. Find the point closest to the center. Calculate its distance to the center\n",
    "# Defining a function that calculates the distance to the center can help.\n",
    "# I should instead define a function that calculates the distance to the center, and returns the coordinate pair of the minimum-distance-value\n",
    "\n",
    "distance_from_center = []\n",
    "summation = 0\n",
    "for i in range(len(points)):\n",
    "    summation = ((x_values[i] ** 2) + (y_values[i] ** 2))\n",
    "    distance_from_center.append(summation ** 0.5)\n",
    "\n",
    "print(\"The shot closest to the center is index number\", distance_from_center.index(min(distance_from_center)))\n",
    "print(\"The distance of that shot to the center is\", min(distance_from_center))"
   ]
  },
  {
   "cell_type": "code",
   "execution_count": 5,
   "metadata": {},
   "outputs": [
    {
     "name": "stdout",
     "output_type": "stream",
     "text": [
      "The number of arrows to retrive from the forest is 2\n"
     ]
    }
   ],
   "source": [
    "# 4. If the target has a radius of 9, calculate the number of arrows that \n",
    "# must be picked up in the forest.\n",
    "forest_pickup = 0\n",
    "for i in distance_from_center:\n",
    "    if i > 9:\n",
    "        forest_pickup += 1\n",
    "#distance_from_center.sort(reverse=True)\n",
    "#print(distance_from_center)\n",
    "print(\"The number of arrows to retrive from the forest is\", forest_pickup)\n",
    "\n",
    "\n"
   ]
  },
  {
   "cell_type": "code",
   "execution_count": null,
   "metadata": {},
   "outputs": [],
   "source": []
  }
 ],
 "metadata": {
  "kernelspec": {
   "display_name": "Python 3",
   "language": "python",
   "name": "python3"
  },
  "language_info": {
   "codemirror_mode": {
    "name": "ipython",
    "version": 3
   },
   "file_extension": ".py",
   "mimetype": "text/x-python",
   "name": "python",
   "nbconvert_exporter": "python",
   "pygments_lexer": "ipython3",
   "version": "3.7.3"
  }
 },
 "nbformat": 4,
 "nbformat_minor": 2
}
