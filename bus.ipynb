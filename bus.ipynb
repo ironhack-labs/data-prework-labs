{
 "cells": [
  {
   "cell_type": "markdown",
   "metadata": {},
   "source": [
    "# Bus\n",
    "\n",
    "This bus has a passenger entry and exit control system to monitor the number of occupants it carries and thus detect when there is too high a capacity.\n",
    "\n",
    "At each stop the entry and exit of passengers is represented by a tuple consisting of two integer numbers.\n",
    "```\n",
    "bus_stop = (in, out)\n",
    "```\n",
    "The succession of stops is represented by a list of these tuples.\n",
    "```\n",
    "stops = [(in1, out1), (in2, out2), (in3, out3), (in4, out4)]\n",
    "```\n",
    "\n",
    "## Goals:\n",
    "* lists, tuples\n",
    "* while/for loops\n",
    "* minimum, maximum, length\n",
    "* average, standard deviation\n",
    "\n",
    "## Tasks\n",
    "1. Calculate the number of stops.\n",
    "2. Assign to a variable a list whose elements are the number of passengers at each stop (in-out),\n",
    "3. Find the maximum occupation of the bus.\n",
    "4. Calculate the average occupation. And the standard deviation.\n"
   ]
  },
  {
   "cell_type": "code",
   "execution_count": 31,
   "metadata": {},
   "outputs": [
    {
     "name": "stdout",
     "output_type": "stream",
     "text": [
      "Bus stops : [(5, 0), (9, -2), (4, -6), (7, -2)]\n"
     ]
    }
   ],
   "source": [
    "# variables\n",
    "\n",
    "bus_stop1 = (5, 0)\n",
    "bus_stop2 = (9, -2)\n",
    "bus_stop3 = (4, -6)\n",
    "bus_stop4 = (7, -2)\n",
    "\n",
    "stops = []\n",
    "\n",
    "stops.append(bus_stop1)\n",
    "stops.append(bus_stop2)\n",
    "stops.append(bus_stop3)\n",
    "stops.append(bus_stop4)\n",
    "print(\"Bus stops :\", stops)\n"
   ]
  },
  {
   "cell_type": "code",
   "execution_count": 32,
   "metadata": {},
   "outputs": [
    {
     "name": "stdout",
     "output_type": "stream",
     "text": [
      "Number of stops : 4\n"
     ]
    }
   ],
   "source": [
    "# 1. Calculate the number of stops.\n",
    "\n",
    "print(\"Number of stops :\", len(stops))"
   ]
  },
  {
   "cell_type": "code",
   "execution_count": 39,
   "metadata": {
    "scrolled": true
   },
   "outputs": [
    {
     "name": "stdout",
     "output_type": "stream",
     "text": [
      "[5, 12, 10, 15]\n"
     ]
    }
   ],
   "source": [
    "# 2. Assign a variable a list whose elements are the number of passengers in each stop: \n",
    "# Each item depends on the previous item in the list + in - out.\n",
    "\n",
    "bus_passengers = []\n",
    "passengers = 0\n",
    "for s in stops:\n",
    "    passengers += sum(s)\n",
    "    bus_passengers.append(passengers)\n",
    "\n",
    "print(bus_passengers)"
   ]
  },
  {
   "cell_type": "code",
   "execution_count": 40,
   "metadata": {},
   "outputs": [
    {
     "name": "stdout",
     "output_type": "stream",
     "text": [
      "Maximum occupation of the bus : 15\n"
     ]
    }
   ],
   "source": [
    "# 3. Find the maximum occupation of the bus.\n",
    "\n",
    "print(\"Maximum occupation of the bus :\", max(bus_passengers))"
   ]
  },
  {
   "cell_type": "code",
   "execution_count": 42,
   "metadata": {},
   "outputs": [
    {
     "name": "stdout",
     "output_type": "stream",
     "text": [
      "Average occupation on the bus : 10.5\n",
      "Standard deviation : 3.640054944640259\n"
     ]
    }
   ],
   "source": [
    "# 4. Calculate the average occupation. And the standard deviation.\n",
    "\n",
    "import statistics\n",
    "import numpy as np\n",
    "\n",
    "print(\"Average occupation on the bus :\", (sum(bus_passengers)/len(bus_passengers)))\n",
    "\n",
    "print(\"Standard deviation :\", np.std(bus_passengers))\n"
   ]
  },
  {
   "cell_type": "code",
   "execution_count": null,
   "metadata": {},
   "outputs": [],
   "source": []
  }
 ],
 "metadata": {
  "kernelspec": {
   "display_name": "Python 3",
   "language": "python",
   "name": "python3"
  },
  "language_info": {
   "codemirror_mode": {
    "name": "ipython",
    "version": 3
   },
   "file_extension": ".py",
   "mimetype": "text/x-python",
   "name": "python",
   "nbconvert_exporter": "python",
   "pygments_lexer": "ipython3",
   "version": "3.7.6"
  }
 },
 "nbformat": 4,
 "nbformat_minor": 2
}
