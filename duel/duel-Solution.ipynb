{
 "cells": [
  {
   "cell_type": "markdown",
   "metadata": {},
   "source": [
    "# Duel of sorcerers\n",
    "You are witnessing an epic battle between two powerful sorcerers: Gandalf and Saruman. Each sorcerer has 10 spells of variable power in their mind and they are going to throw them one after the other. The winner of the duel will be the one who wins more of those clashes between spells. Spells are represented as a list of 10 integers whose value equals the power of the spell.\n",
    "```\n",
    "gandalf = [10, 11, 13, 30, 22, 11, 10, 33, 22, 22]\n",
    "saruman = [23, 66, 12, 43, 12, 10, 44, 23, 12, 17]\n",
    "```\n",
    "For example:\n",
    "1. The first clash is won by Saruman: 10 against 23, wins 23\n",
    "2. The second clash wins Saruman: 11 against 66, wins 66\n",
    "3. etc.\n",
    "\n",
    "\n",
    "You will create two variables, one for each sorcerer, where the sum of clashes won will be stored. Depending on which variable is greater at the end of the duel, you will show one of the following three results on the screen:\n",
    "* Gandalf wins\n",
    "* Saruman wins\n",
    "* Tie\n",
    "\n",
    "<img src=\"images/content_lightning_bolt_big.jpg\" width=\"400\">"
   ]
  },
  {
   "cell_type": "markdown",
   "metadata": {},
   "source": [
    "## Solution"
   ]
  },
  {
   "cell_type": "code",
   "execution_count": 1,
   "metadata": {},
   "outputs": [],
   "source": [
    "# Assign spell power lists to variables\n",
    "\n",
    "gandalf = [10, 11, 13, 30, 22, 11, 10, 33, 22, 22]\n",
    "saruman = [23, 66, 12, 43, 12, 10, 44, 23, 12, 17]"
   ]
  },
  {
   "cell_type": "code",
   "execution_count": 2,
   "metadata": {},
   "outputs": [],
   "source": [
    "# Assign 0 to each variable that stores the victories\n",
    "ganwins=0\n",
    "saruwins=0"
   ]
  },
  {
   "cell_type": "code",
   "execution_count": 3,
   "metadata": {},
   "outputs": [],
   "source": [
    "# Execution of spell clashes\n",
    "\n",
    "for x in range(len(gandalf)):\n",
    "    if gandalf[x] < saruman[x]:\n",
    "        saruwins+=1\n",
    "        \n",
    "    elif gandalf[x]>saruman[x]:\n",
    "        ganwins+=1\n",
    "        \n",
    "\n"
   ]
  },
  {
   "cell_type": "code",
   "execution_count": 4,
   "metadata": {},
   "outputs": [
    {
     "name": "stdout",
     "output_type": "stream",
     "text": [
      "Winner is Gandalf! He won 6 out of 10\n"
     ]
    }
   ],
   "source": [
    "# We check who has won, do not forget the possibility of a draw.\n",
    "if saruwins>ganwins:\n",
    "    print(\"Winner is Saruman! He won %d out of %d\"%(saruwins,len(saruman)))\n",
    "elif saruwins<ganwins:\n",
    "    print(\"Winner is Gandalf! He won %d out of %d\"%(ganwins,len(saruman)))\n",
    "elif saruwins==ganwins:\n",
    "    print(\"It's a tie! Both won the same number of clashes, that's it: %d out of %d\"%(ganwins,len(saruman)))\n",
    "    \n",
    "# Print the result based on the winner.\n",
    "\n"
   ]
  },
  {
   "cell_type": "markdown",
   "metadata": {},
   "source": [
    "## Goals\n",
    "\n",
    "1. Treatment of lists\n",
    "2. Use of **for loop**\n",
    "3. Use of conditional **if-elif-else**\n",
    "4. Use of the functions **range(), len()**\n",
    "5. Print"
   ]
  },
  {
   "cell_type": "markdown",
   "metadata": {},
   "source": [
    "## Bonus\n",
    "\n",
    "1. Spells now have a name and there is a dictionary that relates that name to a power.\n",
    "2. A sorcerer wins if he succeeds in winning 3 spell clashes in a row.\n",
    "3. Average of each of the spell lists.\n",
    "4. Standard deviation of each of the spell lists.\n",
    "\n",
    "```\n",
    "POWER = {\n",
    "    'Fireball': 50, \n",
    "    'Lightning bolt': 40, \n",
    "    'Magic arrow': 10, \n",
    "    'Black Tentacles': 25, \n",
    "    'Contagion': 45\n",
    "}\n",
    "\n",
    "gandalf = ['Fireball', 'Lightning bolt', 'Lightning bolt', 'Magic arrow', 'Fireball', \n",
    "           'Magic arrow', 'Lightning bolt', 'Fireball', 'Fireball', 'Fireball']\n",
    "saruman = ['Contagion', 'Contagion', 'Black Tentacles', 'Fireball', 'Black Tentacles', \n",
    "           'Lightning bolt', 'Magic arrow', 'Contagion', 'Magic arrow', 'Magic arrow']\n",
    "```\n",
    "\n",
    "Good luck!"
   ]
  },
  {
   "cell_type": "code",
   "execution_count": 5,
   "metadata": {},
   "outputs": [],
   "source": [
    "# 1. Spells now have a name and there is a dictionary that relates that name to a power.\n",
    "# variables\n",
    "\n",
    "POWER = {\n",
    "    'Fireball': 50, \n",
    "    'Lightning bolt': 40, \n",
    "    'Magic arrow': 10, \n",
    "    'Black Tentacles': 25, \n",
    "    'Contagion': 45\n",
    "}\n",
    "\n",
    "gandalf = ['Fireball', 'Lightning bolt', 'Lightning bolt', 'Magic arrow', 'Fireball', \n",
    "           'Magic arrow', 'Lightning bolt', 'Fireball', 'Magic arrow', 'Fireball']\n",
    "saruman = ['Contagion', 'Contagion', 'Black Tentacles', 'Fireball', 'Black Tentacles', \n",
    "           'Lightning bolt', 'Magic arrow', 'Contagion', 'Magic arrow', 'Magic arrow']\n",
    "gandalfnum=[]\n",
    "sarumannum=[]\n",
    "name=\"\"\n",
    "value=0"
   ]
  },
  {
   "cell_type": "code",
   "execution_count": 6,
   "metadata": {},
   "outputs": [
    {
     "name": "stdout",
     "output_type": "stream",
     "text": [
      "Gandalf:  [50, 40, 40, 10, 50, 10, 40, 50, 10, 50]\n",
      "Saruman:  [45, 45, 25, 50, 25, 40, 10, 45, 10, 10]\n"
     ]
    }
   ],
   "source": [
    "# Assign spell power lists to variables\n",
    "\n",
    "for x in range(len(gandalf)):\n",
    "    spell=gandalf[x]\n",
    "    while spell!=name:\n",
    "        for a,b in POWER.items():\n",
    "            name=a\n",
    "            value=b\n",
    "            if spell==name:\n",
    "              break\n",
    "    gandalfnum.append(b)\n",
    "\n",
    "\n",
    "for x in range(len(saruman)):\n",
    "    spell=saruman[x]\n",
    "    while spell!=name:\n",
    "        for a,b in POWER.items():\n",
    "            name=a\n",
    "            value=b\n",
    "            if spell==name:\n",
    "              break\n",
    "    sarumannum.append(b)\n",
    "\n",
    "print(\"Gandalf: \",gandalfnum)\n",
    "print(\"Saruman: \",sarumannum)\n",
    "\n"
   ]
  },
  {
   "cell_type": "code",
   "execution_count": 7,
   "metadata": {},
   "outputs": [
    {
     "name": "stdout",
     "output_type": "stream",
     "text": [
      "It's a tie! Both won the same number of clashes, that's it: 0 out of 10\n"
     ]
    }
   ],
   "source": [
    "# 2. A sorcerer wins if he succeeds in winning 3 spell clashes in a row.\n",
    "saruwins2=0\n",
    "ganwins2=0\n",
    "# Execution of spell clashes\n",
    "\n",
    "for x in range(len(gandalfnum)-2):\n",
    "    if (gandalfnum[x] < sarumannum[x]) & (gandalfnum[x+1] < sarumannum[x+1]) & (gandalfnum[x+2] < sarumannum[x+2]):\n",
    "        saruwins2+=1\n",
    "        \n",
    "    elif (gandalfnum[x] > sarumannum[x]) & (gandalfnum[x+1] > sarumannum[x+1]) & (gandalfnum[x+2] > sarumannum[x+2]):\n",
    "        ganwins2+=1\n",
    "\n",
    "# check for 3 wins in a row\n",
    "if saruwins2>ganwins2:\n",
    "    print(\"Winner is Saruman! He won %d out of %d\"%(saruwins2,len(sarumannum)))\n",
    "elif saruwins2<ganwins2:\n",
    "    print(\"Winner is Gandalf! He won %d out of %d\"%(ganwins2,len(sarumannum)))\n",
    "elif saruwins2==ganwins2:\n",
    "    print(\"It's a tie! Both won the same number of clashes, that's it: %d out of %d\"%(ganwins2,len(sarumannum)))\n",
    "\n",
    "# check the winner\n"
   ]
  },
  {
   "cell_type": "code",
   "execution_count": 8,
   "metadata": {},
   "outputs": [
    {
     "name": "stdout",
     "output_type": "stream",
     "text": [
      "Average spell list of Gandalf:  35.0\n",
      "Average spell list of Saruman:  30.5\n"
     ]
    }
   ],
   "source": [
    "# 3. Average of each of the spell lists.\n",
    "avggan=(sum(gandalfnum)/len(gandalfnum))\n",
    "print(\"Average spell list of Gandalf: \",avggan)\n",
    "avgsar=(sum(sarumannum)/len(sarumannum))\n",
    "print(\"Average spell list of Saruman: \",avgsar)\n"
   ]
  },
  {
   "cell_type": "code",
   "execution_count": 9,
   "metadata": {},
   "outputs": [
    {
     "name": "stdout",
     "output_type": "stream",
     "text": [
      "standard deviation for Gandalf is: 16.88\n",
      "standard deviation for Saruman is: 15.56\n"
     ]
    }
   ],
   "source": [
    "# 4. Standard deviation of each of the spell lists.\n",
    "summationgan=0\n",
    "for g in gandalfnum:\n",
    "    summationgan+=((g-avggan)**2)\n",
    "\n",
    "stdevgan=((summationgan/len(gandalfnum)))**0.5\n",
    "\n",
    "print(\"standard deviation for Gandalf is: %.2f\" %stdevgan)\n",
    "\n",
    "summationsar=0\n",
    "for s in sarumannum:\n",
    "    summationsar+=((s-avgsar)**2)\n",
    "\n",
    "stdevsar=((summationsar/len(sarumannum)))**0.5\n",
    "\n",
    "print(\"standard deviation for Saruman is: %.2f\" %stdevsar)\n"
   ]
  },
  {
   "cell_type": "code",
   "execution_count": null,
   "metadata": {},
   "outputs": [],
   "source": []
  }
 ],
 "metadata": {
  "kernelspec": {
   "display_name": "Python 3",
   "language": "python",
   "name": "python3"
  },
  "language_info": {
   "codemirror_mode": {
    "name": "ipython",
    "version": 3
   },
   "file_extension": ".py",
   "mimetype": "text/x-python",
   "name": "python",
   "nbconvert_exporter": "python",
   "pygments_lexer": "ipython3",
   "version": "3.7.4"
  }
 },
 "nbformat": 4,
 "nbformat_minor": 2
}
