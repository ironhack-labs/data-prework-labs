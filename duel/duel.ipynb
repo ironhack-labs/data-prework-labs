{
 "cells": [
  {
   "cell_type": "markdown",
   "metadata": {},
   "source": [
    "# Duel of sorcerers\n",
    "You are witnessing an epic battle between two powerful sorcerers: Gandalf and Saruman. Each sorcerer has 10 spells of variable power in their mind and they are going to throw them one after the other. The winner of the duel will be the one who wins more of those clashes between spells. Spells are represented as a list of 10 integers whose value equals the power of the spell.\n",
    "```\n",
    "gandalf = [10, 11, 13, 30, 22, 11, 10, 33, 22, 22]\n",
    "saruman = [23, 66, 12, 43, 12, 10, 44, 23, 12, 17]\n",
    "```\n",
    "For example:\n",
    "1. The first clash is won by Saruman: 10 against 23, wins 23\n",
    "2. The second clash wins Saruman: 11 against 66, wins 66\n",
    "3. etc.\n",
    "\n",
    "\n",
    "You will create two variables, one for each sorcerer, where the sum of clashes won will be stored. Depending on which variable is greater at the end of the duel, you will show one of the following three results on the screen:\n",
    "* Gandalf wins\n",
    "* Saruman wins\n",
    "* Tie\n",
    "\n",
    "<img src=\"images/content_lightning_bolt_big.jpg\" width=\"400\">"
   ]
  },
  {
   "cell_type": "markdown",
   "metadata": {},
   "source": [
    "## Solution"
   ]
  },
  {
   "cell_type": "code",
   "execution_count": 11,
   "metadata": {},
   "outputs": [],
   "source": [
    "import statistics\n",
    "\n",
    "# Assign spell power lists to variables\n",
    "gandalf = [10, 11, 13, 30, 22, 11, 10, 33, 22, 22]\n",
    "saruman = [23, 66, 12, 43, 12, 10, 44, 23, 12, 17]"
   ]
  },
  {
   "cell_type": "code",
   "execution_count": 12,
   "metadata": {},
   "outputs": [
    {
     "name": "stdout",
     "output_type": "stream",
     "text": [
      "True\n"
     ]
    }
   ],
   "source": [
    "# Compare the two list has the same positions, then we can choose one of them interchangeably either len(gandalf) or len(saruman)\n",
    "print(len(gandalf) == len(saruman))\n",
    "\n",
    "# Assign 0 to each variable that stores the victories\n",
    "results_list = []\n",
    "number_of_winnings_Gandalf = 0\n",
    "number_of_winnings_Saruman = 0\n",
    "number_of_tie = 0"
   ]
  },
  {
   "cell_type": "code",
   "execution_count": 13,
   "metadata": {},
   "outputs": [],
   "source": [
    "# Execution of spell clashes\n",
    "# For loop to compare each spells, and write the result of each spell in a results_list every time the loop repeat\n",
    "for spells in range (len(gandalf)):\n",
    "    if gandalf[spells] > saruman[spells]:\n",
    "        results_list.append('Gandalf WIN')\n",
    "        number_of_winnings_Gandalf += 1\n",
    "    elif gandalf[spells] < saruman[spells]:\n",
    "        results_list.append('Saruman WIN')\n",
    "        number_of_winnings_Saruman += 1\n",
    "    else:\n",
    "        results_list.append('TIE')\n",
    "        number_of_tie += 1"
   ]
  },
  {
   "cell_type": "code",
   "execution_count": 14,
   "metadata": {},
   "outputs": [
    {
     "name": "stdout",
     "output_type": "stream",
     "text": [
      "['Saruman WIN', 'Saruman WIN', 'Gandalf WIN', 'Saruman WIN', 'Gandalf WIN', 'Gandalf WIN', 'Saruman WIN', 'Gandalf WIN', 'Gandalf WIN', 'Gandalf WIN']\n",
      "Gandalf won: 6 times\n",
      "Saruman won: 4 times\n",
      "Tie won: 0 times\n",
      "Gandalf wins\n"
     ]
    }
   ],
   "source": [
    "# We check who has won, do not forget the possibility of a draw.\n",
    "print(results_list)\n",
    "print(\"Gandalf won:\",number_of_winnings_Gandalf,\"times\")\n",
    "print(\"Saruman won:\",number_of_winnings_Saruman,\"times\")\n",
    "print(\"Tie won:\",number_of_tie,\"times\")\n",
    "\n",
    "# Print the result based on the winner.\n",
    "final_result = [number_of_winnings_Gandalf,number_of_winnings_Saruman,number_of_tie]\n",
    "\n",
    "if final_result.index(max(final_result)) == 0:\n",
    "    print(\"Gandalf wins\")\n",
    "elif final_result.index(max(final_result)) == 1:\n",
    "    print(\"Saruman wins\")\n",
    "elif final_result.index(max(final_result)) == 2:\n",
    "    print(\"Tie\")"
   ]
  },
  {
   "cell_type": "markdown",
   "metadata": {},
   "source": [
    "## Goals\n",
    "\n",
    "1. Treatment of lists\n",
    "2. Use of **for loop**\n",
    "3. Use of conditional **if-elif-else**\n",
    "4. Use of the functions **range(), len()**\n",
    "5. Print"
   ]
  },
  {
   "cell_type": "markdown",
   "metadata": {},
   "source": [
    "## Bonus\n",
    "\n",
    "1. Spells now have a name and there is a dictionary that relates that name to a power.\n",
    "2. A sorcerer wins if he succeeds in winning 3 spell clashes in a row.\n",
    "3. Average of each of the spell lists.\n",
    "4. Standard deviation of each of the spell lists.\n",
    "\n",
    "```\n",
    "POWER = {\n",
    "    'Fireball': 50, \n",
    "    'Lightning bolt': 40, \n",
    "    'Magic arrow': 10, \n",
    "    'Black Tentacles': 25, \n",
    "    'Contagion': 45\n",
    "}\n",
    "\n",
    "gandalf = ['Fireball', 'Lightning bolt', 'Lightning bolt', 'Magic arrow', 'Fireball', \n",
    "           'Magic arrow', 'Lightning bolt', 'Fireball', 'Fireball', 'Fireball']\n",
    "saruman = ['Contagion', 'Contagion', 'Black Tentacles', 'Fireball', 'Black Tentacles', \n",
    "           'Lightning bolt', 'Magic arrow', 'Contagion', 'Magic arrow', 'Magic arrow']\n",
    "```\n",
    "\n",
    "Good luck!"
   ]
  },
  {
   "cell_type": "code",
   "execution_count": 15,
   "metadata": {},
   "outputs": [],
   "source": [
    "# 1. Spells now have a name and there is a dictionary that relates that name to a power.\n",
    "# variables\n",
    "\n",
    "power = {\n",
    "    'Fireball': 50, \n",
    "    'Lightning bolt': 40, \n",
    "    'Magic arrow': 10, \n",
    "    'Black Tentacles': 25, \n",
    "    'Contagion': 45\n",
    "}\n",
    "\n",
    "gandalf = ['Fireball', 'Lightning bolt', 'Lightning bolt', 'Magic arrow', 'Fireball', \n",
    "           'Magic arrow', 'Lightning bolt', 'Fireball', 'Magic arrow', 'Fireball']\n",
    "saruman = ['Contagion', 'Contagion', 'Black Tentacles', 'Fireball', 'Black Tentacles', \n",
    "           'Lightning bolt', 'Magic arrow', 'Contagion', 'Magic arrow', 'Magic arrow']"
   ]
  },
  {
   "cell_type": "code",
   "execution_count": 16,
   "metadata": {},
   "outputs": [
    {
     "name": "stdout",
     "output_type": "stream",
     "text": [
      "[50, 40, 40, 10, 50, 10, 40, 50, 10, 50]\n",
      "[45, 45, 25, 50, 25, 40, 10, 45, 10, 10]\n"
     ]
    }
   ],
   "source": [
    "# Assign spell power lists to variables\n",
    "gandalf_spells = []\n",
    "saruman_spells = []\n",
    "for i in range (len(gandalf)):\n",
    "    gandalf_spells.append(power[gandalf[i]])\n",
    "    saruman_spells.append(power[saruman[i]])\n",
    "\n",
    "print(gandalf_spells)\n",
    "print(saruman_spells)\n"
   ]
  },
  {
   "cell_type": "code",
   "execution_count": 18,
   "metadata": {},
   "outputs": [
    {
     "name": "stdout",
     "output_type": "stream",
     "text": [
      "The results, positive is a win for Gandalf and negative is a win for Saruman: [5, -5, 15, -40, 25, -30, 30, 5, 0, 40]\n",
      "Tie, there isn't any three wins in a row, nobody won!\n"
     ]
    }
   ],
   "source": [
    "# 2. A sorcerer wins if he succeeds in winning 3 spell clashes in a row.\n",
    "list_winner_three_row =[]\n",
    "for i in range(len(gandalf_spells)):\n",
    "    list_winner_three_row.append(gandalf_spells[i]-saruman_spells[i])\n",
    "print(\"The results, positive is a win for Gandalf and negative is a win for Saruman:\",list_winner_three_row)\n",
    "counter =0\n",
    "for i in range(len(list_winner_three_row)-2):\n",
    "    if (list_winner_three_row[i] > 0) & (list_winner_three_row[i+1] > 0) & (list_winner_three_row[i+2] > 0):\n",
    "        counter += 1\n",
    "        print(\"Gandalf won\")\n",
    "    elif (list_winner_three_row[i] < 0) & (list_winner_three_row[i+1] < 0) & (list_winner_three_row[i+2] < 0):\n",
    "        print(\"Saruman won\")\n",
    "        counter += 1\n",
    "if counter == 0:\n",
    "    print(\"Tie, there isn't any three wins in a row, nobody won!\")\n",
    "        \n",
    "\n",
    "# Execution of spell clashes\n",
    "\n",
    "\n",
    "\n",
    "\n",
    "\n"
   ]
  },
  {
   "cell_type": "code",
   "execution_count": 19,
   "metadata": {},
   "outputs": [
    {
     "name": "stdout",
     "output_type": "stream",
     "text": [
      "Average spells for Gandalf: 35.0\n",
      "Average spells for Gandalf: 30.5\n"
     ]
    }
   ],
   "source": [
    "# 3. Average of each of the spell lists.\n",
    "print(\"Average spells for Gandalf:\",sum(gandalf_spells)/len(gandalf_spells))\n",
    "print(\"Average spells for Gandalf:\",sum(saruman_spells)/len(saruman_spells))\n"
   ]
  },
  {
   "cell_type": "code",
   "execution_count": 20,
   "metadata": {},
   "outputs": [
    {
     "name": "stdout",
     "output_type": "stream",
     "text": [
      "The standard deviation for Gandalf spells is: 17.795130420052185\n",
      "The standard deviation for Saruman spells is: 16.40629960309962\n"
     ]
    }
   ],
   "source": [
    "# 4. Standard deviation of each of the spell lists.\n",
    "print(\"The standard deviation for Gandalf spells is:\",statistics.stdev(gandalf_spells))\n",
    "print(\"The standard deviation for Saruman spells is:\",statistics.stdev(saruman_spells))"
   ]
  }
 ],
 "metadata": {
  "kernelspec": {
   "display_name": "Python 3",
   "language": "python",
   "name": "python3"
  },
  "language_info": {
   "codemirror_mode": {
    "name": "ipython",
    "version": 3
   },
   "file_extension": ".py",
   "mimetype": "text/x-python",
   "name": "python",
   "nbconvert_exporter": "python",
   "pygments_lexer": "ipython3",
   "version": "3.7.3"
  }
 },
 "nbformat": 4,
 "nbformat_minor": 2
}
