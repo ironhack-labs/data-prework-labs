{
 "cells": [
  {
   "cell_type": "markdown",
   "metadata": {},
   "source": [
    "# Duel of sorcerers\n",
    "You are witnessing an epic battle between two powerful sorcerers: Gandalf and Saruman. Each sorcerer has 10 spells of variable power in their mind and they are going to throw them one after the other. The winner of the duel will be the one who wins more of those clashes between spells. Spells are represented as a list of 10 integers whose value equals the power of the spell.\n",
    "```\n",
    "gandalf = [10, 11, 13, 30, 22, 11, 10, 33, 22, 22]\n",
    "saruman = [23, 66, 12, 43, 12, 10, 44, 23, 12, 17]\n",
    "```\n",
    "For example:\n",
    "1. The first clash is won by Saruman: 10 against 23, wins 23\n",
    "2. The second clash wins Saruman: 11 against 66, wins 66\n",
    "3. etc.\n",
    "\n",
    "\n",
    "You will create two variables, one for each sorcerer, where the sum of clashes won will be stored. Depending on which variable is greater at the end of the duel, you will show one of the following three results on the screen:\n",
    "* Gandalf wins\n",
    "* Saruman wins\n",
    "* Tie\n",
    "\n",
    "<img src=\"images/content_lightning_bolt_big.jpg\" width=\"400\">"
   ]
  },
  {
   "cell_type": "markdown",
   "metadata": {},
   "source": [
    "## Solution"
   ]
  },
  {
   "cell_type": "code",
   "execution_count": 10,
   "metadata": {},
   "outputs": [],
   "source": [
    "# Assign spell power lists to variables\n",
    "\n",
    "gandalf = [10, 11, 13, 30, 22, 11, 10, 33, 22, 22]\n",
    "saruman = [23, 66, 12, 43, 12, 10, 44, 23, 12, 17]"
   ]
  },
  {
   "cell_type": "code",
   "execution_count": 17,
   "metadata": {},
   "outputs": [],
   "source": [
    "# Assign 0 to each variable that stores the victories\n",
    "\n",
    "gandalfs_wins = 0\n",
    "sarumans_wins = 0"
   ]
  },
  {
   "cell_type": "code",
   "execution_count": 18,
   "metadata": {},
   "outputs": [
    {
     "name": "stdout",
     "output_type": "stream",
     "text": [
      "Gandalf won 6 times and Saruman won 4 times.\n"
     ]
    }
   ],
   "source": [
    "# Execution of spell clashes\n",
    "for i in range(0,len(gandalf)):\n",
    "    if int(gandalf[i]) > int(saruman[i]):\n",
    "        gandalfs_wins += 1\n",
    "    elif int(gandalf[i]) < int(saruman[i]):\n",
    "        sarumans_wins += 1\n",
    "\n",
    "print(\"Gandalf won\", gandalfs_wins, \"times and\", \"Saruman won\", sarumans_wins, \"times.\")\n",
    "\n"
   ]
  },
  {
   "cell_type": "code",
   "execution_count": 5,
   "metadata": {},
   "outputs": [
    {
     "name": "stdout",
     "output_type": "stream",
     "text": [
      "The winner is Gandalf.\n"
     ]
    }
   ],
   "source": [
    "# We check who has won, do not forget the possibility of a draw.\n",
    "# Print the result based on the winner.\n",
    "\n",
    "if gandalfs_wins > sarumans_wins:\n",
    "    print(\"The winner is Gandalf.\")\n",
    "elif gandalfs_wins < sarumans_wins:\n",
    "    print(\"The winner is Saruman.\")\n",
    "elif gandalfs_wins == sarumans_wins:\n",
    "    print(\"Its a draw.\")"
   ]
  },
  {
   "cell_type": "markdown",
   "metadata": {},
   "source": [
    "## Goals\n",
    "\n",
    "1. Treatment of lists\n",
    "2. Use of **for loop**\n",
    "3. Use of conditional **if-elif-else**\n",
    "4. Use of the functions **range(), len()**\n",
    "5. Print"
   ]
  },
  {
   "cell_type": "markdown",
   "metadata": {},
   "source": [
    "## Bonus\n",
    "\n",
    "1. Spells now have a name and there is a dictionary that relates that name to a power.\n",
    "2. A sorcerer wins if he succeeds in winning 3 spell clashes in a row.\n",
    "3. Average of each of the spell lists.\n",
    "4. Standard deviation of each of the spell lists.\n",
    "\n",
    "```\n",
    "POWER = {\n",
    "    'Fireball': 50, \n",
    "    'Lightning bolt': 40, \n",
    "    'Magic arrow': 10, \n",
    "    'Black Tentacles': 25, \n",
    "    'Contagion': 45\n",
    "}\n",
    "\n",
    "gandalf = ['Fireball', 'Lightning bolt', 'Lightning bolt', 'Magic arrow', 'Fireball', \n",
    "           'Magic arrow', 'Lightning bolt', 'Fireball', 'Fireball', 'Fireball']\n",
    "saruman = ['Contagion', 'Contagion', 'Black Tentacles', 'Fireball', 'Black Tentacles', \n",
    "           'Lightning bolt', 'Magic arrow', 'Contagion', 'Magic arrow', 'Magic arrow']\n",
    "```\n",
    "\n",
    "Good luck!"
   ]
  },
  {
   "cell_type": "code",
   "execution_count": 2,
   "metadata": {},
   "outputs": [],
   "source": [
    "# 1. Spells now have a name and there is a dictionary that relates that name to a power.\n",
    "# variables\n",
    "\n",
    "POWER = {\n",
    "    'Fireball': 50, \n",
    "    'Lightning bolt': 40, \n",
    "    'Magic arrow': 10, \n",
    "    'Black Tentacles': 25, \n",
    "    'Contagion': 45\n",
    "}\n",
    "\n",
    "gandalf = ['Fireball', 'Lightning bolt', 'Lightning bolt', 'Magic arrow', 'Fireball', \n",
    "           'Magic arrow', 'Lightning bolt', 'Fireball', 'Magic arrow', 'Fireball']\n",
    "saruman = ['Contagion', 'Contagion', 'Black Tentacles', 'Fireball', 'Black Tentacles', \n",
    "           'Lightning bolt', 'Magic arrow', 'Contagion', 'Magic arrow', 'Magic arrow']"
   ]
  },
  {
   "cell_type": "code",
   "execution_count": 3,
   "metadata": {},
   "outputs": [],
   "source": [
    "# Assign spell power lists to variables\n",
    "gandalf_powerlist=[]\n",
    "for spell in gandalf:\n",
    "    gandalf_powerlist.append(POWER[spell])\n",
    "\n",
    "saruman_powerlist=[]\n",
    "for spell in saruman:\n",
    "    saruman_powerlist.append(POWER[spell])\n"
   ]
  },
  {
   "cell_type": "code",
   "execution_count": 4,
   "metadata": {},
   "outputs": [
    {
     "name": "stdout",
     "output_type": "stream",
     "text": [
      "the winner is Gandalf\n"
     ]
    }
   ],
   "source": [
    "# 2. A sorcerer wins if he succeeds in winning 3 spell clashes in a row.\n",
    "winner_clash=[]\n",
    "\n",
    "# Execution of spell clashes\n",
    "for i in range(0,len(gandalf)):\n",
    "    if int(gandalf_powerlist[i]) > int(saruman_powerlist[i]):\n",
    "        winner_clash.append(\"Gandalf\")\n",
    "    elif int(gandalf_powerlist[i]) < int(saruman_powerlist[i]):\n",
    "        winner_clash.append(\"Saruman\")\n",
    "\n",
    "winner=None\n",
    "# check for 3 wins in a row\n",
    "for i in winner_clash[3:]:\n",
    "    if i == winner_clash[-1] and i==winner_clash[-2]:\n",
    "        winner=i\n",
    "\n",
    "# check the winner\n",
    "print(\"the winner is\", winner)"
   ]
  },
  {
   "cell_type": "code",
   "execution_count": 5,
   "metadata": {},
   "outputs": [
    {
     "name": "stdout",
     "output_type": "stream",
     "text": [
      "average of gandalf´s spells 35.0\n",
      "average of saruman´s spells 30.5\n"
     ]
    }
   ],
   "source": [
    "# 3. Average of each of the spell lists.\n",
    "average_gandalf=sum(gandalf_powerlist)/len(gandalf_powerlist)\n",
    "print(\"average of gandalf´s spells\", average_gandalf)\n",
    "\n",
    "average_saruman=sum(saruman_powerlist)/len(saruman_powerlist)\n",
    "print(\"average of saruman´s spells\", average_saruman)"
   ]
  },
  {
   "cell_type": "code",
   "execution_count": 6,
   "metadata": {},
   "outputs": [
    {
     "name": "stdout",
     "output_type": "stream",
     "text": [
      "SE of Gandalfs spells =  17.795130420052185\n",
      "SE of Sarumans spells =  16.40629960309962\n"
     ]
    }
   ],
   "source": [
    "# 4. Standard deviation of each of the spell lists.\n",
    "numerator = 0\n",
    "denominator = 0\n",
    "for i in gandalf_powerlist:\n",
    "    numerator += (i - average_gandalf)**2\n",
    "\n",
    "denominator = len(gandalf_powerlist) - 1\n",
    "se_gandalf = (numerator/denominator)**0.5\n",
    "\n",
    "print(\"SE of Gandalfs spells = \", se_gandalf)\n",
    "\n",
    "numerator = 0\n",
    "denominator = 0\n",
    "for i in saruman_powerlist:\n",
    "    numerator += (i - average_saruman)**2\n",
    "\n",
    "denominator = len(saruman_powerlist) - 1\n",
    "se_saruman = (numerator/denominator)**0.5\n",
    "\n",
    "print(\"SE of Sarumans spells = \", se_saruman)\n"
   ]
  },
  {
   "cell_type": "code",
   "execution_count": null,
   "metadata": {},
   "outputs": [],
   "source": []
  }
 ],
 "metadata": {
  "kernelspec": {
   "display_name": "Python 3",
   "language": "python",
   "name": "python3"
  },
  "language_info": {
   "codemirror_mode": {
    "name": "ipython",
    "version": 3
   },
   "file_extension": ".py",
   "mimetype": "text/x-python",
   "name": "python",
   "nbconvert_exporter": "python",
   "pygments_lexer": "ipython3",
   "version": "3.7.3"
  }
 },
 "nbformat": 4,
 "nbformat_minor": 2
}
