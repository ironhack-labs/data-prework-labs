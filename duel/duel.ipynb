{
 "cells": [
  {
   "cell_type": "markdown",
   "metadata": {},
   "source": [
    "# Duel of sorcerers\n",
    "You are witnessing an epic battle between two powerful sorcerers: Gandalf and Saruman. Each sorcerer has 10 spells of variable power in their mind and they are going to throw them one after the other. The winner of the duel will be the one who wins more of those clashes between spells. Spells are represented as a list of 10 integers whose value equals the power of the spell.\n",
    "```\n",
    "gandalf = [10, 11, 13, 30, 22, 11, 10, 33, 22, 22]\n",
    "saruman = [23, 66, 12, 43, 12, 10, 44, 23, 12, 17]\n",
    "```\n",
    "For example:\n",
    "1. The first clash is won by Saruman: 10 against 23, wins 23\n",
    "2. The second clash wins Saruman: 11 against 66, wins 66\n",
    "3. etc.\n",
    "\n",
    "\n",
    "You will create two variables, one for each sorcerer, where the sum of clashes won will be stored. Depending on which variable is greater at the end of the duel, you will show one of the following three results on the screen:\n",
    "* Gandalf wins\n",
    "* Saruman wins\n",
    "* Tie\n",
    "\n",
    "<img src=\"images/content_lightning_bolt_big.jpg\" width=\"400\">"
   ]
  },
  {
   "cell_type": "markdown",
   "metadata": {},
   "source": [
    "## Solution"
   ]
  },
  {
   "cell_type": "code",
   "execution_count": 2,
   "metadata": {},
   "outputs": [],
   "source": [
    "# Assign spell power lists to variables\n",
    "\n",
    "gandalf = [10, 11, 13, 30, 22, 11, 10, 33, 22, 22]\n",
    "saruman = [23, 66, 12, 43, 12, 10, 44, 23, 12, 17]"
   ]
  },
  {
   "cell_type": "code",
   "execution_count": 3,
   "metadata": {},
   "outputs": [],
   "source": [
    "# Assign 0 to each variable that stores the victories\n",
    "\n",
    "victories_gandalf = 0\n",
    "victories_saruman = 0"
   ]
  },
  {
   "cell_type": "code",
   "execution_count": 4,
   "metadata": {},
   "outputs": [],
   "source": [
    "# Execution of spell clashes\n",
    "\n",
    "for element in range(0, len(gandalf)):\n",
    "    if gandalf[element] > saruman[element]:\n",
    "        victories_gandalf += 1\n",
    "    else:\n",
    "        victories_saruman += 1"
   ]
  },
  {
   "cell_type": "code",
   "execution_count": 5,
   "metadata": {},
   "outputs": [
    {
     "name": "stdout",
     "output_type": "stream",
     "text": [
      "Gandalf wins with 6 vs. 4 victories.\n"
     ]
    }
   ],
   "source": [
    "# We check who has won, do not forget the possibility of a draw.\n",
    "# Print the result based on the winner.\n",
    "\n",
    "if victories_gandalf == victories_saruman:\n",
    "    print(\"It's a draw.\")\n",
    "elif victories_gandalf > victories_saruman:\n",
    "    print(\"Gandalf wins with\", victories_gandalf, \"vs.\", victories_saruman, \"victories.\")\n",
    "else:\n",
    "    print(\"Saruman wins with\", victories_saruman, \"vs.\", victories_gandalf, \"victories.\")"
   ]
  },
  {
   "cell_type": "markdown",
   "metadata": {},
   "source": [
    "## Goals\n",
    "\n",
    "1. Treatment of lists\n",
    "2. Use of **for loop**\n",
    "3. Use of conditional **if-elif-else**\n",
    "4. Use of the functions **range(), len()**\n",
    "5. Print"
   ]
  },
  {
   "cell_type": "markdown",
   "metadata": {},
   "source": [
    "## Bonus\n",
    "\n",
    "1. Spells now have a name and there is a dictionary that relates that name to a power.\n",
    "2. A sorcerer wins if he succeeds in winning 3 spell clashes in a row.\n",
    "3. Average of each of the spell lists.\n",
    "4. Standard deviation of each of the spell lists.\n",
    "\n",
    "```\n",
    "POWER = {\n",
    "    'Fireball': 50, \n",
    "    'Lightning bolt': 40, \n",
    "    'Magic arrow': 10, \n",
    "    'Black Tentacles': 25, \n",
    "    'Contagion': 45\n",
    "}\n",
    "\n",
    "gandalf = ['Fireball', 'Lightning bolt', 'Lightning bolt', 'Magic arrow', 'Fireball', \n",
    "           'Magic arrow', 'Lightning bolt', 'Fireball', 'Fireball', 'Fireball']\n",
    "saruman = ['Contagion', 'Contagion', 'Black Tentacles', 'Fireball', 'Black Tentacles', \n",
    "           'Lightning bolt', 'Magic arrow', 'Contagion', 'Magic arrow', 'Magic arrow']\n",
    "```\n",
    "\n",
    "Good luck!"
   ]
  },
  {
   "cell_type": "code",
   "execution_count": 32,
   "metadata": {},
   "outputs": [],
   "source": [
    "# 1. Spells now have a name and there is a dictionary that relates that name to a power.\n",
    "# variables\n",
    "\n",
    "POWER = {\n",
    "    'Fireball': 50, \n",
    "    'Lightning bolt': 40, \n",
    "    'Magic arrow': 10, \n",
    "    'Black Tentacles': 25, \n",
    "    'Contagion': 45\n",
    "}\n",
    "\n",
    "gandalf = ['Fireball', 'Lightning bolt', 'Lightning bolt', 'Magic arrow', 'Fireball', \n",
    "           'Magic arrow', 'Lightning bolt', 'Fireball', 'Magic arrow', 'Fireball']\n",
    "saruman = ['Contagion', 'Contagion', 'Black Tentacles', 'Fireball', 'Black Tentacles', \n",
    "           'Lightning bolt', 'Magic arrow', 'Contagion', 'Magic arrow', 'Magic arrow']\n"
   ]
  },
  {
   "cell_type": "code",
   "execution_count": 33,
   "metadata": {},
   "outputs": [],
   "source": [
    "# Assign spell power lists to variables\n",
    "\n",
    "victories_gandalf = 0\n",
    "victories_saruman = 0"
   ]
  },
  {
   "cell_type": "code",
   "execution_count": 34,
   "metadata": {},
   "outputs": [
    {
     "name": "stdout",
     "output_type": "stream",
     "text": [
      "Number of wins three times in a row of Gandalf:  0\n",
      "Number of wins three times in a row of Saruman:  0\n",
      "It's a draw.\n"
     ]
    }
   ],
   "source": [
    "# 2. A sorcerer wins if he succeeds in winning 3 spell clashes in a row.\n",
    "\n",
    "\n",
    "# Execution of spell clashes\n",
    "\n",
    "for element in range(0, len(gandalf)):\n",
    "    \n",
    "    if POWER[gandalf[element]] > POWER[saruman[element]]:\n",
    "        victories_gandalf += 1\n",
    "    else:\n",
    "        victories_saruman += 1\n",
    "\n",
    "# check for 3 wins in a row\n",
    "\n",
    "count_gandalf = 0\n",
    "\n",
    "for element in range(0, len(gandalf)-2):\n",
    "\n",
    "    if POWER[gandalf[element]] > POWER[saruman[element]] and POWER[gandalf[element + 1]] > POWER[saruman[element + 1]] and POWER[gandalf[element + 2]] > POWER[saruman[element + 2]]:\n",
    "        count_gandalf += 1\n",
    "    else:\n",
    "        count_gandalf += 0\n",
    "\n",
    "print(\"Number of wins three times in a row of Gandalf: \", count_gandalf)\n",
    "\n",
    "count_saruman = 0\n",
    "\n",
    "for element in range(0, len(saruman)-2):\n",
    "\n",
    "    if POWER[saruman[element]] > POWER[gandalf[element]] and POWER[saruman[element + 1]] > POWER[gandalf[element + 1]] and POWER[saruman[element + 2]] > POWER[gandalf[element + 2]]:\n",
    "        count_saruman += 1\n",
    "    else:\n",
    "        count_saruman += 0\n",
    "        \n",
    "print(\"Number of wins three times in a row of Saruman: \", count_saruman)      \n",
    "\n",
    "\n",
    "# check the winner\n",
    "\n",
    "if count_gandalf == count_saruman:\n",
    "    print(\"It's a draw.\")\n",
    "elif count_gandalf > count_saruman:\n",
    "    print(\"Gandalf wins with\", count_gandalf, \"vs.\", count_saruman, \"victories.\")\n",
    "else:\n",
    "    print(\"Saruman wins with\", count_saruman, \"vs.\", count_gandalf, \"victories.\")"
   ]
  },
  {
   "cell_type": "code",
   "execution_count": 44,
   "metadata": {},
   "outputs": [
    {
     "name": "stdout",
     "output_type": "stream",
     "text": [
      "Average of Gandalf's spell list: 35\n",
      "Average of Saruman's spell list: 30.5\n"
     ]
    }
   ],
   "source": [
    "# 3. Average of each of the spell lists.\n",
    "\n",
    "from statistics import mean\n",
    "\n",
    "list_numbers_gandalf = []\n",
    "\n",
    "for element in range(0, len(gandalf)):\n",
    "    list_numbers_gandalf.append(POWER[gandalf[element]])\n",
    "\n",
    "print(\"Average of Gandalf's spell list:\", mean(list_numbers_gandalf))\n",
    "\n",
    "\n",
    "list_numbers_saruman = []\n",
    "\n",
    "for element in range(0, len(gandalf)):\n",
    "    list_numbers_saruman.append(POWER[saruman[element]])\n",
    "\n",
    "print(\"Average of Saruman's spell list:\", mean(list_numbers_saruman))\n",
    "\n",
    "#print(\"The snake's average daily progress is\", round(mean(daily_total),2), \"cm.\")"
   ]
  },
  {
   "cell_type": "code",
   "execution_count": 49,
   "metadata": {},
   "outputs": [
    {
     "name": "stdout",
     "output_type": "stream",
     "text": [
      "Average of Gandalf's spell list: 17\n",
      "Average of Saruman's spell list: 16\n"
     ]
    }
   ],
   "source": [
    "# 4. Standard deviation of each of the spell lists.\n",
    "\n",
    "from statistics import stdev\n",
    "\n",
    "print(\"Average of Gandalf's spell list:\", int(stdev(list_numbers_gandalf)))\n",
    "print(\"Average of Saruman's spell list:\", int(stdev(list_numbers_saruman)))"
   ]
  },
  {
   "cell_type": "code",
   "execution_count": null,
   "metadata": {},
   "outputs": [],
   "source": []
  }
 ],
 "metadata": {
  "kernelspec": {
   "display_name": "Python 3",
   "language": "python",
   "name": "python3"
  },
  "language_info": {
   "codemirror_mode": {
    "name": "ipython",
    "version": 3
   },
   "file_extension": ".py",
   "mimetype": "text/x-python",
   "name": "python",
   "nbconvert_exporter": "python",
   "pygments_lexer": "ipython3",
   "version": "3.7.3"
  }
 },
 "nbformat": 4,
 "nbformat_minor": 2
}
