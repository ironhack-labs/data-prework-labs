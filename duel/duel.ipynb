{
 "cells": [
  {
   "cell_type": "markdown",
   "metadata": {},
   "source": [
    "# Duel of sorcerers\n",
    "You are witnessing an epic battle between two powerful sorcerers: Gandalf and Saruman. Each sorcerer has 10 spells of variable power in their mind and they are going to throw them one after the other. The winner of the duel will be the one who wins more of those clashes between spells. Spells are represented as a list of 10 integers whose value equals the power of the spell.\n",
    "```\n",
    "gandalf = [10, 11, 13, 30, 22, 11, 10, 33, 22, 22]\n",
    "saruman = [23, 66, 12, 43, 12, 10, 44, 23, 12, 17]\n",
    "```\n",
    "For example:\n",
    "1. The first clash is won by Saruman: 10 against 23, wins 23\n",
    "2. The second clash wins Saruman: 11 against 66, wins 66\n",
    "3. etc.\n",
    "\n",
    "\n",
    "You will create two variables, one for each sorcerer, where the sum of clashes won will be stored. Depending on which variable is greater at the end of the duel, you will show one of the following three results on the screen:\n",
    "* Gandalf wins\n",
    "* Saruman wins\n",
    "* Tie\n",
    "\n",
    "<img src=\"images/content_lightning_bolt_big.jpg\" width=\"400\">"
   ]
  },
  {
   "cell_type": "markdown",
   "metadata": {},
   "source": [
    "## Solution"
   ]
  },
  {
   "cell_type": "code",
   "execution_count": 4,
   "metadata": {},
   "outputs": [
    {
     "name": "stdout",
     "output_type": "stream",
     "text": [
      "The 0 clash is won by Saruman: 23 vs 10\n",
      "The 1 clash is won by Saruman: 66 vs 11\n",
      "The 2 clash wins Gandalf: 13 vs 12\n",
      "The 3 clash is won by Saruman: 43 vs 30\n",
      "The 4 clash wins Gandalf: 22 vs 12\n",
      "The 5 clash wins Gandalf: 11 vs 10\n",
      "The 6 clash is won by Saruman: 44 vs 10\n",
      "The 7 clash wins Gandalf: 33 vs 23\n",
      "The 8 clash wins Gandalf: 22 vs 12\n",
      "The 9 clash wins Gandalf: 22 vs 17\n",
      "Gandalf wins!!! The score is 6 vs 4\n"
     ]
    }
   ],
   "source": [
    "# Assign spell power lists to variables\n",
    "\n",
    "gandalf = [10, 11, 13, 30, 22, 11, 10, 33, 22, 22]\n",
    "saruman = [23, 66, 12, 43, 12, 10, 44, 23, 12, 17]\n",
    "gandalf_victory, saruman_victory = 0, 0\n",
    "for i in range(len(gandalf)):\n",
    "    if gandalf[i] < saruman[i]:\n",
    "        print('The {0} clash is won by Saruman: {1} vs {2}'.format(i, saruman[i], gandalf[i]))\n",
    "        saruman_victory += 1\n",
    "    elif gandalf[i] > saruman[i]:\n",
    "        print('The {0} clash wins Gandalf: {1} vs {2}'.format(i, gandalf[i], saruman[i]))\n",
    "        gandalf_victory += 1\n",
    "    else:\n",
    "        print(\"It's a draw!!!\")\n",
    "        saruman_victory += 1\n",
    "        gandalf_victory += 1\n",
    "if gandalf_victory > saruman_victory:\n",
    "    print('Gandalf wins!!! The score is {0} vs {1}'.format(gandalf_victory, saruman_victory))\n",
    "elif saruman_victory > gandalf_victory:\n",
    "    print('Saruman wins!!! The score is {0} vs {1}'.format(saruman_victory, gandalf_victory))\n",
    "else:\n",
    "    print(\"It's a draw!!! :)\")"
   ]
  },
  {
   "cell_type": "code",
   "execution_count": 2,
   "metadata": {},
   "outputs": [],
   "source": [
    "# Assign 0 to each variable that stores the victories\n"
   ]
  },
  {
   "cell_type": "code",
   "execution_count": 1,
   "metadata": {},
   "outputs": [
    {
     "ename": "NameError",
     "evalue": "name 'gandalf' is not defined",
     "output_type": "error",
     "traceback": [
      "\u001b[0;31m---------------------------------------------------------------------------\u001b[0m",
      "\u001b[0;31mNameError\u001b[0m                                 Traceback (most recent call last)",
      "\u001b[0;32m<ipython-input-1-a0084d94601e>\u001b[0m in \u001b[0;36m<module>\u001b[0;34m\u001b[0m\n\u001b[1;32m      1\u001b[0m \u001b[0;31m# Execution of spell clashes\u001b[0m\u001b[0;34m\u001b[0m\u001b[0;34m\u001b[0m\u001b[0;34m\u001b[0m\u001b[0m\n\u001b[0;32m----> 2\u001b[0;31m \u001b[0;32mfor\u001b[0m \u001b[0mi\u001b[0m \u001b[0;32min\u001b[0m \u001b[0mrange\u001b[0m\u001b[0;34m(\u001b[0m\u001b[0mlen\u001b[0m\u001b[0;34m(\u001b[0m\u001b[0mgandalf\u001b[0m\u001b[0;34m)\u001b[0m\u001b[0;34m)\u001b[0m\u001b[0;34m:\u001b[0m\u001b[0;34m\u001b[0m\u001b[0;34m\u001b[0m\u001b[0m\n\u001b[0m\u001b[1;32m      3\u001b[0m     \u001b[0mprint\u001b[0m\u001b[0;34m(\u001b[0m\u001b[0mi\u001b[0m\u001b[0;34m)\u001b[0m\u001b[0;34m\u001b[0m\u001b[0;34m\u001b[0m\u001b[0m\n",
      "\u001b[0;31mNameError\u001b[0m: name 'gandalf' is not defined"
     ]
    }
   ],
   "source": [
    "# Execution of spell clashes\n"
   ]
  },
  {
   "cell_type": "code",
   "execution_count": 4,
   "metadata": {},
   "outputs": [],
   "source": [
    "# We check who has won, do not forget the possibility of a draw.\n",
    "# Print the result based on the winner.\n",
    "\n"
   ]
  },
  {
   "cell_type": "markdown",
   "metadata": {},
   "source": [
    "## Goals\n",
    "\n",
    "1. Treatment of lists\n",
    "2. Use of **for loop**\n",
    "3. Use of conditional **if-elif-else**\n",
    "4. Use of the functions **range(), len()**\n",
    "5. Print"
   ]
  },
  {
   "cell_type": "markdown",
   "metadata": {},
   "source": [
    "## Bonus\n",
    "\n",
    "1. Spells now have a name and there is a dictionary that relates that name to a power.\n",
    "2. A sorcerer wins if he succeeds in winning 3 spell clashes in a row.\n",
    "3. Average of each of the spell lists.\n",
    "4. Standard deviation of each of the spell lists.\n",
    "\n",
    "```\n",
    "POWER = {\n",
    "    'Fireball': 50, \n",
    "    'Lightning bolt': 40, \n",
    "    'Magic arrow': 10, \n",
    "    'Black Tentacles': 25, \n",
    "    'Contagion': 45\n",
    "}\n",
    "\n",
    "gandalf = ['Fireball', 'Lightning bolt', 'Lightning bolt', 'Magic arrow', 'Fireball', \n",
    "           'Magic arrow', 'Lightning bolt', 'Fireball', 'Fireball', 'Fireball']\n",
    "saruman = ['Contagion', 'Contagion', 'Black Tentacles', 'Fireball', 'Black Tentacles', \n",
    "           'Lightning bolt', 'Magic arrow', 'Contagion', 'Magic arrow', 'Magic arrow']\n",
    "```\n",
    "\n",
    "Good luck!"
   ]
  },
  {
   "cell_type": "code",
   "execution_count": 40,
   "metadata": {},
   "outputs": [
    {
     "name": "stdout",
     "output_type": "stream",
     "text": [
      "Gandalf: [50, 40, 40, 10, 50, 10, 40, 50, 10, 50]\n",
      "Saruman: [45, 45, 25, 50, 25, 40, 10, 45, 10, 10]\n",
      "The 0 clash wins Gandalf: 50 vs 45\n",
      "The 1 clash is won by Saruman: 45 vs 40\n",
      "The 2 clash wins Gandalf: 40 vs 25\n",
      "The 3 clash is won by Saruman: 50 vs 10\n",
      "The 4 clash wins Gandalf: 50 vs 25\n",
      "The 5 clash is won by Saruman: 40 vs 10\n",
      "The 6 clash wins Gandalf: 40 vs 10\n",
      "The 7 clash wins Gandalf: 50 vs 45\n",
      "It's a draw!!!\n",
      "The 9 clash wins Gandalf: 50 vs 10\n",
      "Gandalf wins!!!\n",
      "Gandalf's average is 35.0\n",
      "Saruman's average is 30.5\n",
      "Gandalf's standart deviation is 17.795130420052185\n",
      "Saruman's standart deviation is 17.07825127659933\n"
     ]
    }
   ],
   "source": [
    "# 1. Spells now have a name and there is a dictionary that relates that name to a power.\n",
    "# variables\n",
    "import math\n",
    "\n",
    "POWER = {\n",
    "    'Fireball': 50, \n",
    "    'Lightning bolt': 40, \n",
    "    'Magic arrow': 10, \n",
    "    'Black Tentacles': 25, \n",
    "    'Contagion': 45\n",
    "}\n",
    "\n",
    "gandalf = ['Fireball', 'Lightning bolt', 'Lightning bolt', 'Magic arrow', 'Fireball', \n",
    "           'Magic arrow', 'Lightning bolt', 'Fireball', 'Magic arrow', 'Fireball']\n",
    "saruman = ['Contagion', 'Contagion', 'Black Tentacles', 'Fireball', 'Black Tentacles', \n",
    "           'Lightning bolt', 'Magic arrow', 'Contagion', 'Magic arrow', 'Magic arrow']\n",
    "\n",
    "gandalf2 = []\n",
    "for i in gandalf:\n",
    "    gandalf2.append(POWER[i])\n",
    "print('Gandalf:', gandalf2)\n",
    "saruman2 = []\n",
    "for i in saruman:\n",
    "    saruman2.append(POWER[i])\n",
    "print('Saruman:', saruman2)\n",
    "\n",
    "#gandalf_victory, saruman_victory = 0, 0\n",
    "winner = []\n",
    "S = 'SSS'\n",
    "G = 'GGG'\n",
    "\n",
    "for i in range(len(gandalf2)):\n",
    "    if gandalf2[i] < saruman2[i]:\n",
    "        print('The {0} clash is won by Saruman: {1} vs {2}'.format(i, saruman2[i], gandalf2[i]))\n",
    "        winner.append('S')\n",
    "        n = ''.join(winner)\n",
    "        if S in n:\n",
    "            print('Saruman wins!!!')\n",
    "            break\n",
    "    elif gandalf2[i] > saruman2[i]:\n",
    "        print('The {0} clash wins Gandalf: {1} vs {2}'.format(i, gandalf2[i], saruman2[i]))\n",
    "        winner.append('G')\n",
    "        n = ''.join(winner)\n",
    "        if G in n:\n",
    "            print('Gandalf wins!!!')\n",
    "            break\n",
    "    else:\n",
    "        print(\"It's a draw!!!\")\n",
    "average_G = sum(gandalf2)/len(gandalf2)\n",
    "print(\"Gandalf's average is\", average_G)\n",
    "average_S = sum(saruman2)/len(saruman2)\n",
    "print(\"Saruman's average is\", average_S)\n",
    "\n",
    "numerator = 0\n",
    "for n in range(len(gandalf2)):\n",
    "    numerator += (gandalf2[n] - average_G)**2\n",
    "s2G = numerator/(len(gandalf2) - 1)\n",
    "print(\"Gandalf's standart deviation is\", math.sqrt(s2G))\n",
    "numerator = 0\n",
    "for n in range(len(saruman2)):\n",
    "    numerator += (saruman2[n] - average_G)**2\n",
    "s2S = numerator/(len(saruman2) - 1)\n",
    "print(\"Saruman's standart deviation is\", math.sqrt(s2S))"
   ]
  },
  {
   "cell_type": "code",
   "execution_count": 5,
   "metadata": {},
   "outputs": [
    {
     "ename": "NameError",
     "evalue": "name 'POWER' is not defined",
     "output_type": "error",
     "traceback": [
      "\u001b[0;31m---------------------------------------------------------------------------\u001b[0m",
      "\u001b[0;31mNameError\u001b[0m                                 Traceback (most recent call last)",
      "\u001b[0;32m<ipython-input-5-0994f0ebb33e>\u001b[0m in \u001b[0;36m<module>\u001b[0;34m\u001b[0m\n\u001b[1;32m      1\u001b[0m \u001b[0;31m# Assign spell power lists to variables\u001b[0m\u001b[0;34m\u001b[0m\u001b[0;34m\u001b[0m\u001b[0;34m\u001b[0m\u001b[0m\n\u001b[1;32m      2\u001b[0m \u001b[0mgandalf2\u001b[0m \u001b[0;34m=\u001b[0m \u001b[0;34m[\u001b[0m\u001b[0;34m]\u001b[0m\u001b[0;34m\u001b[0m\u001b[0;34m\u001b[0m\u001b[0m\n\u001b[0;32m----> 3\u001b[0;31m \u001b[0;32mfor\u001b[0m \u001b[0mi\u001b[0m \u001b[0;32min\u001b[0m \u001b[0mPOWER\u001b[0m\u001b[0;34m:\u001b[0m\u001b[0;34m\u001b[0m\u001b[0;34m\u001b[0m\u001b[0m\n\u001b[0m\u001b[1;32m      4\u001b[0m     \u001b[0mprint\u001b[0m\u001b[0;34m(\u001b[0m\u001b[0mi\u001b[0m\u001b[0;34m)\u001b[0m\u001b[0;34m\u001b[0m\u001b[0;34m\u001b[0m\u001b[0m\n\u001b[1;32m      5\u001b[0m \u001b[0;34m\u001b[0m\u001b[0m\n",
      "\u001b[0;31mNameError\u001b[0m: name 'POWER' is not defined"
     ]
    }
   ],
   "source": [
    "# Assign spell power lists to variables\n",
    "\n",
    "\n"
   ]
  },
  {
   "cell_type": "code",
   "execution_count": 7,
   "metadata": {},
   "outputs": [],
   "source": [
    "# 2. A sorcerer wins if he succeeds in winning 3 spell clashes in a row.\n",
    "\n",
    "\n",
    "# Execution of spell clashes\n",
    "\n",
    "\n",
    "\n",
    "# check for 3 wins in a row\n",
    "\n",
    "\n",
    "# check the winner\n"
   ]
  },
  {
   "cell_type": "code",
   "execution_count": 8,
   "metadata": {},
   "outputs": [],
   "source": [
    "# 3. Average of each of the spell lists.\n",
    "\n"
   ]
  },
  {
   "cell_type": "code",
   "execution_count": 9,
   "metadata": {},
   "outputs": [],
   "source": [
    "# 4. Standard deviation of each of the spell lists.\n",
    "\n"
   ]
  },
  {
   "cell_type": "code",
   "execution_count": null,
   "metadata": {},
   "outputs": [],
   "source": []
  }
 ],
 "metadata": {
  "kernelspec": {
   "display_name": "Python 3",
   "language": "python",
   "name": "python3"
  },
  "language_info": {
   "codemirror_mode": {
    "name": "ipython",
    "version": 3
   },
   "file_extension": ".py",
   "mimetype": "text/x-python",
   "name": "python",
   "nbconvert_exporter": "python",
   "pygments_lexer": "ipython3",
   "version": "3.7.3"
  }
 },
 "nbformat": 4,
 "nbformat_minor": 2
}
