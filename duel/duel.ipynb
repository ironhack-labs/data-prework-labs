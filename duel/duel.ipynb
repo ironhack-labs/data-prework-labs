{
 "cells": [
  {
   "cell_type": "markdown",
   "metadata": {},
   "source": [
    "# Duel of sorcerers\n",
    "You are witnessing an epic battle between two powerful sorcerers: Gandalf and Saruman. Each sorcerer has 10 spells of variable power in their mind and they are going to throw them one after the other. The winner of the duel will be the one who wins more of those clashes between spells. Spells are represented as a list of 10 integers whose value equals the power of the spell.\n",
    "```\n",
    "gandalf = [10, 11, 13, 30, 22, 11, 10, 33, 22, 22]\n",
    "saruman = [23, 66, 12, 43, 12, 10, 44, 23, 12, 17]\n",
    "```\n",
    "For example:\n",
    "1. The first clash is won by Saruman: 10 against 23, wins 23\n",
    "2. The second clash wins Saruman: 11 against 66, wins 66\n",
    "3. etc.\n",
    "\n",
    "\n",
    "You will create two variables, one for each sorcerer, where the sum of clashes won will be stored. Depending on which variable is greater at the end of the duel, you will show one of the following three results on the screen:\n",
    "* Gandalf wins\n",
    "* Saruman wins\n",
    "* Tie\n",
    "\n",
    "<img src=\"images/content_lightning_bolt_big.jpg\" width=\"400\">"
   ]
  },
  {
   "cell_type": "markdown",
   "metadata": {},
   "source": [
    "## Solution"
   ]
  },
  {
   "cell_type": "code",
   "execution_count": 1,
   "metadata": {},
   "outputs": [],
   "source": [
    "# Assign spell power lists to variables\n",
    "\n",
    "gandalf = [10, 11, 13, 30, 22, 11, 10, 33, 22, 22]\n",
    "saruman = [23, 66, 12, 43, 12, 10, 44, 23, 12, 17]"
   ]
  },
  {
   "cell_type": "code",
   "execution_count": 2,
   "metadata": {},
   "outputs": [],
   "source": [
    "# Assign 0 to each variable that stores the victories\n",
    "gandalf_victories=0\n",
    "saruman_victories=0"
   ]
  },
  {
   "cell_type": "code",
   "execution_count": 3,
   "metadata": {},
   "outputs": [],
   "source": [
    "# Execution of spell clashes\n",
    "spell_clashes=[]\n",
    "for i in range(0,len(gandalf)):\n",
    "    clash_result = gandalf[i] - saruman[i]\n",
    "    spell_clashes.append(clash_result)"
   ]
  },
  {
   "cell_type": "code",
   "execution_count": 4,
   "metadata": {},
   "outputs": [
    {
     "name": "stdout",
     "output_type": "stream",
     "text": [
      "Gandalf wins\n"
     ]
    }
   ],
   "source": [
    "# We check who has won, do not forget the possibility of a draw.\n",
    "# Print the result based on the winner.\n",
    "for i in spell_clashes:\n",
    "    if i < 0:\n",
    "        saruman_victories += 1\n",
    "    elif i > 0:\n",
    "        gandalf_victories += 1\n",
    "\n",
    "if saruman_victories > gandalf_victories:\n",
    "    print(\"Saruman wins\")\n",
    "elif saruman_victories < gandalf_victories:\n",
    "    print(\"Gandalf wins\")\n",
    "else:\n",
    "    print(\"Tie\")\n"
   ]
  },
  {
   "cell_type": "markdown",
   "metadata": {},
   "source": [
    "## Goals\n",
    "\n",
    "1. Treatment of lists\n",
    "2. Use of **for loop**\n",
    "3. Use of conditional **if-elif-else**\n",
    "4. Use of the functions **range(), len()**\n",
    "5. Print"
   ]
  },
  {
   "cell_type": "markdown",
   "metadata": {},
   "source": [
    "## Bonus\n",
    "\n",
    "1. Spells now have a name and there is a dictionary that relates that name to a power.\n",
    "2. A sorcerer wins if he succeeds in winning 3 spell clashes in a row.\n",
    "3. Average of each of the spell lists.\n",
    "4. Standard deviation of each of the spell lists.\n",
    "\n",
    "```\n",
    "POWER = {\n",
    "    'Fireball': 50, \n",
    "    'Lightning bolt': 40, \n",
    "    'Magic arrow': 10, \n",
    "    'Black Tentacles': 25, \n",
    "    'Contagion': 45\n",
    "}\n",
    "\n",
    "gandalf = ['Fireball', 'Lightning bolt', 'Lightning bolt', 'Magic arrow', 'Fireball', \n",
    "           'Magic arrow', 'Lightning bolt', 'Fireball', 'Fireball', 'Fireball']\n",
    "saruman = ['Contagion', 'Contagion', 'Black Tentacles', 'Fireball', 'Black Tentacles', \n",
    "           'Lightning bolt', 'Magic arrow', 'Contagion', 'Magic arrow', 'Magic arrow']\n",
    "```\n",
    "\n",
    "Good luck!"
   ]
  },
  {
   "cell_type": "code",
   "execution_count": 5,
   "metadata": {},
   "outputs": [],
   "source": [
    "# 1. Spells now have a name and there is a dictionary that relates that name to a power.\n",
    "# variables\n",
    "\n",
    "POWER = {\n",
    "    'Fireball': 50, \n",
    "    'Lightning bolt': 40, \n",
    "    'Magic arrow': 10, \n",
    "    'Black Tentacles': 25, \n",
    "    'Contagion': 45\n",
    "}\n",
    "\n",
    "gandalf = ['Fireball', 'Lightning bolt', 'Lightning bolt', 'Magic arrow', 'Fireball', \n",
    "           'Magic arrow', 'Lightning bolt', 'Fireball', 'Magic arrow', 'Fireball']\n",
    "saruman = ['Contagion', 'Contagion', 'Black Tentacles', 'Fireball', 'Black Tentacles', \n",
    "           'Lightning bolt', 'Magic arrow', 'Contagion', 'Magic arrow', 'Magic arrow']"
   ]
  },
  {
   "cell_type": "code",
   "execution_count": 6,
   "metadata": {},
   "outputs": [],
   "source": [
    "# Assign spell power lists to variables\n",
    "gandalf_power = []\n",
    "saruman_power = []\n",
    "\n",
    "for i in gandalf:\n",
    "    power = POWER[i]\n",
    "    gandalf_power.append(power)\n",
    "    \n",
    "for i in saruman:\n",
    "    power = POWER[i]\n",
    "    saruman_power.append(power)\n"
   ]
  },
  {
   "cell_type": "code",
   "execution_count": 7,
   "metadata": {},
   "outputs": [
    {
     "name": "stdout",
     "output_type": "stream",
     "text": [
      "Gandalf Wins\n"
     ]
    }
   ],
   "source": [
    "# 2. A sorcerer wins if he succeeds in winning 3 spell clashes in a row.\n",
    "\n",
    "\n",
    "# Execution of spell clashes\n",
    "spell_clashes=[]\n",
    "for i in range(0,len(gandalf_power)):\n",
    "    clash_result = gandalf_power[i] - saruman_power[i]\n",
    "    spell_clashes.append(clash_result)\n",
    "\n",
    "\n",
    "# check for 3 wins in a row\n",
    "saruman_results = []\n",
    "gandalf_results = []\n",
    "for i in spell_clashes:\n",
    "    if i < 0:\n",
    "        saruman_results.append(1)\n",
    "        gandalf_results.append(0)\n",
    "    elif i > 0:\n",
    "        gandalf_results.append(1)\n",
    "        saruman_results.append(0)\n",
    "\n",
    "gandalf_pontuation = 0\n",
    "saruman_pontuation = 0\n",
    "for i in gandalf_results:\n",
    "    if i == 1:\n",
    "        gandalf_pontuation = gandalf_pontuation + 1\n",
    "        saruman_pontuation = 0\n",
    "        if gandalf_pontuation == 3:\n",
    "            print(\"Gandalf Wins\")\n",
    "    elif i == 0:\n",
    "        gandalf_pontuation = 0\n",
    "        saruman_pontuation = saruman_pontuation + 1\n",
    "        if saruman_pontuation == 3:\n",
    "            print(\"Saruman Wins\")\n",
    "\n",
    "# check the winner\n"
   ]
  },
  {
   "cell_type": "code",
   "execution_count": 8,
   "metadata": {},
   "outputs": [
    {
     "name": "stdout",
     "output_type": "stream",
     "text": [
      "35.0\n",
      "30.5\n"
     ]
    }
   ],
   "source": [
    "# 3. Average of each of the spell lists.\n",
    "average_gandalf_power=sum(gandalf_power)/len(gandalf_power)\n",
    "print(average_gandalf_power)\n",
    "average_saruman_power=sum(saruman_power)/len(saruman_power)\n",
    "print(average_saruman_power)\n"
   ]
  },
  {
   "cell_type": "code",
   "execution_count": 9,
   "metadata": {},
   "outputs": [
    {
     "name": "stdout",
     "output_type": "stream",
     "text": [
      "16.881943016134134\n",
      "15.56438241627338\n"
     ]
    }
   ],
   "source": [
    "# 4. Standard deviation of each of the spell lists.\n",
    "\n",
    "squared_deviations_gandalf=[]\n",
    "for i in gandalf_power:\n",
    "    squared_deviation=(i - average_gandalf_power)**2\n",
    "    squared_deviations_gandalf.append(squared_deviation)\n",
    "standard_deviation_gandalf = (sum(squared_deviations_gandalf)/len(squared_deviations_gandalf))**0.5\n",
    "print(standard_deviation_gandalf)\n",
    "\n",
    "squared_deviations_saruman=[]\n",
    "for i in saruman_power:\n",
    "    squared_deviation=(i - average_saruman_power)**2\n",
    "    squared_deviations_saruman.append(squared_deviation)\n",
    "standard_deviation_saruman = (sum(squared_deviations_saruman)/len(squared_deviations_saruman))**0.5\n",
    "print(standard_deviation_saruman)"
   ]
  },
  {
   "cell_type": "code",
   "execution_count": null,
   "metadata": {},
   "outputs": [],
   "source": []
  },
  {
   "cell_type": "code",
   "execution_count": null,
   "metadata": {},
   "outputs": [],
   "source": []
  },
  {
   "cell_type": "code",
   "execution_count": null,
   "metadata": {},
   "outputs": [],
   "source": []
  }
 ],
 "metadata": {
  "kernelspec": {
   "display_name": "Python 3",
   "language": "python",
   "name": "python3"
  },
  "language_info": {
   "codemirror_mode": {
    "name": "ipython",
    "version": 3
   },
   "file_extension": ".py",
   "mimetype": "text/x-python",
   "name": "python",
   "nbconvert_exporter": "python",
   "pygments_lexer": "ipython3",
   "version": "3.7.4"
  }
 },
 "nbformat": 4,
 "nbformat_minor": 2
}
