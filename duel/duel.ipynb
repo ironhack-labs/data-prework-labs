{
 "cells": [
  {
   "cell_type": "markdown",
   "metadata": {},
   "source": [
    "# Duel of sorcerers\n",
    "You are witnessing an epic battle between two powerful sorcerers: Gandalf and Saruman. Each sorcerer has 10 spells of variable power in their mind and they are going to throw them one after the other. The winner of the duel will be the one who wins more of those clashes between spells. Spells are represented as a list of 10 integers whose value equals the power of the spell.\n",
    "```\n",
    "gandalf = [10, 11, 13, 30, 22, 11, 10, 33, 22, 22]\n",
    "saruman = [23, 66, 12, 43, 12, 10, 44, 23, 12, 17]\n",
    "```\n",
    "For example:\n",
    "1. The first clash is won by Saruman: 10 against 23, wins 23\n",
    "2. The second clash wins Saruman: 11 against 66, wins 66\n",
    "3. etc.\n",
    "\n",
    "\n",
    "You will create two variables, one for each sorcerer, where the sum of clashes won will be stored. Depending on which variable is greater at the end of the duel, you will show one of the following three results on the screen:\n",
    "* Gandalf wins\n",
    "* Saruman wins\n",
    "* Tie\n",
    "\n",
    "<img src=\"images/content_lightning_bolt_big.jpg\" width=\"400\">"
   ]
  },
  {
   "cell_type": "markdown",
   "metadata": {},
   "source": [
    "## Solution"
   ]
  },
  {
   "cell_type": "code",
   "execution_count": 16,
   "metadata": {},
   "outputs": [],
   "source": [
    "# Assign spell power lists to variables\n",
    "\n",
    "gandalf = [10, 11, 13, 30, 22, 11, 10, 33, 22, 22]\n",
    "saruman = [23, 66, 12, 43, 12, 10, 44, 23, 12, 17]"
   ]
  },
  {
   "cell_type": "code",
   "execution_count": 17,
   "metadata": {},
   "outputs": [],
   "source": [
    "# Assign 0 to each variable that stores the victories\n",
    "gandalf_win=0\n",
    "saruman_win=0\n",
    "tie=0"
   ]
  },
  {
   "cell_type": "code",
   "execution_count": 23,
   "metadata": {},
   "outputs": [
    {
     "name": "stdout",
     "output_type": "stream",
     "text": [
      "['Saruman', 'Saruman', 'Gandalf', 'Saruman', 'Gandalf', 'Gandalf', 'Saruman', 'Gandalf', 'Gandalf']\n"
     ]
    }
   ],
   "source": [
    "# Execution of spell clashes\n",
    "for i in range(0,(len(gandalf)-1)):\n",
    "    if gandalf[i]>saruman[i]:\n",
    "        gandalf_win+=1\n",
    "        elif saruman[i]>gandalf[i]:\n",
    "        saruman_win+=1\n",
    "    else :\n",
    "        tie+=1\n",
    "        "
   ]
  },
  {
   "cell_type": "code",
   "execution_count": 8,
   "metadata": {
    "scrolled": false
   },
   "outputs": [
    {
     "ename": "NameError",
     "evalue": "name 'winner' is not defined",
     "output_type": "error",
     "traceback": [
      "\u001b[0;31m---------------------------------------------------------------------------\u001b[0m",
      "\u001b[0;31mNameError\u001b[0m                                 Traceback (most recent call last)",
      "\u001b[0;32m<ipython-input-8-d8f614ef8e04>\u001b[0m in \u001b[0;36m<module>\u001b[0;34m\u001b[0m\n\u001b[1;32m      2\u001b[0m \u001b[0;31m# Print the result based on the winner.\u001b[0m\u001b[0;34m\u001b[0m\u001b[0;34m\u001b[0m\u001b[0;34m\u001b[0m\u001b[0m\n\u001b[1;32m      3\u001b[0m \u001b[0;34m\u001b[0m\u001b[0m\n\u001b[0;32m----> 4\u001b[0;31m \u001b[0mprint\u001b[0m\u001b[0;34m(\u001b[0m\u001b[0mwinner\u001b[0m\u001b[0;34m[\u001b[0m\u001b[0;36m1\u001b[0m\u001b[0;34m]\u001b[0m\u001b[0;34m)\u001b[0m\u001b[0;34m\u001b[0m\u001b[0;34m\u001b[0m\u001b[0m\n\u001b[0m",
      "\u001b[0;31mNameError\u001b[0m: name 'winner' is not defined"
     ]
    }
   ],
   "source": [
    "# We check who has won, do not forget the possibility of a draw.\n",
    "# Print the result based on the winner.\n",
    "\n",
    "if gandalf_win>saruman_win:\n",
    "    print(\"Gandalf wins!\")\n",
    "elif saruman_win>gandalf_win:\n",
    "    print(\"Saruman wins!\")\n",
    "else:\n",
    "    print(\"Tie!\")\n"
   ]
  },
  {
   "cell_type": "code",
   "execution_count": 69,
   "metadata": {},
   "outputs": [
    {
     "name": "stdout",
     "output_type": "stream",
     "text": [
      "Gandalf wins!\n"
     ]
    }
   ],
   "source": [
    "gandalf = [10, 11, 13, 30, 22, 11, 10, 33, 22, 22]\n",
    "saruman = [23, 66, 12, 43, 12, 10, 44, 23, 12, 17]\n",
    "\n",
    "gandalf_win=0\n",
    "saruman_win=0\n",
    "tie=0\n",
    "\n",
    "for i in range(0,(len(gandalf)-1)):\n",
    "    if gandalf[i]>saruman[i]:\n",
    "        gandalf_win+=1\n",
    "    elif saruman[i]>gandalf[i]:\n",
    "        saruman_win+=1\n",
    "    else :\n",
    "        tie+=1\n",
    "        \n",
    "if gandalf_win>saruman_win:\n",
    "    print(\"Gandalf wins!\")\n",
    "elif saruman_win>gandalf_win:\n",
    "    print(\"Saruman wins!\")\n",
    "else:\n",
    "    print(\"Tie!\")\n"
   ]
  },
  {
   "cell_type": "markdown",
   "metadata": {},
   "source": [
    "## Goals\n",
    "\n",
    "1. Treatment of lists\n",
    "2. Use of **for loop**\n",
    "3. Use of conditional **if-elif-else**\n",
    "4. Use of the functions **range(), len()**\n",
    "5. Print"
   ]
  },
  {
   "cell_type": "markdown",
   "metadata": {},
   "source": [
    "## Bonus\n",
    "\n",
    "1. Spells now have a name and there is a dictionary that relates that name to a power.\n",
    "2. A sorcerer wins if he succeeds in winning 3 spell clashes in a row.\n",
    "3. Average of each of the spell lists.\n",
    "4. Standard deviation of each of the spell lists.\n",
    "\n",
    "```\n",
    "POWER = {\n",
    "    'Fireball': 50, \n",
    "    'Lightning bolt': 40, \n",
    "    'Magic arrow': 10, \n",
    "    'Black Tentacles': 25, \n",
    "    'Contagion': 45\n",
    "}\n",
    "\n",
    "gandalf = ['Fireball', 'Lightning bolt', 'Lightning bolt', 'Magic arrow', 'Fireball', \n",
    "           'Magic arrow', 'Lightning bolt', 'Fireball', 'Fireball', 'Fireball']\n",
    "saruman = ['Contagion', 'Contagion', 'Black Tentacles', 'Fireball', 'Black Tentacles', \n",
    "           'Lightning bolt', 'Magic arrow', 'Contagion', 'Magic arrow', 'Magic arrow']\n",
    "```\n",
    "\n",
    "Good luck!"
   ]
  },
  {
   "cell_type": "code",
   "execution_count": 70,
   "metadata": {},
   "outputs": [],
   "source": [
    "# 1. Spells now have a name and there is a dictionary that relates that name to a power.\n",
    "# variables\n",
    "\n",
    "POWER = {\n",
    "    'Fireball': 50, \n",
    "    'Lightning bolt': 40, \n",
    "    'Magic arrow': 10, \n",
    "    'Black Tentacles': 25, \n",
    "    'Contagion': 45\n",
    "}\n",
    "\n",
    "gandalf = ['Fireball', 'Lightning bolt', 'Lightning bolt', 'Magic arrow', 'Fireball', \n",
    "           'Magic arrow', 'Lightning bolt', 'Fireball', 'Magic arrow', 'Fireball']\n",
    "saruman = ['Contagion', 'Contagion', 'Black Tentacles', 'Fireball', 'Black Tentacles', \n",
    "           'Lightning bolt', 'Magic arrow', 'Contagion', 'Magic arrow', 'Magic arrow']"
   ]
  },
  {
   "cell_type": "code",
   "execution_count": 71,
   "metadata": {},
   "outputs": [],
   "source": [
    "# Assign spell power lists to variables\n",
    "\n",
    "gandalf_sp = []\n",
    "saruman_sp = []\n",
    "\n",
    "for i in range(0,(len(gandalf)-1)):\n",
    "    gandalf_sp.append(POWER[gandalf[i]])\n",
    "    \n",
    "for i in range(0,(len(saruman)-1)):\n",
    "    saruman_sp.append(POWER[saruman[i]])"
   ]
  },
  {
   "cell_type": "code",
   "execution_count": 73,
   "metadata": {},
   "outputs": [
    {
     "name": "stdout",
     "output_type": "stream",
     "text": [
      "Gandalf wins!\n"
     ]
    }
   ],
   "source": [
    "# 2. A sorcerer wins if he succeeds in winning 3 spell clashes in a row.\n",
    "\n",
    "\n",
    "# Execution of spell clashes\n",
    "winner = []\n",
    "\n",
    "for i in range(0,(len(gandalf)-1)):\n",
    "    if gandalf_sp[i]>saruman_sp[i]:\n",
    "        winner.append('Gandalf')\n",
    "    elif saruman_sp[i]>gandalf_sp[i]:\n",
    "        winner.append('Saruman')\n",
    "    else :\n",
    "        winner.append('Tie')\n",
    "\n",
    "# check for 3 wins in a row\n",
    "\n",
    "win=0\n",
    "g_wincount=0\n",
    "s_wincount=0\n",
    "\n",
    "while g_wincount <3 or s_wincount <3 and win!=battle-1:\n",
    "    if winner[win]=='Gandalf':\n",
    "        g_wincount +=1\n",
    "    elif winner[win] == 'Saruman':\n",
    "        s_wincount +=1\n",
    "    else :\n",
    "        pass\n",
    "    win+=1\n",
    "\n",
    "\n",
    "# check the winner\n",
    "\n",
    "if g_wincount==3:\n",
    "    print(\"Gandalf wins!\")\n",
    "elif s_wincount==3:\n",
    "    print(\"Saruman wins!\")\n",
    "else:\n",
    "    print(\"It's a Tie!\")"
   ]
  },
  {
   "cell_type": "code",
   "execution_count": 8,
   "metadata": {},
   "outputs": [],
   "source": [
    "# 3. Average of each of the spell lists.\n",
    "\n",
    "mean_g = sum(gandalf_sp)/len(gandalf_sp)\n",
    "mean_s = sum(saruman_sp)/len(saruman_sp)\n",
    "\n",
    "print(\"Average of Gandalf's spell list:\", mean_g)\n",
    "print(\"Average of Saruman's spell list:\", mean_s)\n"
   ]
  },
  {
   "cell_type": "code",
   "execution_count": 9,
   "metadata": {},
   "outputs": [],
   "source": [
    "# 4. Standard deviation of each of the spell lists.\n",
    "\n",
    "stdv_g = (sum(((i-mean_g) **2) for i in gandalf_sp)/len(gandalf_sp)) ** 0.5\n",
    "stdv_s = (sum(((i-mean_s) **2) for i in saruman_sp)/len(saruman_sp)) ** 0.5\n",
    "\n",
    "print(\"Standard deviation of Gandalf's spell list:\", stdv_g)\n",
    "print(\"Standard deviation of Saruman's spell list:\", stdv_s)"
   ]
  },
  {
   "cell_type": "code",
   "execution_count": 74,
   "metadata": {},
   "outputs": [
    {
     "name": "stdout",
     "output_type": "stream",
     "text": [
      "Gandalf wins!\n",
      "Average of Gandalf's spell list: 33.333333333333336\n",
      "Average of Gandalf's spell list: 32.77777777777778\n",
      "Standard deviation of Gandalf's spell list: 16.99673171197595\n",
      "Standard deviation of Saruman's spell list: 14.740554623801778\n"
     ]
    }
   ],
   "source": [
    "POWER = {\n",
    "    'Fireball': 50, \n",
    "    'Lightning bolt': 40, \n",
    "    'Magic arrow': 10, \n",
    "    'Black Tentacles': 25, \n",
    "    'Contagion': 45\n",
    "}\n",
    "\n",
    "gandalf = ['Fireball', 'Lightning bolt', 'Lightning bolt', 'Magic arrow', 'Fireball', \n",
    "           'Magic arrow', 'Lightning bolt', 'Fireball', 'Magic arrow', 'Fireball']\n",
    "saruman = ['Contagion', 'Contagion', 'Black Tentacles', 'Fireball', 'Black Tentacles', \n",
    "           'Lightning bolt', 'Magic arrow', 'Contagion', 'Magic arrow', 'Magic arrow']\n",
    "\n",
    "gandalf_sp = []\n",
    "saruman_sp = []\n",
    "\n",
    "for i in range(0,(len(gandalf)-1)):\n",
    "    gandalf_sp.append(POWER[gandalf[i]])\n",
    "    \n",
    "for i in range(0,(len(saruman)-1)):\n",
    "    saruman_sp.append(POWER[saruman[i]])\n",
    "\n",
    "winner = []\n",
    "battle = len(gandalf)\n",
    "\n",
    "for i in range(0,(battle-1)):\n",
    "    if gandalf_sp[i]>saruman_sp[i]:\n",
    "        winner.append('Gandalf')\n",
    "    elif saruman_sp[i]>gandalf_sp[i]:\n",
    "        winner.append('Saruman')\n",
    "    else :\n",
    "        winner.append('Tie')\n",
    "\n",
    "\n",
    "win=0\n",
    "g_wincount=0\n",
    "s_wincount=0\n",
    "\n",
    "while g_wincount <3 or s_wincount <3 and win!=battle-1:\n",
    "    if winner[win]=='Gandalf':\n",
    "        g_wincount +=1\n",
    "    elif winner[win] == 'Saruman':\n",
    "        s_wincount +=1\n",
    "    else :\n",
    "        pass\n",
    "    win+=1\n",
    "    \n",
    "if g_wincount==3:\n",
    "    print(\"Gandalf wins!\")\n",
    "elif s_wincount==3:\n",
    "    print(\"Saruman wins!\")\n",
    "else:\n",
    "    print(\"It's a Tie!\")\n",
    "    \n",
    "\n",
    "mean_g = sum(gandalf_sp)/len(gandalf_sp)\n",
    "mean_s = sum(saruman_sp)/len(saruman_sp)\n",
    "\n",
    "print(\"Average of Gandalf's spell list:\", mean_g)\n",
    "print(\"Average of Gandalf's spell list:\", mean_s)\n",
    "    \n",
    "\n",
    "    \n",
    "stdv_g = (sum(((i-mean_g) **2) for i in gandalf_sp)/len(gandalf_sp)) ** 0.5\n",
    "stdv_s = (sum(((i-mean_s) **2) for i in saruman_sp)/len(saruman_sp)) ** 0.5\n",
    "\n",
    "print(\"Standard deviation of Gandalf's spell list:\", stdv_g)\n",
    "print(\"Standard deviation of Saruman's spell list:\", stdv_s)"
   ]
  },
  {
   "cell_type": "code",
   "execution_count": null,
   "metadata": {},
   "outputs": [],
   "source": []
  },
  {
   "cell_type": "code",
   "execution_count": null,
   "metadata": {},
   "outputs": [],
   "source": []
  }
 ],
 "metadata": {
  "kernelspec": {
   "display_name": "Python 3",
   "language": "python",
   "name": "python3"
  },
  "language_info": {
   "codemirror_mode": {
    "name": "ipython",
    "version": 3
   },
   "file_extension": ".py",
   "mimetype": "text/x-python",
   "name": "python",
   "nbconvert_exporter": "python",
   "pygments_lexer": "ipython3",
   "version": "3.7.4"
  }
 },
 "nbformat": 4,
 "nbformat_minor": 2
}
