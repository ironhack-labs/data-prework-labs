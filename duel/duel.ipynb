{
 "cells": [
  {
   "cell_type": "markdown",
   "metadata": {},
   "source": [
    "# Duel of sorcerers\n",
    "You are witnessing an epic battle between two powerful sorcerers: Gandalf and Saruman. Each sorcerer has 10 spells of variable power in their mind and they are going to throw them one after the other. The winner of the duel will be the one who wins more of those clashes between spells. Spells are represented as a list of 10 integers whose value equals the power of the spell.\n",
    "```\n",
    "gandalf = [10, 11, 13, 30, 22, 11, 10, 33, 22, 22]\n",
    "saruman = [23, 66, 12, 43, 12, 10, 44, 23, 12, 17]\n",
    "```\n",
    "For example:\n",
    "1. The first clash is won by Saruman: 10 against 23, wins 23\n",
    "2. The second clash wins Saruman: 11 against 66, wins 66\n",
    "3. etc.\n",
    "\n",
    "\n",
    "You will create two variables, one for each sorcerer, where the sum of clashes won will be stored. Depending on which variable is greater at the end of the duel, you will show one of the following three results on the screen:\n",
    "* Gandalf wins\n",
    "* Saruman wins\n",
    "* Tie\n",
    "\n",
    "<img src=\"images/content_lightning_bolt_big.jpg\" width=\"400\">"
   ]
  },
  {
   "cell_type": "markdown",
   "metadata": {},
   "source": [
    "## Solution"
   ]
  },
  {
   "cell_type": "code",
   "execution_count": 8,
   "metadata": {},
   "outputs": [],
   "source": [
    "import math\n"
   ]
  },
  {
   "cell_type": "code",
   "execution_count": 47,
   "metadata": {},
   "outputs": [],
   "source": [
    "# Assign spell power lists to variables\n",
    "\n",
    "gandalf = [10, 11, 13, 30, 22, 11, 10, 33, 22, 22]\n",
    "saruman = [23, 66, 12, 43, 12, 10, 44, 23, 12, 17]\n",
    "tie=[]"
   ]
  },
  {
   "cell_type": "code",
   "execution_count": 48,
   "metadata": {},
   "outputs": [],
   "source": [
    "# Assign 0 to each variable that stores the victories\n",
    "gandalf_results=int(0)\n",
    "saruman_results=int(0)\n",
    "draw=int(0)"
   ]
  },
  {
   "cell_type": "code",
   "execution_count": 49,
   "metadata": {},
   "outputs": [],
   "source": [
    "# Execution of spell clashes\n",
    "\n",
    "for i in range(10):\n",
    "    if gandalf[i] < saruman[i]:\n",
    "        saruman_results+=1\n",
    "    elif gandalf[i] > saruman[i]:\n",
    "        gandalf_results+=1\n",
    "    else:\n",
    "        draw+=1\n",
    "\n",
    "for i in range(10):\n",
    "    tie.append(int(gandalf[i] + saruman[i]))\n",
    "   "
   ]
  },
  {
   "cell_type": "code",
   "execution_count": 50,
   "metadata": {},
   "outputs": [
    {
     "name": "stdout",
     "output_type": "stream",
     "text": [
      "**SCORE** \n",
      " Saruman = 4 \n",
      " Gandalf = 6 \n",
      " Draw = 0 \n",
      "**THE SUM OF POWER** \n",
      " [33, 77, 25, 73, 34, 21, 54, 56, 34, 39] = 446 of 10 clashes\n"
     ]
    }
   ],
   "source": [
    "# We check who has won, do not forget the possibility of a draw.\n",
    "# Print the result based on the winner.\n",
    "print(\"**SCORE** \\n\",\n",
    "      \"Saruman =\", saruman_results,\"\\n\",\n",
    "      \"Gandalf =\", gandalf_results,\"\\n\",\n",
    "      \"Draw =\", draw,\"\\n\"\n",
    "      \"**THE SUM OF POWER** \\n\", tie, \"=\", sum(tie), \"of\", len(tie), \"clashes\" )\n"
   ]
  },
  {
   "cell_type": "markdown",
   "metadata": {},
   "source": [
    "## Goals\n",
    "\n",
    "1. Treatment of lists\n",
    "2. Use of **for loop**\n",
    "3. Use of conditional **if-elif-else**\n",
    "4. Use of the functions **range(), len()**\n",
    "5. Print"
   ]
  },
  {
   "cell_type": "markdown",
   "metadata": {},
   "source": [
    "## Bonus\n",
    "\n",
    "1. Spells now have a name and there is a dictionary that relates that name to a power.\n",
    "2. A sorcerer wins if he succeeds in winning 3 spell clashes in a row.\n",
    "3. Average of each of the spell lists.\n",
    "4. Standard deviation of each of the spell lists.\n",
    "\n",
    "```\n",
    "POWER = {\n",
    "    'Fireball': 50, \n",
    "    'Lightning bolt': 40, \n",
    "    'Magic arrow': 10, \n",
    "    'Black Tentacles': 25, \n",
    "    'Contagion': 45\n",
    "}\n",
    "\n",
    "gandalf = ['Fireball', 'Lightning bolt', 'Lightning bolt', 'Magic arrow', 'Fireball', \n",
    "           'Magic arrow', 'Lightning bolt', 'Fireball', 'Fireball', 'Fireball']\n",
    "saruman = ['Contagion', 'Contagion', 'Black Tentacles', 'Fireball', 'Black Tentacles', \n",
    "           'Lightning bolt', 'Magic arrow', 'Contagion', 'Magic arrow', 'Magic arrow']\n",
    "```\n",
    "\n",
    "Good luck!"
   ]
  },
  {
   "cell_type": "code",
   "execution_count": 1,
   "metadata": {},
   "outputs": [],
   "source": [
    "# 1. Spells now have a name and there is a dictionary that relates that name to a power.\n",
    "# variables\n",
    "\n",
    "POWER = {\n",
    "    'Fireball': 50, \n",
    "    'Lightning bolt': 40, \n",
    "    'Magic arrow': 10, \n",
    "    'Black Tentacles': 25, \n",
    "    'Contagion': 45\n",
    "}\n",
    "\n",
    "gandalf = ['Fireball', 'Lightning bolt', 'Lightning bolt', 'Magic arrow', 'Fireball', \n",
    "           'Magic arrow', 'Lightning bolt', 'Fireball', 'Magic arrow', 'Fireball']\n",
    "saruman = ['Contagion', 'Contagion', 'Black Tentacles', 'Fireball', 'Black Tentacles', \n",
    "           'Lightning bolt', 'Magic arrow', 'Contagion', 'Magic arrow', 'Magic arrow']\n",
    "\n",
    "gandalf_power=[]\n",
    "saruman_power=[]\n",
    "\n",
    "gandalf_results1=[]\n",
    "saruman_results1=[]"
   ]
  },
  {
   "cell_type": "code",
   "execution_count": 2,
   "metadata": {},
   "outputs": [
    {
     "name": "stdout",
     "output_type": "stream",
     "text": [
      "Power Gandalf= [50, 40, 40, 10, 50, 10, 40, 50, 10, 50] \n",
      " Power Saruman= [45, 45, 25, 50, 25, 40, 10, 45, 10, 10]\n"
     ]
    }
   ],
   "source": [
    "# Assign spell power lists to variables\n",
    "\n",
    "for gandalf_magic, saruman_magic in zip(gandalf, saruman):\n",
    "    gandalf_power.append(POWER[gandalf_magic])\n",
    "    saruman_power.append(POWER[saruman_magic])\n",
    "\n",
    "print(\"Power Gandalf=\", gandalf_power,\"\\n\",\"Power Saruman=\", saruman_power)"
   ]
  },
  {
   "cell_type": "code",
   "execution_count": 16,
   "metadata": {},
   "outputs": [
    {
     "name": "stdout",
     "output_type": "stream",
     "text": [
      "Rodadas: 10\n",
      "Ganfald ganha 1\n",
      "Saruman ganha 1\n",
      "Ganfald ganha 1\n",
      "Saruman ganha 1\n",
      "Ganfald ganha 1\n",
      "Saruman ganha 1\n",
      "Ganfald ganha 1\n",
      "Ganfald ganha 1\n",
      "Empate\n",
      "Ganfald ganha 1\n",
      "Fim do Jogo: Gandalf Ganhou\n"
     ]
    }
   ],
   "source": [
    "gandalf_ganhou = int(0)\n",
    "saruman_ganhou = int(0)\n",
    "print(\"Rodadas:\", len(saruman_power))\n",
    "\n",
    "# 2. A sorcerer wins if he succeeds in winning 3 spell clashes in a row.#\n",
    "# Execution of spell clashes#\n",
    "# check the winner#\n",
    "for i in range (1):\n",
    "    for i in range (len(saruman_power)):\n",
    "        if gandalf_power[i] > saruman_power[i]:\n",
    "            gandalf_ganhou+=1\n",
    "            print(\"Ganfald ganha 1\")\n",
    "        elif saruman_power[i] > gandalf_power[i]:\n",
    "            saruman_ganhou+=1\n",
    "            print(\"Saruman ganha 1\")\n",
    "        else:\n",
    "            print(\"Empate\")\n",
    "    if gandalf_ganhou > 3:\n",
    "        print(\"Fim do Jogo: Gandalf Ganhou\")\n",
    "    elif saruman_ganhou > 3:\n",
    "        print(\"Fim do Jogo: Saruman Ganhou\")\n",
    "    else:\n",
    "        print(\"Fim do Jogo: ninguém ganhou\")\n"
   ]
  },
  {
   "cell_type": "code",
   "execution_count": 6,
   "metadata": {},
   "outputs": [
    {
     "name": "stdout",
     "output_type": "stream",
     "text": [
      "Desvio Padrão Saruman =  15.56\n",
      "Desvio Padrão Gandalf =  17.80\n"
     ]
    }
   ],
   "source": [
    "# 4. Standard deviation of each of the spell lists.\n",
    "\n",
    "\n",
    "#COM MATH#\n",
    "\n",
    "import math\n",
    "\n",
    "##Variaveis##\n",
    "\n",
    "soma_saruman=int(0)\n",
    "\n",
    "##Soma##\n",
    "for i in saruman_power:\n",
    "    soma_saruman+=i\n",
    "\n",
    "   \n",
    "## Média ##\n",
    "\n",
    "media_saruman = soma_saruman/len(saruman_power)\n",
    "\n",
    "\n",
    "##Variancia##\n",
    "variancia_calc = 0\n",
    "for i in saruman_power:\n",
    "    variancia_calc += (((i) - media_saruman)**2)\n",
    "    \n",
    "\n",
    "##Desvio Padrão##\n",
    "\n",
    "desvio = math.sqrt(variancia_calc/len(saruman_power))\n",
    "print ('Desvio Padrão Saruman = ', \"%.2f\" %(desvio))\n",
    "\n",
    "#COM STATISTICS#\n",
    "\n",
    "import statistics\n",
    "print( \"Desvio Padrão Gandalf = \", \"%.2f\" %(statistics.stdev(gandalf_power)))"
   ]
  },
  {
   "cell_type": "code",
   "execution_count": null,
   "metadata": {},
   "outputs": [],
   "source": []
  }
 ],
 "metadata": {
  "kernelspec": {
   "display_name": "Python 3",
   "language": "python",
   "name": "python3"
  },
  "language_info": {
   "codemirror_mode": {
    "name": "ipython",
    "version": 3
   },
   "file_extension": ".py",
   "mimetype": "text/x-python",
   "name": "python",
   "nbconvert_exporter": "python",
   "pygments_lexer": "ipython3",
   "version": "3.7.6"
  }
 },
 "nbformat": 4,
 "nbformat_minor": 2
}
