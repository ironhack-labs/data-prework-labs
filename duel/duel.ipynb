{
 "cells": [
  {
   "cell_type": "markdown",
   "metadata": {},
   "source": [
    "# Duel of sorcerers\n",
    "You are witnessing an epic battle between two powerful sorcerers: Gandalf and Saruman. Each sorcerer has 10 spells of variable power in their mind and they are going to throw them one after the other. The winner of the duel will be the one who wins more of those clashes between spells. Spells are represented as a list of 10 integers whose value equals the power of the spell.\n",
    "```\n",
    "gandalf = [10, 11, 13, 30, 22, 11, 10, 33, 22, 22]\n",
    "saruman = [23, 66, 12, 43, 12, 10, 44, 23, 12, 17]\n",
    "```\n",
    "For example:\n",
    "1. The first clash is won by Saruman: 10 against 23, wins 23\n",
    "2. The second clash wins Saruman: 11 against 66, wins 66\n",
    "3. etc.\n",
    "\n",
    "\n",
    "You will create two variables, one for each sorcerer, where the sum of clashes won will be stored. Depending on which variable is greater at the end of the duel, you will show one of the following three results on the screen:\n",
    "* Gandalf wins\n",
    "* Saruman wins\n",
    "* Tie\n",
    "\n",
    "<img src=\"images/content_lightning_bolt_big.jpg\" width=\"400\">"
   ]
  },
  {
   "cell_type": "markdown",
   "metadata": {},
   "source": [
    "## Solution"
   ]
  },
  {
   "cell_type": "code",
   "execution_count": 1,
   "metadata": {},
   "outputs": [],
   "source": [
    "# Assign spell power lists to variables\n",
    "\n",
    "gandalf = [10, 11, 13, 30, 22, 11, 10, 33, 22, 22]\n",
    "saruman = [23, 66, 12, 43, 12, 10, 44, 23, 12, 17]"
   ]
  },
  {
   "cell_type": "code",
   "execution_count": 2,
   "metadata": {},
   "outputs": [],
   "source": [
    "# Assign 0 to each variable that stores the victories\n",
    "g_score = 0\n",
    "s_score = 0"
   ]
  },
  {
   "cell_type": "code",
   "execution_count": 3,
   "metadata": {},
   "outputs": [],
   "source": [
    "# Execution of spell clashes\n",
    "if len(gandalf) == len(saruman):\n",
    "    for x in range(len(gandalf)):\n",
    "        if (saruman[x] > gandalf[x]):\n",
    "            s_score += 1\n",
    "        elif (saruman[x] < gandalf[x]):\n",
    "            g_score += 1\n",
    "        else:\n",
    "            g_score += 0\n",
    "            s_score += 0\n"
   ]
  },
  {
   "cell_type": "code",
   "execution_count": 4,
   "metadata": {},
   "outputs": [
    {
     "name": "stdout",
     "output_type": "stream",
     "text": [
      "Gandalf wins\n"
     ]
    }
   ],
   "source": [
    "# We check who has won, do not forget the possibility of a draw.\n",
    "# Print the result based on the winner.\n",
    "if g_score > s_score:\n",
    "    print('Gandalf wins')\n",
    "elif s_score > g_score:\n",
    "    print('Saruman wins')\n",
    "else:\n",
    "    print('Tie')\n"
   ]
  },
  {
   "cell_type": "markdown",
   "metadata": {},
   "source": [
    "## Goals\n",
    "\n",
    "1. Treatment of lists\n",
    "2. Use of **for loop**\n",
    "3. Use of conditional **if-elif-else**\n",
    "4. Use of the functions **range(), len()**\n",
    "5. Print"
   ]
  },
  {
   "cell_type": "markdown",
   "metadata": {},
   "source": [
    "## Bonus\n",
    "\n",
    "1. Spells now have a name and there is a dictionary that relates that name to a power.\n",
    "2. A sorcerer wins if he succeeds in winning 3 spell clashes in a row.\n",
    "3. Average of each of the spell lists.\n",
    "4. Standard deviation of each of the spell lists.\n",
    "\n",
    "```\n",
    "POWER = {\n",
    "    'Fireball': 50, \n",
    "    'Lightning bolt': 40, \n",
    "    'Magic arrow': 10, \n",
    "    'Black Tentacles': 25, \n",
    "    'Contagion': 45\n",
    "}\n",
    "\n",
    "gandalf = ['Fireball', 'Lightning bolt', 'Lightning bolt', 'Magic arrow', 'Fireball', \n",
    "           'Magic arrow', 'Lightning bolt', 'Fireball', 'Fireball', 'Fireball']\n",
    "saruman = ['Contagion', 'Contagion', 'Black Tentacles', 'Fireball', 'Black Tentacles', \n",
    "           'Lightning bolt', 'Magic arrow', 'Contagion', 'Magic arrow', 'Magic arrow']\n",
    "```\n",
    "\n",
    "Good luck!"
   ]
  },
  {
   "cell_type": "code",
   "execution_count": 5,
   "metadata": {},
   "outputs": [],
   "source": [
    "# 1. Spells now have a name and there is a dictionary that relates that name to a power.\n",
    "# variables\n",
    "\n",
    "POWER = {\n",
    "    'Fireball': 50, \n",
    "    'Lightning bolt': 40, \n",
    "    'Magic arrow': 10, \n",
    "    'Black Tentacles': 25, \n",
    "    'Contagion': 45\n",
    "}\n",
    "\n",
    "gandalf = ['Fireball', 'Lightning bolt', 'Lightning bolt', 'Magic arrow', 'Fireball', \n",
    "           'Magic arrow', 'Lightning bolt', 'Fireball', 'Magic arrow', 'Fireball']\n",
    "saruman = ['Contagion', 'Contagion', 'Black Tentacles', 'Fireball', 'Black Tentacles', \n",
    "           'Lightning bolt', 'Magic arrow', 'Contagion', 'Magic arrow', 'Magic arrow']"
   ]
  },
  {
   "cell_type": "code",
   "execution_count": 6,
   "metadata": {},
   "outputs": [],
   "source": [
    "# Assign spell power lists to variables\n",
    "'''Replacing each element in the list with the values of the POWER dict'''\n",
    "gandalf[:]=[POWER.get(y,'') for y in gandalf]\n",
    "saruman[:]=[POWER.get(x,'') for x in saruman]\n",
    "\n",
    "g_score = 0\n",
    "s_score = 0\n"
   ]
  },
  {
   "cell_type": "code",
   "execution_count": 7,
   "metadata": {},
   "outputs": [
    {
     "name": "stdout",
     "output_type": "stream",
     "text": [
      "Gandalf wins\n"
     ]
    }
   ],
   "source": [
    "# 2. A sorcerer wins if he succeeds in winning 3 spell clashes in a row.\n",
    "\n",
    "# Execution of spell clashes\n",
    "\n",
    "if len(gandalf) == len(saruman):\n",
    "    for x in range(len(gandalf)):\n",
    "        if (saruman[x] > gandalf[x]):\n",
    "            s_score += 1\n",
    "        if (saruman[x] < gandalf[x]):\n",
    "            g_score += 1\n",
    "        else:\n",
    "            g_score += 0\n",
    "            s_score += 0\n",
    "\n",
    "\n",
    "# check for 3 wins in a row\n",
    "\n",
    "gandalf_wins_3_row = 0\n",
    "saruman_wins_3_row = 0\n",
    "\n",
    "for i in range(len(gandalf)-2):\n",
    "    if gandalf[i] > saruman[i] and gandalf[i+1] > saruman[i+1] and gandalf[i+2] > saruman[i+2]:\n",
    "        gandalf_wins_3_row += 1\n",
    "    if gandalf[i] < saruman[i] and gandalf[i+1] < saruman[i+1] and gandalf[i+2] < saruman[i+2]:\n",
    "        saruman_wins_3_row +=1\n",
    "    if (saruman_wins_3_row == 1) or (gandalf_wins_3_row == 1):\n",
    "        break\n",
    "\n",
    "# check the winner\n",
    "\n",
    "if gandalf_wins_3_row == 1:\n",
    "    print('Gandalfs wins')\n",
    "if saruman_wins_3_row == 1:\n",
    "    print('Saruman wins')\n",
    "\n",
    "else:\n",
    "    if g_score > s_score:\n",
    "        print('Gandalf wins')\n",
    "    elif s_score > g_score:\n",
    "        print('Saruman wins')\n",
    "    else:\n",
    "        print('Tie')\n"
   ]
  },
  {
   "cell_type": "code",
   "execution_count": 8,
   "metadata": {},
   "outputs": [
    {
     "name": "stdout",
     "output_type": "stream",
     "text": [
      "The average for Gandalf is: 35.0\n",
      "The average for Saruman is: 30.5\n"
     ]
    }
   ],
   "source": [
    "# 3. Average of each of the spell lists.\n",
    "mean_gandalf = sum(gandalf)/len(gandalf)\n",
    "mean_saruman = sum(saruman)/len(saruman)\n",
    "\n",
    "print('The average for Gandalf is:', mean_gandalf)\n",
    "print('The average for Saruman is:', mean_saruman)\n"
   ]
  },
  {
   "cell_type": "code",
   "execution_count": 9,
   "metadata": {},
   "outputs": [
    {
     "name": "stdout",
     "output_type": "stream",
     "text": [
      "The std of the Gandalf spell list is: 16.88\n",
      "The std of the Saruman spell list is: 15.56\n"
     ]
    }
   ],
   "source": [
    "# 4. Standard deviation of each of the spell lists.\n",
    "'''Calculating the variance and std of the Gandalf spell list'''\n",
    "var_gandalf = 0\n",
    "\n",
    "for i in gandalf:\n",
    "    num = ((i - mean_gandalf) ** 2) / (len(gandalf)) #assuming that the list is the entire population\n",
    "    var_gandalf += num\n",
    "\n",
    "std_gandalf = var_gandalf ** (1/2)\n",
    "print('The std of the Gandalf spell list is: %.2f' % std_gandalf)\n",
    "\n",
    "'''Calculating the variance and std of the Saruman spell list''' \n",
    "var_saruman = 0\n",
    "\n",
    "for i in saruman:\n",
    "    num = ((i - mean_saruman) ** 2) / (len(saruman)) #assuming that the list is the entire population\n",
    "    var_saruman += num\n",
    "\n",
    "std_saruman = var_saruman ** (1/2)\n",
    "print('The std of the Saruman spell list is: %.2f' % std_saruman)\n"
   ]
  },
  {
   "cell_type": "code",
   "execution_count": null,
   "metadata": {},
   "outputs": [],
   "source": []
  }
 ],
 "metadata": {
  "kernelspec": {
   "display_name": "Python 3",
   "language": "python",
   "name": "python3"
  },
  "language_info": {
   "codemirror_mode": {
    "name": "ipython",
    "version": 3
   },
   "file_extension": ".py",
   "mimetype": "text/x-python",
   "name": "python",
   "nbconvert_exporter": "python",
   "pygments_lexer": "ipython3",
   "version": "3.7.3"
  }
 },
 "nbformat": 4,
 "nbformat_minor": 2
}
