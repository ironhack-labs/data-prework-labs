{
 "cells": [
  {
   "cell_type": "markdown",
   "metadata": {},
   "source": [
    "# Duel of sorcerers\n",
    "You are witnessing an epic battle between two powerful sorcerers: Gandalf and Saruman. Each sorcerer has 10 spells of variable power in their mind and they are going to throw them one after the other. The winner of the duel will be the one who wins more of those clashes between spells. Spells are represented as a list of 10 integers whose value equals the power of the spell.\n",
    "```\n",
    "gandalf = [10, 11, 13, 30, 22, 11, 10, 33, 22, 22]\n",
    "saruman = [23, 66, 12, 43, 12, 10, 44, 23, 12, 17]\n",
    "```\n",
    "For example:\n",
    "1. The first clash is won by Saruman: 10 against 23, wins 23\n",
    "2. The second clash wins Saruman: 11 against 66, wins 66\n",
    "3. etc.\n",
    "\n",
    "\n",
    "You will create two variables, one for each sorcerer, where the sum of clashes won will be stored. Depending on which variable is greater at the end of the duel, you will show one of the following three results on the screen:\n",
    "* Gandalf wins\n",
    "* Saruman wins\n",
    "* Tie\n",
    "\n",
    "<img src=\"images/content_lightning_bolt_big.jpg\" width=\"400\">"
   ]
  },
  {
   "cell_type": "markdown",
   "metadata": {},
   "source": [
    "## Solution"
   ]
  },
  {
   "cell_type": "code",
   "execution_count": 10,
   "metadata": {},
   "outputs": [],
   "source": [
    "# Assign spell power lists to variables\n",
    "\n",
    "gandalf = [10, 11, 13, 30, 22, 11, 10, 33, 22, 22]\n",
    "saruman = [23, 66, 12, 43, 12, 10, 44, 23, 12, 17]\n"
   ]
  },
  {
   "cell_type": "code",
   "execution_count": 22,
   "metadata": {},
   "outputs": [
    {
     "name": "stdout",
     "output_type": "stream",
     "text": [
      "[0, 0, 1, 0, 1, 1, 0, 1, 1, 1]\n",
      "[1, 1, 0, 1, 0, 0, 1, 0, 0, 0]\n",
      "Gandalf wins 6 clashes\n"
     ]
    }
   ],
   "source": [
    "# Assign 0 to each variable that stores the victories\n",
    "gandalf = [10, 11, 13, 30, 22, 11, 10, 33, 22, 22]\n",
    "saruman = [23, 66, 12, 43, 12, 10, 44, 23, 12, 17]\n",
    "\n",
    "# 1 for win, 0 for loss;\n",
    "win_g = []\n",
    "win_s = []\n",
    "for i,j in zip(gandalf, saruman):\n",
    "    if i > j:\n",
    "        win_g.append(1)\n",
    "        win_s.append(0)\n",
    "    elif i ==j:\n",
    "        win_g.append(0)\n",
    "        win_s.append(0)\n",
    "    elif i < j:\n",
    "        win_g.append(0)\n",
    "        win_s.append(1)\n",
    "print(win_g)\n",
    "print(win_s)\n",
    "    \n",
    "if sum(win_g) > sum(win_s):\n",
    "    print(\"Gandalf wins\", sum(win_g), \"clashes\")\n",
    "elif sum(win_g)< sum(win_s):\n",
    "    print(\"Saruman wins\", sum(win_s), \"clashes\")"
   ]
  },
  {
   "cell_type": "code",
   "execution_count": 17,
   "metadata": {},
   "outputs": [],
   "source": [
    "# Execution of spell clashes\n"
   ]
  },
  {
   "cell_type": "code",
   "execution_count": 18,
   "metadata": {},
   "outputs": [],
   "source": [
    "# We check who has won, do not forget the possibility of a draw.\n",
    "\n",
    "\n",
    "    \n",
    "# Print the result based on the winner.\n",
    "\n"
   ]
  },
  {
   "cell_type": "markdown",
   "metadata": {},
   "source": [
    "## Goals\n",
    "\n",
    "1. Treatment of lists\n",
    "2. Use of **for loop**\n",
    "3. Use of conditional **if-elif-else**\n",
    "4. Use of the functions **range(), len()**\n",
    "5. Print"
   ]
  },
  {
   "cell_type": "markdown",
   "metadata": {},
   "source": [
    "## Bonus\n",
    "\n",
    "1. Spells now have a name and there is a dictionary that relates that name to a power.\n",
    "2. A sorcerer wins if he succeeds in winning 3 spell clashes in a row.\n",
    "3. Average of each of the spell lists.\n",
    "4. Standard deviation of each of the spell lists.\n",
    "\n",
    "```\n",
    "POWER = {\n",
    "    'Fireball': 50, \n",
    "    'Lightning bolt': 40, \n",
    "    'Magic arrow': 10, \n",
    "    'Black Tentacles': 25, \n",
    "    'Contagion': 45\n",
    "}\n",
    "\n",
    "gandalf = ['Fireball', 'Lightning bolt', 'Lightning bolt', 'Magic arrow', 'Fireball', \n",
    "           'Magic arrow', 'Lightning bolt', 'Fireball', 'Fireball', 'Fireball']\n",
    "saruman = ['Contagion', 'Contagion', 'Black Tentacles', 'Fireball', 'Black Tentacles', \n",
    "           'Lightning bolt', 'Magic arrow', 'Contagion', 'Magic arrow', 'Magic arrow']\n",
    "```\n",
    "\n",
    "Good luck!"
   ]
  },
  {
   "cell_type": "code",
   "execution_count": 10,
   "metadata": {},
   "outputs": [
    {
     "name": "stdout",
     "output_type": "stream",
     "text": [
      "[('Fireball', 50), ('Lightning bolt', 40), ('Magic arrow', 10), ('Black Tentacles', 25), ('Contagion', 45)]\n",
      "[50, 40, 40, 10, 50, 10, 40, 50, 10, 50]\n",
      "[45, 45, 25, 50, 25, 40, 10, 45, 10, 10]\n"
     ]
    }
   ],
   "source": [
    "# 1. Spells now have a name and there is a dictionary that relates that name to a power.\n",
    "# variables\n",
    "\n",
    "POWER = {\n",
    "    'Fireball': 50, \n",
    "    'Lightning bolt': 40, \n",
    "    'Magic arrow': 10, \n",
    "    'Black Tentacles': 25, \n",
    "    'Contagion': 45\n",
    "}\n",
    "\n",
    "gandalf = ['Fireball', 'Lightning bolt', 'Lightning bolt', 'Magic arrow', 'Fireball', \n",
    "           'Magic arrow', 'Lightning bolt', 'Fireball', 'Magic arrow', 'Fireball']\n",
    "saruman = ['Contagion', 'Contagion', 'Black Tentacles', 'Fireball', 'Black Tentacles', \n",
    "           'Lightning bolt', 'Magic arrow', 'Contagion', 'Magic arrow', 'Magic arrow']\n",
    "\n",
    "power=[(i,j) for i,j in POWER.items()]\n",
    "print(power)\n",
    "g_score = []\n",
    "for z in gandalf:\n",
    "    for i,j in power:\n",
    "        if z == i:\n",
    "            g_score.append(j)\n",
    "print(g_score)\n",
    "        \n",
    "s_score = []\n",
    "for z in saruman:\n",
    "    for i,j in power:\n",
    "        if z ==i:\n",
    "            s_score.append(j)\n",
    "print(s_score)\n"
   ]
  },
  {
   "cell_type": "code",
   "execution_count": 12,
   "metadata": {},
   "outputs": [],
   "source": [
    "# Assign spell power lists to variables\n",
    "\n"
   ]
  },
  {
   "cell_type": "code",
   "execution_count": 11,
   "metadata": {},
   "outputs": [
    {
     "name": "stdout",
     "output_type": "stream",
     "text": [
      "[1, 0, 1, 0, 1, 0, 1, 1, 0, 1]\n",
      "[0, 1, 0, 1, 0, 1, 0, 0, 0, 0]\n",
      "[0, 2, 4, 6, 7, 9]\n",
      "Gandalf looses.\n",
      "Saruman looses.\n",
      "nobody won\n"
     ]
    }
   ],
   "source": [
    "# 2. A sorcerer wins if he succeeds in winning 3 spell clashes in a row.\n",
    "\n",
    "\n",
    "# Execution of spell clashes\n",
    "wins_g =[]\n",
    "wins_s=[]\n",
    "for g,s in zip(g_score, s_score):\n",
    "    if g>s:\n",
    "        wins_g.append(1)\n",
    "        wins_s.append(0)\n",
    "    elif g<s:\n",
    "        wins_s.append(1)\n",
    "        wins_g.append(0)\n",
    "    elif g == s:\n",
    "        wins_s.append(0)\n",
    "        wins_g.append(0)\n",
    "print(wins_g)\n",
    "print(wins_s)\n",
    "   \n",
    "los= []\n",
    "los=[q for q,p in enumerate(wins_g) if p ==1]\n",
    "print(los)\n",
    "\n",
    "# check for 3 wins in a row\n",
    "\n",
    "if wins_g[0]+wins_g[1]+wins_g[2] == 2 | wins_g[1]+wins_g[2]+wins_g[3] == 2 | wins_g[2]+wins_g[3]+wins_g[4] == 3 |wins_g[3]+wins_g[4]+wins_g[5] == 3 | wins_g[4]+wins_g[5]+wins_g[6] == 3 | wins_g[5]+wins_g[6]+wins_g[7] == 3 | wins_g[6]+wins_g[7]+wins_g[8] == 3 | wins_g[7]+wins_g[8]+wins_g[9] == 3:\n",
    "        print(\"Gandalf wins\")\n",
    "else:\n",
    "    print(\"Gandalf looses.\")\n",
    "    \n",
    "if wins_s[0]+wins_s[1]+wins_s[2] == 2 | wins_s[1]+wins_s[2]+wins_s[3] == 2 | wins_s[2]+wins_s[3]+wins_s[4] == 3 |wins_s[3]+wins_s[4]+wins_s[5] == 3 | wins_s[4]+wins_s[5]+wins_s[6] == 3 | wins_s[5]+wins_s[6]+wins_s[7] == 3 | wins_s[6]+wins_s[7]+wins_s[8] == 3 | wins_s[7]+wins_s[8]+wins_s[9] == 3:\n",
    "        print(\"Saruman wins\")\n",
    "else:\n",
    "    print(\"Saruman looses.\")  \n",
    "\n",
    "\n",
    "\n",
    "# check the winner\n",
    "print(\"nobody won\")\n"
   ]
  },
  {
   "cell_type": "code",
   "execution_count": 17,
   "metadata": {},
   "outputs": [
    {
     "name": "stdout",
     "output_type": "stream",
     "text": [
      "The Average score of Gandalf is: 30.5\n",
      "The Average score of Saruman is: 35.0\n"
     ]
    }
   ],
   "source": [
    "# 3. Average of each of the spell lists.\n",
    "\n",
    "print(\"The Average score of Gandalf is:\" ,sum(s_score)/len(s_score))\n",
    "print(\"The Average score of Saruman is:\", sum(g_score)/len(g_score))\n",
    "\n"
   ]
  },
  {
   "cell_type": "code",
   "execution_count": 20,
   "metadata": {},
   "outputs": [
    {
     "name": "stdout",
     "output_type": "stream",
     "text": [
      "The standard deviation of Gandalf is:  17.795130420052185\n",
      "The standard deviation of Saruman is:  16.40629960309962\n"
     ]
    }
   ],
   "source": [
    "# 4. Standard deviation of each of the spell lists.\n",
    "import statistics\n",
    "print(\"The standard deviation of Gandalf is: \", statistics.stdev(g_score))\n",
    "print(\"The standard deviation of Saruman is: \", statistics.stdev(s_score))\n"
   ]
  },
  {
   "cell_type": "code",
   "execution_count": null,
   "metadata": {},
   "outputs": [],
   "source": []
  }
 ],
 "metadata": {
  "kernelspec": {
   "display_name": "Python 3",
   "language": "python",
   "name": "python3"
  },
  "language_info": {
   "codemirror_mode": {
    "name": "ipython",
    "version": 3
   },
   "file_extension": ".py",
   "mimetype": "text/x-python",
   "name": "python",
   "nbconvert_exporter": "python",
   "pygments_lexer": "ipython3",
   "version": "3.7.3"
  }
 },
 "nbformat": 4,
 "nbformat_minor": 2
}
