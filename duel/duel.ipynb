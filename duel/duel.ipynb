{
 "cells": [
  {
   "cell_type": "markdown",
   "metadata": {},
   "source": [
    "# Duel of sorcerers\n",
    "You are witnessing an epic battle between two powerful sorcerers: Gandalf and Saruman. Each sorcerer has 10 spells of variable power in their mind and they are going to throw them one after the other. The winner of the duel will be the one who wins more of those clashes between spells. Spells are represented as a list of 10 integers whose value equals the power of the spell.\n",
    "```\n",
    "gandalf = [10, 11, 13, 30, 22, 11, 10, 33, 22, 22]\n",
    "saruman = [23, 66, 12, 43, 12, 10, 44, 23, 12, 17]\n",
    "```\n",
    "For example:\n",
    "1. The first clash is won by Saruman: 10 against 23, wins 23\n",
    "2. The second clash wins Saruman: 11 against 66, wins 66\n",
    "3. etc.\n",
    "\n",
    "\n",
    "You will create two variables, one for each sorcerer, where the sum of clashes won will be stored. Depending on which variable is greater at the end of the duel, you will show one of the following three results on the screen:\n",
    "* Gandalf wins\n",
    "* Saruman wins\n",
    "* Tie\n",
    "\n",
    "<img src=\"images/content_lightning_bolt_big.jpg\" width=\"400\">"
   ]
  },
  {
   "cell_type": "markdown",
   "metadata": {},
   "source": [
    "## Solution"
   ]
  },
  {
   "cell_type": "code",
   "execution_count": 30,
   "metadata": {},
   "outputs": [],
   "source": [
    "# Assign spell power lists to variables\n",
    "\n",
    "gandalf = [10, 11, 13, 30, 22, 11, 10, 33, 22, 22]\n",
    "saruman = [23, 66, 12, 43, 12, 10, 44, 23, 12, 17]"
   ]
  },
  {
   "cell_type": "code",
   "execution_count": 31,
   "metadata": {},
   "outputs": [],
   "source": [
    "# Assign 0 to each variable that stores the victories\n",
    "gandalfWinner = 0\n",
    "sarumanWinner = 0"
   ]
  },
  {
   "cell_type": "code",
   "execution_count": 32,
   "metadata": {},
   "outputs": [],
   "source": [
    "# Execution of spell clashes\n",
    "import numpy as np\n",
    "spellClashes = np.subtract(gandalf,saruman)\n",
    "\n",
    "for el in spellClashes:\n",
    "    if el>0:\n",
    "        gandalfWinner += 1\n",
    "    elif el<0:\n",
    "        sarumanWinner += 1\n",
    "    else: \n",
    "        continue"
   ]
  },
  {
   "cell_type": "code",
   "execution_count": 33,
   "metadata": {},
   "outputs": [
    {
     "name": "stdout",
     "output_type": "stream",
     "text": [
      "Gandalf wins\n"
     ]
    }
   ],
   "source": [
    "# We check who has won, do not forget the possibility of a draw.\n",
    "# Print the result based on the winner.\n",
    "if gandalfWinner > sarumanWinner:\n",
    "    print('Gandalf wins')\n",
    "elif gandalfWinner < sarumanWinner:\n",
    "    print('Saruman wins')\n",
    "else:\n",
    "    print('Tie')"
   ]
  },
  {
   "cell_type": "markdown",
   "metadata": {},
   "source": [
    "## Goals\n",
    "\n",
    "1. Treatment of lists\n",
    "2. Use of **for loop**\n",
    "3. Use of conditional **if-elif-else**\n",
    "4. Use of the functions **range(), len()**\n",
    "5. Print"
   ]
  },
  {
   "cell_type": "markdown",
   "metadata": {},
   "source": [
    "## Bonus\n",
    "\n",
    "1. Spells now have a name and there is a dictionary that relates that name to a power.\n",
    "2. A sorcerer wins if he succeeds in winning 3 spell clashes in a row.\n",
    "3. Average of each of the spell lists.\n",
    "4. Standard deviation of each of the spell lists.\n",
    "\n",
    "```\n",
    "POWER = {\n",
    "    'Fireball': 50, \n",
    "    'Lightning bolt': 40, \n",
    "    'Magic arrow': 10, \n",
    "    'Black Tentacles': 25, \n",
    "    'Contagion': 45\n",
    "}\n",
    "\n",
    "gandalf = ['Fireball', 'Lightning bolt', 'Lightning bolt', 'Magic arrow', 'Fireball', \n",
    "           'Magic arrow', 'Lightning bolt', 'Fireball', 'Fireball', 'Fireball']\n",
    "saruman = ['Contagion', 'Contagion', 'Black Tentacles', 'Fireball', 'Black Tentacles', \n",
    "           'Lightning bolt', 'Magic arrow', 'Contagion', 'Magic arrow', 'Magic arrow']\n",
    "```\n",
    "\n",
    "Good luck!"
   ]
  },
  {
   "cell_type": "code",
   "execution_count": 72,
   "metadata": {},
   "outputs": [],
   "source": [
    "# 1. Spells now have a name and there is a dictionary that relates that name to a power.\n",
    "# variables\n",
    "\n",
    "POWER = {\n",
    "    'Fireball': 50, \n",
    "    'Lightning bolt': 40, \n",
    "    'Magic arrow': 10, \n",
    "    'Black Tentacles': 25, \n",
    "    'Contagion': 45\n",
    "}\n",
    "\n",
    "gandalf = ['Fireball', 'Lightning bolt', 'Lightning bolt', 'Magic arrow', 'Fireball', \n",
    "           'Magic arrow', 'Lightning bolt', 'Fireball', 'Magic arrow', 'Fireball']\n",
    "saruman = ['Contagion', 'Contagion', 'Black Tentacles', 'Fireball', 'Black Tentacles', \n",
    "           'Lightning bolt', 'Magic arrow', 'Contagion', 'Magic arrow', 'Magic arrow']"
   ]
  },
  {
   "cell_type": "code",
   "execution_count": 73,
   "metadata": {},
   "outputs": [],
   "source": [
    "# Assign spell power lists to variables\n",
    "gandalfP = []\n",
    "sarumanP = []\n",
    "for el in gandalf:\n",
    "    gandalfP.append(POWER[el])\n",
    "for el in saruman:\n",
    "    sarumanP.append(POWER[el])"
   ]
  },
  {
   "cell_type": "code",
   "execution_count": 74,
   "metadata": {},
   "outputs": [
    {
     "name": "stdout",
     "output_type": "stream",
     "text": [
      "Tie\n"
     ]
    }
   ],
   "source": [
    "# 2. A sorcerer wins if he succeeds in winning 3 spell clashes in a row.\n",
    "# Execution of spell clashes\n",
    "spellClashes2 = np.subtract(gandalfP,sarumanP)\n",
    "# print(spellClashes2)\n",
    "\n",
    "# create lists with outcome of each clash for both sorcerers\n",
    "gandalfWins = []\n",
    "sarumanWins = []\n",
    "i = 0 #for gandalf's wins\n",
    "j = 0 #for saruman's wins\n",
    "\n",
    "for el in spellClashes2:\n",
    "    if el>0:   #gandalf won\n",
    "        i+=1\n",
    "        j=0\n",
    "    elif el<0: #saruman won\n",
    "        i=0\n",
    "        j+=1\n",
    "    else:      #tie\n",
    "        i=0\n",
    "        j=0\n",
    "    gandalfWins.append(i)\n",
    "    sarumanWins.append(j)\n",
    "# print(gandalfWins)\n",
    "# print(sarumanWins)\n",
    "\n",
    "# check for 3 wins in a row and who got them first\n",
    "requiredNumberOfWins = 3\n",
    "try:\n",
    "    indexGandalf = gandalfWins.index(requiredNumberOfWins)\n",
    "except:\n",
    "    indexGandalf = 0\n",
    "\n",
    "try:\n",
    "    indexSaruman = sarumanWins.index(requiredNumberOfWins)\n",
    "except:\n",
    "    indexSaruman = 0    \n",
    "# print(indexGandalf)\n",
    "# print(indexSaruman)\n",
    "\n",
    "# check the winner - assumes requiredNurmberOfWins > 0\n",
    "if indexGandalf==indexSaruman:\n",
    "    print('Tie')\n",
    "elif indexGandalf>0 and indexSaruman==0:\n",
    "    print('Gandalf wins')\n",
    "elif indexGandalf==0 and indexSaruman>0:\n",
    "    print('Saruman wins')\n",
    "elif indexGandalf>0 and indexSaruman>0 and indexGandalf<indexSaruman:\n",
    "    print('Gandalf wins')\n",
    "elif indexGandalf>0 and indexSaruman>0 and indexGandalf>indexSaruman:\n",
    "    print('Saruman wins')"
   ]
  },
  {
   "cell_type": "code",
   "execution_count": 75,
   "metadata": {},
   "outputs": [
    {
     "name": "stdout",
     "output_type": "stream",
     "text": [
      "Gandalf average= 35\n",
      "Saruman average= 30.5\n"
     ]
    }
   ],
   "source": [
    "# 3. Average of each of the spell lists.\n",
    "import statistics as st\n",
    "print('Gandalf average=', st.mean(gandalfP))\n",
    "print('Saruman average=', st.mean(sarumanP))\n"
   ]
  },
  {
   "cell_type": "code",
   "execution_count": 77,
   "metadata": {},
   "outputs": [
    {
     "name": "stdout",
     "output_type": "stream",
     "text": [
      "Gandalf stdev=17.80\n",
      "Saruman stdev=16.41\n"
     ]
    }
   ],
   "source": [
    "# 4. Standard deviation of each of the spell lists.\n",
    "print('Gandalf stdev=%.2f' %st.stdev(gandalfP))\n",
    "print('Saruman stdev=%.2f' %st.stdev(sarumanP))"
   ]
  },
  {
   "cell_type": "code",
   "execution_count": null,
   "metadata": {},
   "outputs": [],
   "source": []
  }
 ],
 "metadata": {
  "kernelspec": {
   "display_name": "Python 3",
   "language": "python",
   "name": "python3"
  },
  "language_info": {
   "codemirror_mode": {
    "name": "ipython",
    "version": 3
   },
   "file_extension": ".py",
   "mimetype": "text/x-python",
   "name": "python",
   "nbconvert_exporter": "python",
   "pygments_lexer": "ipython3",
   "version": "3.7.3"
  }
 },
 "nbformat": 4,
 "nbformat_minor": 2
}
