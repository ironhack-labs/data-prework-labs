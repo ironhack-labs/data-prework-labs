{
 "cells": [
  {
   "cell_type": "markdown",
   "metadata": {},
   "source": [
    "# Snail and well\n",
    "\n",
    "A snail falls at the bottom of a 125 cm well. Each day the snail rises 30 cm. But at night, while sleeping, slides 20 cm because the walls are wet. How many days does it take to escape from the well?\n",
    "\n",
    "TIP: http://puzzles.nigelcoldwell.co.uk/sixtytwo.htm"
   ]
  },
  {
   "cell_type": "markdown",
   "metadata": {},
   "source": [
    "## Solución"
   ]
  },
  {
   "cell_type": "code",
   "execution_count": 9,
   "metadata": {},
   "outputs": [
    {
     "name": "stdout",
     "output_type": "stream",
     "text": [
      "Days = 11\n"
     ]
    }
   ],
   "source": [
    "# Assign problem data to variables with representative names\n",
    "# well height, daily advance, night retreat, accumulated distance\n",
    "\n",
    "well_height = 125\n",
    "daily_advance = 30\n",
    "night_retreat = 20\n",
    "accumulated_distance = 0\n",
    "\n",
    "# Assign 0 to the variable that represents the solution\n",
    "\n",
    "days = 0\n",
    "\n",
    "# Write the code that solves the problem\n",
    "\n",
    "while accumulated_distance <= well_height:\n",
    "    accumulated_distance += daily_advance\n",
    "    days += 1\n",
    "    if accumulated_distance <= well_height:\n",
    "        accumulated_distance -= night_retreat\n",
    "    else:\n",
    "        \n",
    "# Print the result with print('Days =', days)\n",
    "\n",
    "        print('Days =', days)"
   ]
  },
  {
   "cell_type": "markdown",
   "metadata": {},
   "source": [
    "## Goals\n",
    "\n",
    "1. Treatment of variables\n",
    "2. Use of loop **while**\n",
    "3. Use of conditional **if-else**\n",
    "4. Print in console"
   ]
  },
  {
   "cell_type": "markdown",
   "metadata": {},
   "source": [
    "## Bonus\n",
    "The distance traveled by the snail is now defined by a list.\n",
    "```\n",
    "advance_cm = [30, 21, 33, 77, 44, 45, 23, 45, 12, 34, 55]\n",
    "```\n",
    "How long does it take to raise the well?\n",
    "\n",
    "What is its maximum displacement in one day? And its minimum?\n",
    "\n",
    "What is its average speed during the day?\n",
    "\n",
    "What is the standard deviation of its displacement during the day?"
   ]
  },
  {
   "cell_type": "code",
   "execution_count": 5,
   "metadata": {},
   "outputs": [
    {
     "name": "stdout",
     "output_type": "stream",
     "text": [
      "Days = 5\n",
      "Maximum daily displacement : 77 cm\n",
      "Minimum daily displacement : 21 cm\n",
      "Average daily progress : 41.0 cm\n",
      "Standart deviation on displacement : 19.44222209522358 cm\n"
     ]
    }
   ],
   "source": [
    "import statistics\n",
    "import numpy as np\n",
    "\n",
    "# Assign problem data to variables with representative names\n",
    "# well height, daily advance, night retreat, accumulated distance\n",
    "\n",
    "well_height = 125\n",
    "advance_cm = [30, 21, 33, 77, 44, 45, 23, 45, 12, 34, 55]\n",
    "night_retreat = 20\n",
    "accumulated_distance = 0\n",
    "\n",
    "# Assign 0 to the variable that represents the solution\n",
    "\n",
    "days = 0\n",
    "\n",
    "# Write the code that solves the problem\n",
    "\n",
    "while accumulated_distance < well_height:\n",
    "    for i in advance_cm:\n",
    "        accumulated_distance += i\n",
    "        days += 1\n",
    "        if accumulated_distance < well_height:\n",
    "            accumulated_distance -= night_retreat\n",
    "        else:\n",
    "            \n",
    "# Print the result with print('Days =', days)\n",
    "\n",
    "            print('Days =', days)\n",
    "            break\n",
    "\n",
    "# What is its maximum displacement in a day? And its minimum?\n",
    "\n",
    "print(\"Maximum daily displacement :\", max(advance_cm[:5]), \"cm\")\n",
    "print(\"Minimum daily displacement :\", min(advance_cm[:5]), \"cm\")\n",
    "\n",
    "# What is its average progress?\n",
    "\n",
    "print(\"Average daily progress :\", sum(advance_cm[:5])/len(advance_cm[:5]), \"cm\")\n",
    "\n",
    "# What is the standard deviation of your displacement during the day?\n",
    "\n",
    "print(\"Standart deviation on displacement :\", np.std(advance_cm[:5]), \"cm\")"
   ]
  },
  {
   "cell_type": "code",
   "execution_count": null,
   "metadata": {},
   "outputs": [],
   "source": []
  },
  {
   "cell_type": "code",
   "execution_count": null,
   "metadata": {},
   "outputs": [],
   "source": []
  }
 ],
 "metadata": {
  "kernelspec": {
   "display_name": "Python 3",
   "language": "python",
   "name": "python3"
  },
  "language_info": {
   "codemirror_mode": {
    "name": "ipython",
    "version": 3
   },
   "file_extension": ".py",
   "mimetype": "text/x-python",
   "name": "python",
   "nbconvert_exporter": "python",
   "pygments_lexer": "ipython3",
   "version": "3.7.6"
  }
 },
 "nbformat": 4,
 "nbformat_minor": 2
}
