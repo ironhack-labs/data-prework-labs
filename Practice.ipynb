{
 "cells": [
  {
   "cell_type": "code",
   "execution_count": 1,
   "metadata": {},
   "outputs": [
    {
     "name": "stdout",
     "output_type": "stream",
     "text": [
      "Number is less than 10\n"
     ]
    }
   ],
   "source": [
    "number = 9\n",
    "\n",
    "if number < 10:\n",
    "    print('Number is less than 10')\n",
    "elif number > 10:\n",
    "    print('Number is greater than 10')\n",
    "elif number == 10:\n",
    "    print('Number is exactly 10')\n",
    "else:\n",
    "    print('Number is probably not a number at all')"
   ]
  },
  {
   "cell_type": "code",
   "execution_count": 2,
   "metadata": {},
   "outputs": [
    {
     "name": "stdout",
     "output_type": "stream",
     "text": [
      "Your total commute time is expected to be 50 minutes.\n"
     ]
    }
   ],
   "source": [
    "commute = 30\n",
    "rain = False\n",
    "traffic = True\n",
    "\n",
    "if (rain == True) | (traffic == True):\n",
    "    if (rain == True) & (traffic == True):\n",
    "        total_commute = commute + 15 + 20\n",
    "    elif (rain == True) & (traffic == False):\n",
    "        total_commute = commute + 15\n",
    "    elif (rain == False) & (traffic == True):\n",
    "        total_commute = commute + 20\n",
    "else:\n",
    "    total_commute = commute\n",
    "\n",
    "print(\"Your total commute time is expected to be\", total_commute, \"minutes.\")\n"
   ]
  },
  {
   "cell_type": "code",
   "execution_count": 3,
   "metadata": {},
   "outputs": [
    {
     "name": "stdout",
     "output_type": "stream",
     "text": [
      "5\n",
      "6\n",
      "7\n",
      "8\n",
      "9\n",
      "10\n",
      "11\n",
      "12\n",
      "13\n",
      "14\n"
     ]
    }
   ],
   "source": [
    "for i in range(5,15):\n",
    "    print(i)"
   ]
  },
  {
   "cell_type": "code",
   "execution_count": 4,
   "metadata": {},
   "outputs": [
    {
     "name": "stdout",
     "output_type": "stream",
     "text": [
      "apple\n",
      "orange\n",
      "banana\n",
      "grapes\n",
      "pineapple\n"
     ]
    }
   ],
   "source": [
    "fruits = ['apple', 'orange', 'banana', 'grapes', 'pineapple']\n",
    "\n",
    "for fruit in fruits:\n",
    "    print(fruit)"
   ]
  },
  {
   "cell_type": "code",
   "execution_count": 5,
   "metadata": {},
   "outputs": [
    {
     "name": "stdout",
     "output_type": "stream",
     "text": [
      "Brian is 23 years old\n",
      "Amy is 22 years old\n",
      "Darlene is 47 years old\n",
      "Ralph is 32 years old\n",
      "Jordan is 28 years old\n",
      "Stephanie is 35 years old\n"
     ]
    }
   ],
   "source": [
    "ages = {'Brian':23, 'Amy':22, 'Darlene':47, 'Ralph':32, 'Jordan':28, 'Stephanie':35}\n",
    "for name, age in ages.items():\n",
    "    print(name, 'is', age, 'years old')\n"
   ]
  },
  {
   "cell_type": "code",
   "execution_count": 6,
   "metadata": {},
   "outputs": [
    {
     "name": "stdout",
     "output_type": "stream",
     "text": [
      "Total is currently 34\n",
      "Total is currently 46\n",
      "Total is currently 139\n",
      "Total is currently 922\n",
      "Total is currently 1252\n",
      "Total is currently 2148\n",
      "Total is currently 2149\n",
      "Total is currently 2204\n"
     ]
    }
   ],
   "source": [
    "num_list = [34, 12, 93, 783, 330, 896, 1, 55]\n",
    "\n",
    "total = 0\n",
    "\n",
    "for i in num_list:\n",
    "    total += i\n",
    "    print('Total is currently', total)"
   ]
  },
  {
   "cell_type": "code",
   "execution_count": 7,
   "metadata": {},
   "outputs": [
    {
     "name": "stdout",
     "output_type": "stream",
     "text": [
      "[1, 4, 9, 16, 25, 36, 49, 64, 81, 100]\n"
     ]
    }
   ],
   "source": [
    "new_list = []\n",
    "\n",
    "for i in range(1,11):\n",
    "    square = i**2\n",
    "    new_list.append(square)\n",
    "\n",
    "print(new_list)"
   ]
  },
  {
   "cell_type": "code",
   "execution_count": 10,
   "metadata": {},
   "outputs": [
    {
     "name": "stdout",
     "output_type": "stream",
     "text": [
      "Cake is in the oven.\n",
      "Cake is not done yet.\n",
      "Cake is not done yet.\n",
      "Cake is not done yet.\n",
      "It's done. Let's eat cake!!\n"
     ]
    }
   ],
   "source": [
    "total_time = 60\n",
    "minutes_elapsed = 0\n",
    "wait = 15\n",
    "\n",
    "print('Cake is in the oven.')\n",
    "minutes_elapsed += wait\n",
    "\n",
    "while minutes_elapsed < total_time:\n",
    "    print('Cake is not done yet.')\n",
    "    minutes_elapsed += wait\n",
    "    \n",
    "print(\"It's done. Let's eat cake!!\")"
   ]
  }
 ],
 "metadata": {
  "kernelspec": {
   "display_name": "Python 3",
   "language": "python",
   "name": "python3"
  },
  "language_info": {
   "codemirror_mode": {
    "name": "ipython",
    "version": 3
   },
   "file_extension": ".py",
   "mimetype": "text/x-python",
   "name": "python",
   "nbconvert_exporter": "python",
   "pygments_lexer": "ipython3",
   "version": "3.7.3"
  }
 },
 "nbformat": 4,
 "nbformat_minor": 2
}
