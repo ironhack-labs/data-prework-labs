{
 "cells": [
  {
   "cell_type": "markdown",
   "metadata": {},
   "source": [
    "# Snail and well\n",
    "\n",
    "A snail falls at the bottom of a 125 cm well. Each day the snail rises 30 cm. But at night, while sleeping, slides 20 cm because the walls are wet. How many days does it take to escape from the well?\n",
    "\n",
    "TIP: http://puzzles.nigelcoldwell.co.uk/sixtytwo.htm"
   ]
  },
  {
   "cell_type": "markdown",
   "metadata": {},
   "source": [
    "## Solución"
   ]
  },
  {
   "cell_type": "code",
   "execution_count": 1,
   "metadata": {},
   "outputs": [
    {
     "name": "stdout",
     "output_type": "stream",
     "text": [
      "Days = 10.5\n"
     ]
    }
   ],
   "source": [
    "# Assign problem data to variables with representative names\n",
    "# well height, daily advance, night retreat, accumulated distance\n",
    "well_height = 125\n",
    "daily_advance = 30\n",
    "nightly_retreat = 20\n",
    "accumulated_distance = 0\n",
    "\n",
    "# Assign 0 to the variable that represents the solution\n",
    "days = 0\n",
    "\n",
    "# Write the code that solves the problem\n",
    "while accumulated_distance < well_height:\n",
    "    accumulated_distance += daily_advance\n",
    "    days += 0.5\n",
    "    if accumulated_distance >= well_height:\n",
    "        break\n",
    "    else:\n",
    "        accumulated_distance -= nightly_retreat\n",
    "        days += 0.5\n",
    "\n",
    "# Print the result with print('Days =', days)\n",
    "print('Days =', days)\n"
   ]
  },
  {
   "cell_type": "markdown",
   "metadata": {},
   "source": [
    "## Goals\n",
    "\n",
    "1. Treatment of variables\n",
    "2. Use of loop **while**\n",
    "3. Use of conditional **if-else**\n",
    "4. Print in console"
   ]
  },
  {
   "cell_type": "markdown",
   "metadata": {},
   "source": [
    "## Bonus\n",
    "The distance traveled by the snail is now defined by a list.\n",
    "```\n",
    "advance_cm = [30, 21, 33, 77, 44, 45, 23, 45, 12, 34, 55]\n",
    "```\n",
    "How long does it take to raise the well?\n",
    "\n",
    "What is its maximum displacement in one day? And its minimum?\n",
    "\n",
    "What is its average speed during the day?\n",
    "\n",
    "What is the standard deviation of its displacement during the day?"
   ]
  },
  {
   "cell_type": "code",
   "execution_count": 16,
   "metadata": {},
   "outputs": [
    {
     "name": "stdout",
     "output_type": "stream",
     "text": [
      "Days = 4.5\n",
      "The snail's maximum displacement in a single day is 57 cm.\n",
      "The snail's minimum displacement in a single day is -8 cm.\n",
      "The snail's average daily progress is 18.09090909090909 cm.\n",
      "The standard deviation of the snail's daily displacement, in centimers, is  17.159437082600803\n"
     ]
    }
   ],
   "source": [
    "# Assign problem data to variables with representative names\n",
    "# well height, daily advance, night retreat, accumulated distance\n",
    "advance_cm = [30, 21, 33, 77, 44, 45, 23, 45, 12, 34, 55]\n",
    "well_height = 125\n",
    "daily_advance = 30\n",
    "nightly_retreat = 20\n",
    "accumulated_distance = 0\n",
    "\n",
    "# Assign 0 to the variable that represents the solution\n",
    "days = 0\n",
    "\n",
    "# Write the code that solves the problem\n",
    "while accumulated_distance < well_height:\n",
    "    for i in advance_cm:\n",
    "        accumulated_distance += i\n",
    "        days += 0.5\n",
    "        if accumulated_distance >= well_height:\n",
    "            break\n",
    "        else:\n",
    "            accumulated_distance -= nightly_retreat\n",
    "            days += 0.5\n",
    "\n",
    "\n",
    "# Print the result with print('Days =', days)\n",
    "print('Days =', days)\n",
    "\n",
    "# What is its maximum displacement in a day? And its minimum?\n",
    "daily_displacement = []\n",
    "for i in advance_cm:\n",
    "    daily_displacement.append(i - 20)\n",
    "#print(daily_displacement)\n",
    "print(\"The snail's maximum displacement in a single day is \" + str(max(daily_displacement)) + \" cm.\")\n",
    "print(\"The snail's minimum displacement in a single day is \" + str(min(daily_displacement)) + \" cm.\")\n",
    "\n",
    "# What is its average progress?\n",
    "print(\"The snail's average daily progress is \" + str(sum(daily_displacement)/len(daily_displacement)) + \" cm.\")\n",
    "\n",
    "# What is the standard deviation of the snail's displacement during the day?\n",
    "mean_displacement = (sum(daily_displacement)/len(daily_displacement))\n",
    "summation = 0\n",
    "for i in daily_displacement:\n",
    "    summation += (i - mean_displacement) ** 2\n",
    "std_dev = ((summation / len(daily_displacement)) ** 0.5)\n",
    "print(\"The standard deviation of the snail's daily displacement, in centimers, is \", std_dev)\n"
   ]
  },
  {
   "cell_type": "code",
   "execution_count": null,
   "metadata": {},
   "outputs": [],
   "source": []
  }
 ],
 "metadata": {
  "kernelspec": {
   "display_name": "Python 3",
   "language": "python",
   "name": "python3"
  },
  "language_info": {
   "codemirror_mode": {
    "name": "ipython",
    "version": 3
   },
   "file_extension": ".py",
   "mimetype": "text/x-python",
   "name": "python",
   "nbconvert_exporter": "python",
   "pygments_lexer": "ipython3",
   "version": "3.7.3"
  }
 },
 "nbformat": 4,
 "nbformat_minor": 2
}
