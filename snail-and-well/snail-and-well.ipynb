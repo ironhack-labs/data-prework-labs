{
 "cells": [
  {
   "cell_type": "markdown",
   "metadata": {},
   "source": [
    "# Snail and well\n",
    "\n",
    "A snail falls at the bottom of a 125 cm well. Each day the snail rises 30 cm. But at night, while sleeping, slides 20 cm because the walls are wet. How many days does it take to escape from the well?\n",
    "\n",
    "TIP: http://puzzles.nigelcoldwell.co.uk/sixtytwo.htm"
   ]
  },
  {
   "cell_type": "markdown",
   "metadata": {},
   "source": [
    "## Solución"
   ]
  },
  {
   "cell_type": "code",
   "execution_count": 1,
   "metadata": {},
   "outputs": [
    {
     "name": "stdout",
     "output_type": "stream",
     "text": [
      "on the last day he walks 25 cm\n",
      "Days = 11\n"
     ]
    }
   ],
   "source": [
    "# Assign problem data to variables with representative names\n",
    "# well height, daily advance, night retreat, accumulated distance\n",
    "well_height = 125\n",
    "daily_advance = 30\n",
    "night_retreat = 20\n",
    "true_distance_perday = daily_advance - night_retreat\n",
    "accumulated_distance = 0\n",
    "# Assign 0 to the variable that represents the solution\n",
    "days = 0\n",
    "\n",
    "# Write the code that solves the problem\n",
    "walk_last_day = 0\n",
    "while accumulated_distance < well_height:\n",
    "    if accumulated_distance + daily_advance < well_height:\n",
    "        accumulated_distance += true_distance_perday\n",
    "        days += 1\n",
    "    elif accumulated_distance + daily_advance >= well_height:\n",
    "        print('on the last day he walks', (well_height - accumulated_distance), 'cm')\n",
    "        walk_last_day = well_height - accumulated_distance\n",
    "        accumulated_distance += (walk_last_day)\n",
    "        days += 1\n",
    "# Print the result with print('Days =', days)\n",
    "\n",
    "print('Days =', days)"
   ]
  },
  {
   "cell_type": "markdown",
   "metadata": {},
   "source": [
    "## Goals\n",
    "\n",
    "1. Treatment of variables\n",
    "2. Use of loop **while**\n",
    "3. Use of conditional **if-else**\n",
    "4. Print in console"
   ]
  },
  {
   "cell_type": "markdown",
   "metadata": {},
   "source": [
    "## Bonus\n",
    "The distance traveled by the snail is now defined by a list.\n",
    "```\n",
    "advance_cm = [30, 21, 33, 77, 44, 45, 23, 45, 12, 34, 55]\n",
    "```\n",
    "How long does it take to raise the well?\n",
    "\n",
    "What is its maximum displacement in one day? And its minimum?\n",
    "\n",
    "What is its average speed during the day?\n",
    "\n",
    "What is the standard deviation of its displacement during the day?"
   ]
  },
  {
   "cell_type": "code",
   "execution_count": 3,
   "metadata": {},
   "outputs": [
    {
     "name": "stdout",
     "output_type": "stream",
     "text": [
      "Days = 5\n",
      "max displacement =  57\n",
      "min displacement =  1\n",
      "average displacement =  25.0\n",
      "SE =  24.13503677229434\n"
     ]
    }
   ],
   "source": [
    "# Assign problem data to variables with representative names\n",
    "# well height, daily advance, night retreat, accumulated distance\n",
    "well_height = 125\n",
    "advance_cm = [30, 21, 33, 77, 44, 45, 23, 45, 12, 34, 55]\n",
    "night_retreat = 20\n",
    "accumulated_distance = 0\n",
    "\n",
    "# Assign 0 to the variable that represents the solution\n",
    "days = 0\n",
    "\n",
    "# Write the code that solves the problem\n",
    "walk_last_day = 0\n",
    "index = 0\n",
    "while accumulated_distance < well_height:\n",
    "    if accumulated_distance + advance_cm[index] < well_height:\n",
    "        accumulated_distance += advance_cm[index] - night_retreat\n",
    "    else:\n",
    "        walk_last_day = well_height - accumulated_distance\n",
    "        accumulated_distance += (walk_last_day)\n",
    "    days +=1\n",
    "    index += 1\n",
    "    \n",
    "\n",
    "\n",
    "\n",
    "#Print the result with print('Days =', days)\n",
    "print('Days =', days)\n",
    "\n",
    "\n",
    "# What is its maximum displacement in a day? And its minimum?\n",
    "displacement_list=[]\n",
    "for i in advance_cm[:days-1]:\n",
    "    displacement_list.append(i - night_retreat)\n",
    "\n",
    "    \n",
    "    \n",
    "displacement_list.append(walk_last_day)\n",
    "\n",
    "max_displacement=max(displacement_list)\n",
    "print(\"max displacement = \", max_displacement)\n",
    "\n",
    "min_displacement=min(displacement_list)\n",
    "print(\"min displacement = \", min_displacement)\n",
    "\n",
    "# What is its average progress?\n",
    "avg_displacement=sum(displacement_list)/len(displacement_list)\n",
    "print(\"average displacement = \", avg_displacement)\n",
    "\n",
    "\n",
    "# What is the standard deviation of your displacement during the day?\n",
    "\n",
    "numerator = 0\n",
    "denominator = 0\n",
    "for i in displacement_list:\n",
    "    numerator += (i - avg_displacement)**2\n",
    "\n",
    "denominator = len(displacement_list) - 1\n",
    "se = (numerator/denominator)**0.5\n",
    "\n",
    "print(\"SE = \", se)"
   ]
  },
  {
   "cell_type": "code",
   "execution_count": null,
   "metadata": {},
   "outputs": [],
   "source": []
  },
  {
   "cell_type": "code",
   "execution_count": null,
   "metadata": {},
   "outputs": [],
   "source": []
  },
  {
   "cell_type": "code",
   "execution_count": null,
   "metadata": {},
   "outputs": [],
   "source": []
  }
 ],
 "metadata": {
  "kernelspec": {
   "display_name": "Python 3",
   "language": "python",
   "name": "python3"
  },
  "language_info": {
   "codemirror_mode": {
    "name": "ipython",
    "version": 3
   },
   "file_extension": ".py",
   "mimetype": "text/x-python",
   "name": "python",
   "nbconvert_exporter": "python",
   "pygments_lexer": "ipython3",
   "version": "3.7.3"
  }
 },
 "nbformat": 4,
 "nbformat_minor": 2
}
