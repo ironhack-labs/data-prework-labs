{
 "cells": [
  {
   "cell_type": "markdown",
   "metadata": {},
   "source": [
    "# Snail and well\n",
    "\n",
    "A snail falls at the bottom of a 125 cm well. Each day the snail rises 30 cm. But at night, while sleeping, slides 20 cm because the walls are wet. How many days does it take to escape from the well?\n",
    "\n",
    "TIP: http://puzzles.nigelcoldwell.co.uk/sixtytwo.htm"
   ]
  },
  {
   "cell_type": "markdown",
   "metadata": {},
   "source": [
    "## Solución"
   ]
  },
  {
   "cell_type": "code",
   "execution_count": 18,
   "metadata": {},
   "outputs": [
    {
     "name": "stdout",
     "output_type": "stream",
     "text": [
      "Days = 13\n"
     ]
    }
   ],
   "source": [
    "# Assign problem data to variables with representative names\n",
    "# well height, daily advance, night retreat, accumulated distance\n",
    "well_height=125\n",
    "daily_advance=30\n",
    "night_retreat=20\n",
    "accumulated_distance=[]\n",
    "\n",
    "\n",
    "# Assign 0 to the variable that represents the solution\n",
    "days=0\n",
    "\n",
    "# Write the code that solves the problem\n",
    "while sum(accumulated_distance)<= well_height:\n",
    "    accumulated_distance.append((daily_advance-night_retreat))\n",
    "    days+=1\n",
    "        \n",
    "\n",
    "# Print the result with print('Days =', days)\n",
    "print(\"Days =\", days)"
   ]
  },
  {
   "cell_type": "code",
   "execution_count": 19,
   "metadata": {},
   "outputs": [
    {
     "name": "stdout",
     "output_type": "stream",
     "text": [
      "Days = 13\n"
     ]
    }
   ],
   "source": [
    "well_height=125\n",
    "daily_advance=30\n",
    "night_retreat=20\n",
    "accumulated_distance=0\n",
    "days=0\n",
    "\n",
    "while accumulated_distance <= well_height:\n",
    "    if True:\n",
    "        accumulated_distance+=(daily_advance-night_retreat)\n",
    "        days+=1\n",
    "    else:\n",
    "        break\n",
    "        \n",
    "print(\"Days =\",days)"
   ]
  },
  {
   "cell_type": "markdown",
   "metadata": {},
   "source": [
    "## Goals\n",
    "\n",
    "1. Treatment of variables\n",
    "2. Use of loop **while**\n",
    "3. Use of conditional **if-else**\n",
    "4. Print in console"
   ]
  },
  {
   "cell_type": "markdown",
   "metadata": {},
   "source": [
    "## Bonus\n",
    "The distance traveled by the snail is now defined by a list.\n",
    "```\n",
    "advance_cm = [30, 21, 33, 77, 44, 45, 23, 45, 12, 34, 55]\n",
    "```\n",
    "How long does it take to raise the well?\n",
    "\n",
    "What is its maximum displacement in one day? And its minimum?\n",
    "\n",
    "What is its average speed during the day?\n",
    "\n",
    "What is the standard deviation of its displacement during the day?"
   ]
  },
  {
   "cell_type": "code",
   "execution_count": 37,
   "metadata": {},
   "outputs": [
    {
     "name": "stdout",
     "output_type": "stream",
     "text": [
      "Days = 6\n",
      "Max : 77\n",
      "Min : 12\n",
      "Average progress = 70\n",
      "Standard deviation: 18.037839015903106\n"
     ]
    }
   ],
   "source": [
    "# Assign problem data to variables with representative names\n",
    "# well height, daily advance, night retreat, accumulated distance\n",
    "well_height=125\n",
    "daily_advance=[30,20,33,77,44,45,23,45,12,34,55]\n",
    "night_retreat=20\n",
    "accumulated_distance=0\n",
    "\n",
    "\n",
    "# Assign 0 to the variable that represents the solution\n",
    "days=0\n",
    "\n",
    "# Write the code that solves the problem\n",
    "while accumulated_distance<=well_height:\n",
    "    if True:\n",
    "        accumulated_distance+=(daily_advance[days]-night_retreat)\n",
    "        days+=1\n",
    "    else:\n",
    "        break\n",
    "\n",
    "\n",
    "# Print the result with print('Days =', days)\n",
    "print(\"Days =\", days)\n",
    "\n",
    "# What is its maximum displacement in a day? And its minimum?\n",
    "\n",
    "print(\"Max :\", max(daily_advance))\n",
    "print(\"Min :\", min(daily_advance))\n",
    "\n",
    "# What is its average progress?\n",
    "\n",
    "print(\"Average progress =\", round(sum(daily_advance)/days))\n",
    "\n",
    "# What is the standard deviation of your displacement during the day?\n",
    "\n",
    "\n",
    "mean=sum(daily_advance)/len(daily_advance)\n",
    "varience=sum((((i-night_retreat)-mean)**2)for i in daily_advance[0:days])/len(daily_advance) \n",
    "\n",
    "st_dev=varience ** 0.5\n",
    "\n",
    "print(\"Standard deviation:\",st_dev)\n",
    "\n"
   ]
  },
  {
   "cell_type": "code",
   "execution_count": null,
   "metadata": {},
   "outputs": [],
   "source": []
  },
  {
   "cell_type": "code",
   "execution_count": null,
   "metadata": {},
   "outputs": [],
   "source": []
  }
 ],
 "metadata": {
  "kernelspec": {
   "display_name": "Python 3",
   "language": "python",
   "name": "python3"
  },
  "language_info": {
   "codemirror_mode": {
    "name": "ipython",
    "version": 3
   },
   "file_extension": ".py",
   "mimetype": "text/x-python",
   "name": "python",
   "nbconvert_exporter": "python",
   "pygments_lexer": "ipython3",
   "version": "3.7.4"
  }
 },
 "nbformat": 4,
 "nbformat_minor": 2
}
