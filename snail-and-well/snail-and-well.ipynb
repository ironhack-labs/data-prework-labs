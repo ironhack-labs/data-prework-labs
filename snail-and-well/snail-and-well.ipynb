{
 "cells": [
  {
   "cell_type": "markdown",
   "metadata": {},
   "source": [
    "# Snail and well\n",
    "\n",
    "A snail falls at the bottom of a 125 cm well. Each day the snail rises 30 cm. But at night, while sleeping, slides 20 cm because the walls are wet. How many days does it take to escape from the well?\n",
    "\n",
    "TIP: http://puzzles.nigelcoldwell.co.uk/sixtytwo.htm"
   ]
  },
  {
   "cell_type": "markdown",
   "metadata": {},
   "source": [
    "## Solución"
   ]
  },
  {
   "cell_type": "code",
   "execution_count": 12,
   "metadata": {},
   "outputs": [
    {
     "name": "stdout",
     "output_type": "stream",
     "text": "Days =  10.466666666666667\n"
    }
   ],
   "source": [
    "# Assign problem data to variables with representative names\n",
    "# well height, daily advance, night retreat, accumulated distance\n",
    "total_height = 128\n",
    "day_height = 30\n",
    "night_height = -20\n",
    "pos = 0\n",
    "\n",
    "# Assign 0 to the variable that represents the solution\n",
    "total_days = 0\n",
    "\n",
    "\n",
    "# Write the code that solves the problem\n",
    "while (pos < total_height):\n",
    "    # day part\n",
    "    if ((pos + day_height) < total_height):\n",
    "        pos += day_height\n",
    "    else:\n",
    "        left_to_rise = total_height - pos\n",
    "        # assuming 12 hours day 12hours night to calculate\n",
    "        total_days += (left_to_rise * (12 / day_height)) / 24\n",
    "        break\n",
    "    pos += night_height\n",
    "    total_days += 1\n",
    "\n",
    "\n",
    "# Print the result with print('Days =', days)\n",
    "print('Days = ', total_days)"
   ]
  },
  {
   "cell_type": "markdown",
   "metadata": {},
   "source": [
    "## Goals\n",
    "\n",
    "1. Treatment of variables\n",
    "2. Use of loop **while**\n",
    "3. Use of conditional **if-else**\n",
    "4. Print in console"
   ]
  },
  {
   "cell_type": "markdown",
   "metadata": {},
   "source": [
    "## Bonus\n",
    "The distance traveled by the snail is now defined by a list.\n",
    "```\n",
    "advance_cm = [30, 21, 33, 77, 44, 45, 23, 45, 12, 34, 55]\n",
    "```\n",
    "How long does it take to raise the well?\n",
    "\n",
    "What is its maximum displacement in one day? And its minimum?\n",
    "\n",
    "What is its average speed during the day?\n",
    "\n",
    "What is the standard deviation of its displacement during the day?"
   ]
  },
  {
   "cell_type": "code",
   "execution_count": 15,
   "metadata": {},
   "outputs": [
    {
     "name": "stdout",
     "output_type": "stream",
     "text": "Days =  5.2555555555555555\nMax =  77\nMin =  21\nAvarage =  38.0\nDeviation =  20.784609690826528\n"
    }
   ],
   "source": [
    "# Assign problem data to variables with representative names\n",
    "# well height, daily advance, night retreat, accumulated distance\n",
    "import statistics\n",
    "\n",
    "total_height = 128\n",
    "advance_cm = [30, 21, 33, 77, 44, 45, 23, 45, 12, 34, 55]\n",
    "night_height = -20\n",
    "pos = 0\n",
    "displacement_list = []\n",
    "\n",
    "# Assign 0 to the variable that represents the solution\n",
    "total_days = 0\n",
    "\n",
    "\n",
    "# Write the code that solves the problem\n",
    "for advance in advance_cm:\n",
    "    if((pos + advance) < total_height):\n",
    "        pos += advance\n",
    "        displacement_list.append(advance)\n",
    "    else:\n",
    "        left_to_rise = total_height - pos\n",
    "        displacement_list.append(left_to_rise)\n",
    "        # assuming 12 hours day 12hours night to calculate\n",
    "        total_days += (left_to_rise * (12 / advance)) / 24\n",
    "        break\n",
    "    pos += night_height\n",
    "    total_days += 1\n",
    "\n",
    "\n",
    "# Print the result with print('Days =', days)\n",
    "print('Days = ', total_days)\n",
    "\n",
    "\n",
    "# What is its maximum displacement in a day? And its minimum?\n",
    "print('Max = ', max(displacement_list))\n",
    "print('Min = ', min(displacement_list))\n",
    "\n",
    "\n",
    "# What is its average progress?\n",
    "avg = sum(displacement_list)/len(displacement_list)\n",
    "print('Avarage = ', avg)\n",
    "\n",
    "\n",
    "# What is the standard deviation of your displacement during the day?\n",
    "deviation = statistics.stdev(displacement_list)\n",
    "print('Deviation = ', deviation)\n"
   ]
  },
  {
   "cell_type": "code",
   "execution_count": null,
   "metadata": {},
   "outputs": [],
   "source": []
  }
 ],
 "metadata": {
  "kernelspec": {
   "display_name": "Python 3",
   "language": "python",
   "name": "python3"
  },
  "language_info": {
   "codemirror_mode": {
    "name": "ipython",
    "version": 3
   },
   "file_extension": ".py",
   "mimetype": "text/x-python",
   "name": "python",
   "nbconvert_exporter": "python",
   "pygments_lexer": "ipython3",
   "version": "3.7.6"
  }
 },
 "nbformat": 4,
 "nbformat_minor": 2
}