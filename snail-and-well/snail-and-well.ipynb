{
 "cells": [
  {
   "cell_type": "markdown",
   "metadata": {},
   "source": [
    "# Snail and well\n",
    "\n",
    "A snail falls at the bottom of a 125 cm well. Each day the snail rises 30 cm. But at night, while sleeping, slides 20 cm because the walls are wet. How many days does it take to escape from the well?\n",
    "\n",
    "TIP: http://puzzles.nigelcoldwell.co.uk/sixtytwo.htm"
   ]
  },
  {
   "cell_type": "markdown",
   "metadata": {},
   "source": [
    "## Solución"
   ]
  },
  {
   "cell_type": "code",
   "execution_count": 1,
   "metadata": {},
   "outputs": [
    {
     "name": "stdout",
     "output_type": "stream",
     "text": [
      "Days = 11\n"
     ]
    }
   ],
   "source": [
    "depth = -125\n",
    "rise = 30\n",
    "fall = - 20\n",
    "count_days = 0\n",
    "\n",
    "while depth < 0:\n",
    "    depth = depth + rise\n",
    "    count_days += 1\n",
    "    if depth < 0:\n",
    "        depth = depth + fall\n",
    "    else:\n",
    "        break\n",
    "\n",
    "print(\"Days =\", count_days)"
   ]
  },
  {
   "cell_type": "markdown",
   "metadata": {},
   "source": [
    "## Goals\n",
    "\n",
    "1. Treatment of variables\n",
    "2. Use of loop **while**\n",
    "3. Use of conditional **if-else**\n",
    "4. Print in console"
   ]
  },
  {
   "cell_type": "markdown",
   "metadata": {},
   "source": [
    "## Bonus\n",
    "The distance traveled by the snail is now defined by a list.\n",
    "```\n",
    "advance_cm = [30, 21, 33, 77, 44, 45, 23, 45, 12, 34, 55]\n",
    "```\n",
    "How long does it take to raise the well?\n",
    "\n",
    "What is its maximum displacement in one day? And its minimum?\n",
    "\n",
    "What is its average speed during the day?\n",
    "\n",
    "What is the standard deviation of its displacement during the day?"
   ]
  },
  {
   "cell_type": "code",
   "execution_count": 2,
   "metadata": {},
   "outputs": [
    {
     "name": "stdout",
     "output_type": "stream",
     "text": [
      "Days = 11\n",
      "The snackes maximum displacement in one day (including the night) is 57 cm.\n",
      "The snackes minimum displacement in one day (including the night) is -8 cm.\n",
      "The snake's average daily progress is 18.09 cm.\n",
      "The standard deviation of the snake's displacement during the day is 18.0 cm.\n"
     ]
    }
   ],
   "source": [
    "from statistics import mean\n",
    "from statistics import stdev\n",
    "advance_cm = [30, 21, 33, 77, 44, 45, 23, 45, 12, 34, 55]\n",
    "\n",
    "# Assign problem data to variables with representative names\n",
    "# well height, daily advance, night retreat, accumulated distance\n",
    "# Assign 0 to the variable that represents the solution\n",
    "# Write the code that solves the problem\n",
    "# Print the result with print('Days =', days)\n",
    "\n",
    "depth = - 125\n",
    "fall = - 20\n",
    "count_days = 0\n",
    "\n",
    "for rise in advance_cm:\n",
    "    while depth < 0:\n",
    "        depth = depth + rise\n",
    "        count_days += 1\n",
    "        if depth < 0:\n",
    "            depth = depth + fall\n",
    "        else:\n",
    "            break\n",
    "\n",
    "print(\"Days =\", count_days)\n",
    "\n",
    "# What is its maximum displacement in a day? And its minimum?\n",
    "\n",
    "print(\"The snackes maximum displacement in one day (including the night) is\" , max(advance_cm) + fall , \"cm.\")\n",
    "print(\"The snackes minimum displacement in one day (including the night) is\" , min(advance_cm) + fall , \"cm.\")\n",
    "\n",
    "# What is its average progress?\n",
    "\n",
    "daily_total = []\n",
    "for rise in advance_cm:\n",
    "    daily_advance = rise + fall\n",
    "    daily_total.append(daily_advance)\n",
    "\n",
    "# print(daily_total)\n",
    "\n",
    "print(\"The snake's average daily progress is\", round(mean(daily_total),2), \"cm.\")\n",
    "\n",
    "# What is the standard deviation of your displacement during the day?\n",
    "\n",
    "print(\"The standard deviation of the snake's displacement during the day is\", round(stdev(daily_total),2), \"cm.\")\n"
   ]
  },
  {
   "cell_type": "code",
   "execution_count": null,
   "metadata": {},
   "outputs": [],
   "source": []
  }
 ],
 "metadata": {
  "kernelspec": {
   "display_name": "Python 3",
   "language": "python",
   "name": "python3"
  },
  "language_info": {
   "codemirror_mode": {
    "name": "ipython",
    "version": 3
   },
   "file_extension": ".py",
   "mimetype": "text/x-python",
   "name": "python",
   "nbconvert_exporter": "python",
   "pygments_lexer": "ipython3",
   "version": "3.7.3"
  }
 },
 "nbformat": 4,
 "nbformat_minor": 2
}
