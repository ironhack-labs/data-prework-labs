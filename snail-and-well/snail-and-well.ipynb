{
 "cells": [
  {
   "cell_type": "markdown",
   "metadata": {},
   "source": [
    "# Snail and well\n",
    "\n",
    "A snail falls at the bottom of a 125 cm well. Each day the snail rises 30 cm. But at night, while sleeping, slides 20 cm because the walls are wet. How many days does it take to escape from the well?\n",
    "\n",
    "TIP: http://puzzles.nigelcoldwell.co.uk/sixtytwo.htm"
   ]
  },
  {
   "cell_type": "markdown",
   "metadata": {},
   "source": [
    "## Solución"
   ]
  },
  {
   "cell_type": "code",
   "execution_count": 43,
   "metadata": {},
   "outputs": [
    {
     "name": "stdout",
     "output_type": "stream",
     "text": [
      "accumulated distance = 130\n",
      "Days = 11\n"
     ]
    }
   ],
   "source": [
    "# Assign problem data to variables with representative names\n",
    "# well height, daily advance, night retreat, accumulated distance\n",
    "wellHeight = 125\n",
    "dailyAdvance = 30\n",
    "nightRetreat = 20\n",
    "accumulatedDistance = 0\n",
    "\n",
    "# Assign 0 to the variable that represents the solution\n",
    "days = 0\n",
    "\n",
    "# Write the code that solves the problem\n",
    "while wellHeight>accumulatedDistance:\n",
    "    accumulatedDistance += dailyAdvance\n",
    "    if wellHeight>accumulatedDistance:\n",
    "        days += 1\n",
    "        accumulatedDistance -= nightRetreat\n",
    "    else:\n",
    "        days += 1\n",
    "        break\n",
    "print('accumulated distance =', accumulatedDistance)                \n",
    "# Print the result with print('Days =', days)\n",
    "print('Days =', days)"
   ]
  },
  {
   "cell_type": "markdown",
   "metadata": {},
   "source": [
    "## Goals\n",
    "\n",
    "1. Treatment of variables\n",
    "2. Use of loop **while**\n",
    "3. Use of conditional **if-else**\n",
    "4. Print in console"
   ]
  },
  {
   "cell_type": "markdown",
   "metadata": {},
   "source": [
    "## Bonus\n",
    "The distance traveled by the snail is now defined by a list.\n",
    "```\n",
    "advance_cm = [30, 21, 33, 77, 44, 45, 23, 45, 12, 34, 55]\n",
    "```\n",
    "How long does it take to raise the well?\n",
    "\n",
    "What is its maximum displacement in one day? And its minimum?\n",
    "\n",
    "What is its average speed during the day?\n",
    "\n",
    "What is the standard deviation of its displacement during the day?"
   ]
  },
  {
   "cell_type": "code",
   "execution_count": 42,
   "metadata": {},
   "outputs": [
    {
     "name": "stdout",
     "output_type": "stream",
     "text": [
      "Days= 5\n",
      "accumulated distance = 125\n",
      "max displacement= 77\n",
      "min displacement= 12\n",
      "average displacement=38.09\n",
      "stdev= 18.00\n"
     ]
    }
   ],
   "source": [
    "import statistics\n",
    "# Assign problem data to variables with representative names\n",
    "# well height, daily advance, night retreat, accumulated distance\n",
    "wellHeight = 125\n",
    "advance_cm = [30, 21, 33, 77, 44, 45, 23, 45, 12, 34, 55]\n",
    "nightRetreat = 20\n",
    "accumulatedDistance = 0\n",
    "\n",
    "# Assign 0 to the variable that represents the solution\n",
    "days = 0\n",
    "\n",
    "# Write the code that solves the problem\n",
    "i = 0\n",
    "while wellHeight>accumulatedDistance:\n",
    "    accumulatedDistance += advance_cm[i]\n",
    "    i +=1\n",
    "    if wellHeight>accumulatedDistance:\n",
    "        days += 1\n",
    "        accumulatedDistance -= nightRetreat\n",
    "    else:\n",
    "        days += 1\n",
    "        break\n",
    "        \n",
    "print('accumulated distance =', accumulatedDistance)\n",
    "\n",
    "# Print the result with print('Days =', days)\n",
    "print('Days=', days)\n",
    "\n",
    "# # What is its maximum displacement in a day? And its minimum?\n",
    "print('max displacement=', max(advance_cm))\n",
    "print('min displacement=', min(advance_cm))\n",
    "\n",
    "# # What is its average progress?\n",
    "print('average displacement=%.2f' % statistics.mean(advance_cm))\n",
    "\n",
    "# # What is the standard deviation of your displacement during the day?\n",
    "print('stdev= %.2f' %statistics.stdev(advance_cm))\n"
   ]
  },
  {
   "cell_type": "code",
   "execution_count": null,
   "metadata": {},
   "outputs": [],
   "source": []
  }
 ],
 "metadata": {
  "kernelspec": {
   "display_name": "Python 3",
   "language": "python",
   "name": "python3"
  },
  "language_info": {
   "codemirror_mode": {
    "name": "ipython",
    "version": 3
   },
   "file_extension": ".py",
   "mimetype": "text/x-python",
   "name": "python",
   "nbconvert_exporter": "python",
   "pygments_lexer": "ipython3",
   "version": "3.7.3"
  }
 },
 "nbformat": 4,
 "nbformat_minor": 2
}
