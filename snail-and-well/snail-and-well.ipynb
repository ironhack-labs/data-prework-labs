{
 "cells": [
  {
   "cell_type": "markdown",
   "metadata": {},
   "source": [
    "# Snail and well\n",
    "\n",
    "A snail falls at the bottom of a 125 cm well. Each day the snail rises 30 cm. But at night, while sleeping, slides 20 cm because the walls are wet. How many days does it take to escape from the well?\n",
    "\n",
    "TIP: http://puzzles.nigelcoldwell.co.uk/sixtytwo.htm"
   ]
  },
  {
   "cell_type": "markdown",
   "metadata": {},
   "source": [
    "## Solución"
   ]
  },
  {
   "cell_type": "code",
   "execution_count": 1,
   "metadata": {},
   "outputs": [
    {
     "name": "stdout",
     "output_type": "stream",
     "text": [
      "Days = 11\n"
     ]
    }
   ],
   "source": [
    "# Assign problem data to variables with representative names\n",
    "# well height, daily advance, night retreat, accumulated distance\n",
    "\n",
    "well_height = 125\n",
    "daily_advance = 30\n",
    "night_retreat = 20\n",
    "accumulated_distance = 0\n",
    "advance_per_day = daily_advance - night_retreat\n",
    "\n",
    "# Assign 0 to the variable that represents the solution\n",
    "days = 0\n",
    "\n",
    "# Write the code that solves the problem\n",
    "while accumulated_distance < well_height:\n",
    "    accumulated_distance += advance_per_day\n",
    "    days +=1\n",
    "\n",
    "    if (well_height - accumulated_distance) < daily_advance:\n",
    "        break\n",
    "\n",
    "days += 1\n",
    "\n",
    "# Print the result with print('Days =', days)\n",
    "print('Days =', days)"
   ]
  },
  {
   "cell_type": "code",
   "execution_count": 2,
   "metadata": {},
   "outputs": [
    {
     "name": "stdout",
     "output_type": "stream",
     "text": [
      "Days = 10.5\n"
     ]
    }
   ],
   "source": [
    "'''Other way to get the exact number of days with decimal points'''\n",
    "\n",
    "# Assign problem data to variables with representative names\n",
    "# well height, daily advance, night retreat, accumulated distance\n",
    "well_height = 125\n",
    "daily_advance = 30\n",
    "night_retreat = 20\n",
    "accumulated_distance = 0\n",
    "advance_per_day = daily_advance - night_retreat\n",
    "\n",
    "# Assign 0 to the variable that represents the solution\n",
    "days = 0\n",
    "\n",
    "# Write the code that solves the problem\n",
    "while accumulated_distance < well_height:\n",
    "    if (well_height - accumulated_distance) < daily_advance:\n",
    "        days = ((well_height-daily_advance)/(advance_per_day))+1\n",
    "    \n",
    "    accumulated_distance += advance_per_day\n",
    "\n",
    "\n",
    "# Print the result with print('Days =', days)\n",
    "print('Days =', days)"
   ]
  },
  {
   "cell_type": "markdown",
   "metadata": {},
   "source": [
    "## Goals\n",
    "\n",
    "1. Treatment of variables\n",
    "2. Use of loop **while**\n",
    "3. Use of conditional **if-else**\n",
    "4. Print in console"
   ]
  },
  {
   "cell_type": "markdown",
   "metadata": {},
   "source": [
    "## Bonus\n",
    "The distance traveled by the snail is now defined by a list.\n",
    "```\n",
    "advance_cm = [30, 21, 33, 77, 44, 45, 23, 45, 12, 34, 55]\n",
    "```\n",
    "How long does it take to raise the well?\n",
    "\n",
    "What is its maximum displacement in one day? And its minimum?\n",
    "\n",
    "What is its average speed during the day?\n",
    "\n",
    "What is the standard deviation of its displacement during the day?"
   ]
  },
  {
   "cell_type": "code",
   "execution_count": 2,
   "metadata": {},
   "outputs": [
    {
     "name": "stdout",
     "output_type": "stream",
     "text": [
      "The actual daily displacement is: [10, 1, 13, 57, 24, 25]\n",
      "Days = 6\n",
      "The max displacement is 57\n",
      "The min displacement is 1\n",
      "The avg progress is 21.666666666666668\n",
      "The std of the actual displacement list is: 17.81\n"
     ]
    }
   ],
   "source": [
    "# Assign problem data to variables with representative names\n",
    "# well height, daily advance, night retreat, accumulated distance\n",
    "\n",
    "advance_cm = [30, 21, 33, 77, 44, 45, 23, 45, 12, 34, 55]\n",
    "well_height = 125\n",
    "night_retreat = 20\n",
    "accumulated_dist = 0\n",
    "\n",
    "# Assign 0 to the variable that represents the solution\n",
    "days_total = 0\n",
    "\n",
    "# Write the code that solves the problem\n",
    "\n",
    "'''Getting the exact daily displacement (advance - retreat)'''\n",
    "daily_displacement = []\n",
    "for i in range(len(advance_cm)):\n",
    "    adv = advance_cm[i] - night_retreat\n",
    "    daily_displacement.append(adv)\n",
    "\n",
    "    \n",
    "'''Calculating how many days in total it took to climb the well'''\n",
    "for i in daily_displacement:\n",
    "    accumulated_dist += i\n",
    "    days_total += 1\n",
    "    if accumulated_dist > well_height:\n",
    "        break\n",
    "    else: \n",
    "        continue\n",
    "\n",
    "'''Obtaining a list of the actual displacements used to climb the well''' #actual means the displacements used to climb the well in 6 days minus their respectives retreates\n",
    "actual_displacements = []\n",
    "for x in range(days_total):\n",
    "    actual_displacements.append(daily_displacement[x])\n",
    "    \n",
    "print('The actual daily displacement is:', actual_displacements)\n",
    "    \n",
    "\n",
    "# Print the result with print('Days =', days)\n",
    "print('Days =', days_total)\n",
    "\n",
    "\n",
    "# What is its maximum displacement in a day? And its minimum?\n",
    "print('The max displacement is', max(actual_displacements))\n",
    "print('The min displacement is', min(actual_displacements))\n",
    "\n",
    "\n",
    "# What is its average progress?\n",
    "mean_displacement = sum(actual_displacements)/len(actual_displacements)\n",
    "print('The avg progress is', mean_displacement)\n",
    "\n",
    "\n",
    "# What is the standard deviation of your displacement during the day?\n",
    "'''First I need to calculate the variance of the actual displacements'''\n",
    "\n",
    "var_displacement = 0\n",
    "for i in actual_displacements:\n",
    "    num = ((i - mean_displacement)**2) / (len(actual_displacements)) #assuming that the list is the entire population\n",
    "    var_displacement += num\n",
    "    \n",
    "'''From the variance, calculate the std'''\n",
    "std_displacement = var_displacement ** (1/2)\n",
    "print('The std of the actual displacement list is: %.2f' % std_displacement)\n",
    "\n"
   ]
  },
  {
   "cell_type": "code",
   "execution_count": null,
   "metadata": {},
   "outputs": [],
   "source": []
  }
 ],
 "metadata": {
  "kernelspec": {
   "display_name": "Python 3",
   "language": "python",
   "name": "python3"
  },
  "language_info": {
   "codemirror_mode": {
    "name": "ipython",
    "version": 3
   },
   "file_extension": ".py",
   "mimetype": "text/x-python",
   "name": "python",
   "nbconvert_exporter": "python",
   "pygments_lexer": "ipython3",
   "version": "3.7.3"
  }
 },
 "nbformat": 4,
 "nbformat_minor": 2
}
