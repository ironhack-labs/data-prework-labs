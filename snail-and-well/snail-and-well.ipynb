{
 "cells": [
  {
   "cell_type": "markdown",
   "metadata": {},
   "source": [
    "# Snail and well\n",
    "\n",
    "A snail falls at the bottom of a 125 cm well. Each day the snail rises 30 cm. But at night, while sleeping, slides 20 cm because the walls are wet. How many days does it take to escape from the well?\n",
    "\n",
    "TIP: http://puzzles.nigelcoldwell.co.uk/sixtytwo.htm"
   ]
  },
  {
   "cell_type": "markdown",
   "metadata": {},
   "source": [
    "## Solución"
   ]
  },
  {
   "cell_type": "code",
   "execution_count": 7,
   "metadata": {},
   "outputs": [
    {
     "name": "stdout",
     "output_type": "stream",
     "text": [
      "Days= 10.5\n"
     ]
    }
   ],
   "source": [
    "# Assign problem data to variables with representative names\n",
    "# well height, daily advance, night retreat, accumulated distance\n",
    "# Assign 0 to the variable that represents the solution\n",
    "# Write the code that solves the problem\n",
    "\n",
    "\n",
    "botton= int(0)\n",
    "snail_day= int(30)\n",
    "snail_night= int(20)\n",
    "path=[]\n",
    "days=int(0)\n",
    "\n",
    "\n",
    "while botton < 125:\n",
    "\tbotton+=snail_day\n",
    "\tpath.append(botton)\n",
    "\tif botton > 125:\n",
    "\t\tbreak\n",
    "\telse:\n",
    "\t\tbotton= botton - snail_night\n",
    "\t\tpath.append(botton)\n",
    "\n",
    "\n",
    "for i in path:\n",
    "\tdays+=0.5\n",
    "\n",
    "# Print the result with print('Days =', days)\n",
    "\n",
    "print('Days=', days)\n"
   ]
  },
  {
   "cell_type": "markdown",
   "metadata": {},
   "source": [
    "## Goals\n",
    "\n",
    "1. Treatment of variables\n",
    "2. Use of loop **while**\n",
    "3. Use of conditional **if-else**\n",
    "4. Print in console"
   ]
  },
  {
   "cell_type": "markdown",
   "metadata": {},
   "source": [
    "## Bonus\n",
    "The distance traveled by the snail is now defined by a list.\n",
    "```\n",
    "advance_cm = [30, 21, 33, 77, 44, 45, 23, 45, 12, 34, 55]\n",
    "```\n",
    "How long does it take to raise the well?\n",
    "\n",
    "What is its maximum displacement in one day? And its minimum?\n",
    "\n",
    "What is its average speed during the day?\n",
    "\n",
    "What is the standard deviation of its displacement during the day?"
   ]
  },
  {
   "cell_type": "code",
   "execution_count": 5,
   "metadata": {},
   "outputs": [
    {
     "name": "stdout",
     "output_type": "stream",
     "text": [
      "Path =  [30, 10, 40, 20, 50, 30, 60, 40, 70, 50, 80, 60, 90, 70, 100, 80, 110, 90, 120, 100, 125]\n",
      "Minimun = 10 Maximum = 125 Média = 67.86\n",
      "Desvio Padrão =  33.11\n"
     ]
    }
   ],
   "source": [
    "# Assign problem data to variables with representative names\n",
    "# well height, daily advance, night retreat, accumulated distance\n",
    "# Assign 0 to the variable that represents the solution\n",
    "# Write the code that solves the problem\n",
    "# Print the result with print('Days =', days)\n",
    "# What is its maximum displacement in a day? And its minimum?\n",
    "# What is its average progress?\n",
    "\n",
    "for index, item in enumerate(path):\n",
    "    if item > 125:\n",
    "        path[index] = 125\n",
    "    else:\n",
    "        pass\n",
    "    \n",
    "print(\"Path = \", path)\n",
    "\n",
    "average = sum(path)/ len(path)\n",
    "\n",
    "print(\"Minimun =\", min(path), \"Maximum =\", max(path), \"Média =\", \"%.2f\"%(average))\n",
    "\n",
    "\n",
    "# What is the standard deviation of your displacement during the day?\n",
    "import statistics\n",
    "\n",
    "\n",
    "print( \"Desvio Padrão = \", \"%.2f\" %(statistics.stdev(path)))\n"
   ]
  }
 ],
 "metadata": {
  "kernelspec": {
   "display_name": "Python 3",
   "language": "python",
   "name": "python3"
  },
  "language_info": {
   "codemirror_mode": {
    "name": "ipython",
    "version": 3
   },
   "file_extension": ".py",
   "mimetype": "text/x-python",
   "name": "python",
   "nbconvert_exporter": "python",
   "pygments_lexer": "ipython3",
   "version": "3.7.6"
  }
 },
 "nbformat": 4,
 "nbformat_minor": 2
}
