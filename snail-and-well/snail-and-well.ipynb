{
 "cells": [
  {
   "cell_type": "markdown",
   "metadata": {},
   "source": [
    "# Snail and well\n",
    "\n",
    "A snail falls at the bottom of a 125 cm well. Each day the snail rises 30 cm. But at night, while sleeping, slides 20 cm because the walls are wet. How many days does it take to escape from the well?\n",
    "\n",
    "TIP: http://puzzles.nigelcoldwell.co.uk/sixtytwo.htm"
   ]
  },
  {
   "cell_type": "markdown",
   "metadata": {},
   "source": [
    "## Solución"
   ]
  },
  {
   "cell_type": "code",
   "execution_count": 5,
   "metadata": {},
   "outputs": [
    {
     "name": "stdout",
     "output_type": "stream",
     "text": [
      "On day 1 the snail is 10 from the ground\n",
      "On day 2 the snail is 20 from the ground\n",
      "On day 3 the snail is 30 from the ground\n",
      "On day 4 the snail is 40 from the ground\n",
      "On day 5 the snail is 50 from the ground\n",
      "On day 6 the snail is 60 from the ground\n",
      "On day 7 the snail is 70 from the ground\n",
      "On day 8 the snail is 80 from the ground\n",
      "On day 9 the snail is 90 from the ground\n",
      "On day 10 the snail is 100 from the ground\n",
      "On day 11 the snail is 110 from the ground\n",
      "On day 12 the snail is 120 from the ground\n",
      "On day 13 the snail is 130 from the ground\n"
     ]
    }
   ],
   "source": [
    "# Assign problem data to variables with representative names\n",
    "# well height, daily advance, night retreat, accumulated distance\n",
    "\n",
    "well_height = 125\n",
    "day_rise = 30\n",
    "night_fall = -20\n",
    "accumulated_distance = 0\n",
    "\n",
    "# Assign 0 to the variable that represents the solution\n",
    "\n",
    "days = 0\n",
    "\n",
    "# Write the code that solves the problem\n",
    "\n",
    "while accumulated_distance < well_height:\n",
    "    accumulated_distance += (day_rise + night_fall)\n",
    "    days += 1\n",
    "    print(\"On day\", days , \"the snail is\", accumulated_distance,\"from the ground\")\n",
    "\n",
    "# Print the result with print('Days =', days)\n"
   ]
  },
  {
   "cell_type": "markdown",
   "metadata": {},
   "source": [
    "## Goals\n",
    "\n",
    "1. Treatment of variables\n",
    "2. Use of loop **while**\n",
    "3. Use of conditional **if-else**\n",
    "4. Print in console"
   ]
  },
  {
   "cell_type": "markdown",
   "metadata": {},
   "source": [
    "## Bonus\n",
    "The distance traveled by the snail is now defined by a list.\n",
    "```\n",
    "advance_cm = [30, 21, 33, 77, 44, 45, 23, 45, 12, 34, 55]\n",
    "```\n",
    "How long does it take to raise the well?\n",
    "\n",
    "What is its maximum displacement in one day? And its minimum?\n",
    "\n",
    "What is its average speed during the day?\n",
    "\n",
    "What is the standard deviation of its displacement during the day?"
   ]
  },
  {
   "cell_type": "code",
   "execution_count": 8,
   "metadata": {},
   "outputs": [
    {
     "name": "stdout",
     "output_type": "stream",
     "text": [
      "On day 1 the snake is 30 from the ground\n",
      "On day 2 the snake is 51 from the ground\n",
      "On day 3 the snake is 84 from the ground\n",
      "On day 4 the snake is 161 from the ground\n",
      "77 12 38.09090909090909 17.996969441850734\n"
     ]
    }
   ],
   "source": [
    "# Assign problem data to variables with representative names\n",
    "# well height, daily advance, night retreat, accumulated distance\n",
    "advance_cm = [30, 21, 33, 77, 44, 45, 23, 45, 12, 34, 55]\n",
    "accumulated_distance = 0\n",
    "\n",
    "# Assign 0 to the variable that represents the solution\n",
    "\n",
    "days = 0\n",
    "\n",
    "# Write the code that solves the problem\n",
    "\n",
    "displacement = []\n",
    "while accumulated_distance < well_height:\n",
    "    accumulated_distance += advance_cm[days]\n",
    "    days += 1\n",
    "\n",
    "\n",
    "# Print the result with print('Days =', days)\n",
    "\n",
    "    \n",
    "    print(\"On day\", days ,\"the snake is\", accumulated_distance, \"from the ground\")\n",
    "    \n",
    "    \n",
    "\n",
    "\n",
    "# What is its maximum displacement in a day? And its minimum?\n",
    "max_displacement = max(advance_cm)\n",
    "min_displacement = min(advance_cm)\n",
    "\n",
    "# What is its average progress?\n",
    "\n",
    "average_prog = sum(advance_cm)/len(advance_cm)\n",
    "\n",
    "# What is the standard deviation of your displacement during the day?\n",
    "\n",
    "from statistics import stdev\n",
    "\n",
    "std_advance = stdev(advance_cm)\n",
    "\n",
    "print(max_displacement, min_displacement, average_prog, std_advance)\n"
   ]
  },
  {
   "cell_type": "code",
   "execution_count": null,
   "metadata": {},
   "outputs": [],
   "source": []
  }
 ],
 "metadata": {
  "kernelspec": {
   "display_name": "Python 3",
   "language": "python",
   "name": "python3"
  },
  "language_info": {
   "codemirror_mode": {
    "name": "ipython",
    "version": 3
   },
   "file_extension": ".py",
   "mimetype": "text/x-python",
   "name": "python",
   "nbconvert_exporter": "python",
   "pygments_lexer": "ipython3",
   "version": "3.7.3"
  }
 },
 "nbformat": 4,
 "nbformat_minor": 2
}
