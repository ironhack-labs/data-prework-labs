{
 "cells": [
  {
   "cell_type": "markdown",
   "metadata": {},
   "source": [
    "# Snail and well\n",
    "\n",
    "A snail falls at the bottom of a 125 cm well. Each day the snail rises 30 cm. But at night, while sleeping, slides 20 cm because the walls are wet. How many days does it take to escape from the well?\n",
    "\n",
    "TIP: http://puzzles.nigelcoldwell.co.uk/sixtytwo.htm"
   ]
  },
  {
   "cell_type": "markdown",
   "metadata": {},
   "source": [
    "## Solución"
   ]
  },
  {
   "cell_type": "code",
   "execution_count": 3,
   "metadata": {},
   "outputs": [
    {
     "name": "stdout",
     "output_type": "stream",
     "text": [
      "The number of days that the snail need are:  10.5\n"
     ]
    }
   ],
   "source": [
    "# Assign problem data to variables with representative names\n",
    "# well height, daily advance, night retreat, accumulated distance\n",
    "wellH=125\n",
    "dayMove=30\n",
    "nightMove=20\n",
    "day=1\n",
    "night=0\n",
    "# Assign 0 to the variable that represents the solution\n",
    "snailH=0\n",
    "daysNeeded=0\n",
    "# Write the code that solves the problem\n",
    "\n",
    "while snailH<wellH:\n",
    "    if day==1:\n",
    "        snailH += dayMove\n",
    "        day=0\n",
    "        night=1\n",
    "        daysNeeded += 0.5\n",
    "    elif night==1:\n",
    "        snailH -= nightMove\n",
    "        day=1\n",
    "        night=0\n",
    "        daysNeeded += 0.5\n",
    "    \n",
    "    \n",
    "# Print the result with print('Days =', days)\n",
    "\n",
    "print(\"The number of days that the snail need are: \",daysNeeded)\n"
   ]
  },
  {
   "cell_type": "code",
   "execution_count": null,
   "metadata": {},
   "outputs": [],
   "source": []
  },
  {
   "cell_type": "markdown",
   "metadata": {},
   "source": [
    "## Goals\n",
    "\n",
    "1. Treatment of variables\n",
    "2. Use of loop **while**\n",
    "3. Use of conditional **if-else**\n",
    "4. Print in console"
   ]
  },
  {
   "cell_type": "markdown",
   "metadata": {},
   "source": [
    "## Bonus\n",
    "The distance traveled by the snail is now defined by a list.\n",
    "```\n",
    "advance_cm = [30, 21, 33, 77, 44, 45, 23, 45, 12, 34, 55]\n",
    "```\n",
    "How long does it take to raise the well?\n",
    "\n",
    "What is its maximum displacement in one day? And its minimum?\n",
    "\n",
    "What is its average speed during the day?\n",
    "\n",
    "What is the standard deviation of its displacement during the day?"
   ]
  },
  {
   "cell_type": "code",
   "execution_count": 2,
   "metadata": {},
   "outputs": [
    {
     "name": "stdout",
     "output_type": "stream",
     "text": [
      "The number of days that the snail need are:  4.5\n",
      "The maximum is: 57\n",
      "The minimum is:  1\n",
      "The average speed is: 27.78 cm per day\n",
      "standard deviation is: 23.51\n"
     ]
    }
   ],
   "source": [
    "# Assign problem data to variables with representative names\n",
    "# well height, daily advance, night retreat, accumulated distance\n",
    "wellH=125\n",
    "dayMove= [30, 21, 33, 77, 44, 45, 23, 45, 12, 34, 55]\n",
    "nightMove=20\n",
    "day=1\n",
    "night=0\n",
    "x=0\n",
    "displacementmax=0\n",
    "# Assign 0 to the variable that represents the solution\n",
    "snailH=0\n",
    "daysNeeded=0\n",
    "\n",
    "# Write the code that solves the problem\n",
    "while snailH<wellH:\n",
    "    if day==1:\n",
    "        snailH += dayMove[x]\n",
    "        day=0\n",
    "        night=1\n",
    "        daysNeeded += 0.5\n",
    "        x+=1\n",
    "    elif night==1:\n",
    "        snailH -= nightMove\n",
    "        day=1\n",
    "        night=0\n",
    "        daysNeeded += 0.5\n",
    "        \n",
    "\n",
    "\n",
    "# Print the result with print('Days =', days)\n",
    "print(\"The number of days that the snail need are: \",daysNeeded)\n",
    "\n",
    "# What is its maximum displacement in a day? And its minimum?\n",
    "\n",
    "maximum=max(dayMove[:x])-nightMove\n",
    "print(\"The maximum is:\",maximum)\n",
    "\n",
    "minimum=min(dayMove[:x])-nightMove\n",
    "print(\"The minimum is: \",minimum)\n",
    "\n",
    "\n",
    "# What is its average progress?\n",
    "average=float(wellH/daysNeeded)\n",
    "print(\"The average speed is: %.2f cm per day\" %average)\n",
    "\n",
    "# What is the standard deviation of your displacement during the day?\n",
    "summation=0\n",
    "for cm in dayMove[:x]:\n",
    "    summation+=((cm-average)**2)\n",
    "\n",
    "stdev=((summation/x))**0.5\n",
    "\n",
    "print(\"standard deviation is: %.2f\" %stdev)"
   ]
  },
  {
   "cell_type": "code",
   "execution_count": null,
   "metadata": {},
   "outputs": [],
   "source": []
  }
 ],
 "metadata": {
  "kernelspec": {
   "display_name": "Python 3",
   "language": "python",
   "name": "python3"
  }
 },
 "nbformat": 4,
 "nbformat_minor": 2
}
