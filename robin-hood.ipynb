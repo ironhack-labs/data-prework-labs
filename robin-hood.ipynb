{
 "cells": [
  {
   "cell_type": "markdown",
   "metadata": {},
   "source": [
    "# Robin Hood:\n",
    "We are in a competition to win the archery contest in Sherwood. With our bow and arrows we shoot on a target and try to hit as close as possible to the center.\n",
    "\n",
    "The center of the target is represented by the values (0, 0) on the coordinate axes.\n",
    "\n",
    "![](images/arrows.jpg)\n",
    "\n",
    "## Goals:\n",
    "* data structures: lists, sets, tuples\n",
    "* logical operators: if-elif-else\n",
    "* loop: while/for\n",
    "* minimum (optional sorting)\n",
    "\n",
    "## Description:\n",
    "In the 2-dimensional space, a point can be defined by a pair of values that correspond to the horizontal coordinate (x) and the vertical coordinate (y). The space can be divided into 4 zones (quadrants): Q1, Q2, Q3, Q4. Whose single point of union is the point (0, 0).\n",
    "\n",
    "If a point is in Q1 both its x coordinate and the y are positive. I leave a link to wikipedia to familiarize yourself with these quadrants.\n",
    "\n",
    "https://en.wikipedia.org/wiki/Cartesian_coordinate_system\n",
    "\n",
    "https://en.wikipedia.org/wiki/Euclidean_distance\n",
    "\n",
    "## Shots\n",
    "```\n",
    "points = [(4, 5), (-0, 2), (4, 7), (1, -3), (3, -2), (4, 5),\n",
    "          (3, 2), (5, 7), (-5, 7), (2, 2), (-4, 5), (0, -2),\n",
    "          (-4, 7), (-1, 3), (-3, 2), (-4, -5), (-3, 2),\n",
    "          (5, 7), (5, 7), (2, 2), (9, 9), (-8, -9)]\n",
    "```\n",
    "\n",
    "## Tasks\n",
    "1. Robin Hood is famous for hitting an arrow with another arrow. Did you get it?\n",
    "2. Calculate how many arrows have fallen in each quadrant.\n",
    "3. Find the point closest to the center. Calculate its distance to the center. \n",
    "4. If the target has a radius of 9, calculate the number of arrows that must be picked up in the forest."
   ]
  },
  {
   "cell_type": "code",
   "execution_count": 19,
   "metadata": {},
   "outputs": [],
   "source": [
    "# Variables\n",
    "\n",
    "points = [(4, 5), (-0, 2), (4, 7), (1, -3), (3, -2), (4, 5),\n",
    "          (3, 2), (5, 7), (-5, 7), (2, 2), (-4, 5), (0, -2),\n",
    "          (-4, 7), (-1, 3), (-3, 2), (-4, -5), (-3, 2),\n",
    "          (5, 7), (5, 7), (2, 2), (9, 9), (-8, -9)]"
   ]
  },
  {
   "cell_type": "code",
   "execution_count": 21,
   "metadata": {},
   "outputs": [
    {
     "name": "stdout",
     "output_type": "stream",
     "text": [
      "Counter({(5, 7): 3, (4, 5): 2, (2, 2): 2, (-3, 2): 2, (0, 2): 1, (4, 7): 1, (1, -3): 1, (3, -2): 1, (3, 2): 1, (-5, 7): 1, (-4, 5): 1, (0, -2): 1, (-4, 7): 1, (-1, 3): 1, (-4, -5): 1, (9, 9): 1, (-8, -9): 1})\n",
      "Other way to find the duplicates :\n",
      "(4, 5) : 2 arrows\n",
      "(5, 7) : 3 arrows\n",
      "(2, 2) : 2 arrows\n",
      "(-3, 2) : 2 arrows\n"
     ]
    }
   ],
   "source": [
    "# 1. Robin Hood is famous for hitting an arrow with another arrow. Did you get it ?\n",
    "\n",
    "import collections\n",
    "\n",
    "counter = Counter(points)\n",
    "print(counter)\n",
    "\n",
    "print(\"Other way to find the duplicates :\")\n",
    "\n",
    "def count(points):\n",
    "    shot = False\n",
    "    arrows = []\n",
    "    cnt_arrows = 0\n",
    "    for p in points:\n",
    "        if p in arrows:\n",
    "            shot = True\n",
    "            continue\n",
    "        else:\n",
    "            cnt_arrows = 0\n",
    "            for o in points:\n",
    "                if o[0] == p[0] and o[1] == p[1]:\n",
    "                    cnt_arrows += 1\n",
    "                    \n",
    "            if(cnt_arrows > 1):\n",
    "                print(p, \":\", cnt_arrows, \"arrows\")\n",
    "            arrows.append(p)\n",
    "    \n",
    "    if shot == False:\n",
    "        print(\"No duplicates\")\n",
    "\n",
    "count(points)\n"
   ]
  },
  {
   "cell_type": "code",
   "execution_count": 31,
   "metadata": {},
   "outputs": [
    {
     "name": "stdout",
     "output_type": "stream",
     "text": [
      "Q1 : 11 arrows\n",
      "Q2 : 6 arrows\n",
      "Q3 : 2 arrows\n",
      "Q4 : 3 arrows\n",
      "Center : 0 arrows\n"
     ]
    }
   ],
   "source": [
    "# 2. Calculate how many arrows have fallen in each quadrant.\n",
    "\n",
    "Q1 = []\n",
    "Q2 = []\n",
    "Q3 = []\n",
    "Q4 = []\n",
    "center = []\n",
    "\n",
    "for p in points:\n",
    "    if p[0] >= 0:\n",
    "        x = True\n",
    "    elif p[0] < 0:\n",
    "        x = False\n",
    "    else:\n",
    "        x = 0\n",
    "    \n",
    "    if p[1] >= 0:\n",
    "        y = True\n",
    "    elif p[1] < 0:\n",
    "        y = False\n",
    "    else:\n",
    "        y = 0\n",
    "        \n",
    "    if (x == True) & (y == True):\n",
    "        Q1.append(p)\n",
    "    elif (x == False) & (y == True):\n",
    "        Q2.append(p)\n",
    "    elif (x == True) & (y == False):\n",
    "        Q4.append(p)\n",
    "    elif (x == False) & (y == False):\n",
    "        Q3.append(p)\n",
    "    else:\n",
    "        center.append(p)\n",
    "\n",
    "#print(\"Q1 :\", Q1)\n",
    "#print(\"Q2 :\", Q2)\n",
    "#print(\"Q3 :\", Q3)\n",
    "#print(\"Q4 :\", Q4)\n",
    "#print(\"Center :\", center)\n",
    "\n",
    "print(\"Q1 :\", len(Q1), \"arrows\")\n",
    "print(\"Q2 :\", len(Q2), \"arrows\")\n",
    "print(\"Q3 :\", len(Q3), \"arrows\")\n",
    "print(\"Q4 :\", len(Q4), \"arrows\")\n",
    "print(\"Center :\", len(center), \"arrows\")\n",
    "        \n"
   ]
  },
  {
   "cell_type": "code",
   "execution_count": 72,
   "metadata": {},
   "outputs": [
    {
     "name": "stdout",
     "output_type": "stream",
     "text": [
      "The closest arrows to the center are [(0, 2), (0, -2)]\n",
      "Its distance from center is 2.0\n"
     ]
    }
   ],
   "source": [
    "# 3. Find the point closest to the center. Calculate its distance to the center\n",
    "# Defining a function that calculates the distance to the center can help.\n",
    "import math\n",
    "\n",
    "dist_points = []\n",
    "\n",
    "for p in points:\n",
    "    dist_points.append(math.sqrt((p[0]**2)+(p[1]**2)))\n",
    "\n",
    "#print(dist_points)\n",
    "\n",
    "dic_points = dict(zip(points, dist_points))\n",
    "\n",
    "#print(dic_points)\n",
    "\n",
    "closest_arrows = []\n",
    "for arrow, distance in dic_points.items():\n",
    "    if distance == min(dist_points):\n",
    "        closest_arrows.append(arrow)\n",
    "\n",
    "print(\"The closest arrows to the center are\", closest_arrows)\n",
    "print(\"Its distance from center is\", min(dist_points))\n",
    "#print(\"The closest arrow to the center are\", list(dic_points.keys())[list(dic_points.values()).index(2.0)])\n"
   ]
  },
  {
   "cell_type": "code",
   "execution_count": 44,
   "metadata": {},
   "outputs": [
    {
     "name": "stdout",
     "output_type": "stream",
     "text": [
      "2 arrows must be picked out in the forest.\n"
     ]
    }
   ],
   "source": [
    "# 4. If the target has a radius of 9, calculate the number of arrows that \n",
    "# must be picked up in the forest.\n",
    "\n",
    "arrows_out = []\n",
    "for d in dist_points:\n",
    "    if d > 9:\n",
    "        arrows_out.append(d)\n",
    "        \n",
    "print(len(arrows_out), \"arrows must be picked out in the forest.\")\n",
    "        "
   ]
  },
  {
   "cell_type": "code",
   "execution_count": null,
   "metadata": {},
   "outputs": [],
   "source": []
  }
 ],
 "metadata": {
  "kernelspec": {
   "display_name": "Python 3",
   "language": "python",
   "name": "python3"
  },
  "language_info": {
   "codemirror_mode": {
    "name": "ipython",
    "version": 3
   },
   "file_extension": ".py",
   "mimetype": "text/x-python",
   "name": "python",
   "nbconvert_exporter": "python",
   "pygments_lexer": "ipython3",
   "version": "3.7.6"
  }
 },
 "nbformat": 4,
 "nbformat_minor": 2
}
